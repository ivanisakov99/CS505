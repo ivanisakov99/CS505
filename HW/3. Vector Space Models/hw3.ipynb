{
 "cells": [
  {
   "cell_type": "markdown",
   "id": "9db508d8",
   "metadata": {
    "papermill": {
     "duration": 0.029106,
     "end_time": "2022-07-07T02:22:13.335086",
     "exception": false,
     "start_time": "2022-07-07T02:22:13.305980",
     "status": "completed"
    },
    "tags": []
   },
   "source": [
    "# Assignment 3 (100 pts) - Vector Space Models\n",
    "---"
   ]
  },
  {
   "cell_type": "markdown",
   "id": "e3f6d9f9",
   "metadata": {
    "papermill": {
     "duration": 0.027232,
     "end_time": "2022-07-07T02:22:13.389790",
     "exception": false,
     "start_time": "2022-07-07T02:22:13.362558",
     "status": "completed"
    },
    "tags": []
   },
   "source": [
    "In this assignment, you will learn about **vector space model**, and use python libraries such as **spacy**, **sklearn**, **gensim**, and **huggingface**, which are popular in NLP."
   ]
  },
  {
   "cell_type": "markdown",
   "id": "9dafdf32",
   "metadata": {
    "papermill": {
     "duration": 0.021816,
     "end_time": "2022-07-07T02:22:13.437292",
     "exception": false,
     "start_time": "2022-07-07T02:22:13.415476",
     "status": "completed"
    },
    "tags": []
   },
   "source": [
    "## Problem 1. Vector Space Models (65 pts)\n",
    "---"
   ]
  },
  {
   "cell_type": "markdown",
   "id": "1adf3bbf",
   "metadata": {
    "papermill": {
     "duration": 0.015163,
     "end_time": "2022-07-07T02:22:13.466916",
     "exception": false,
     "start_time": "2022-07-07T02:22:13.451753",
     "status": "completed"
    },
    "tags": []
   },
   "source": [
    "The file: *will_play_text.csv* contains lines from William Shakespeare’s plays. The second column of the file contains the name of the play, while the fifth and the sixth contain the name of the character who spoke and what they spoke, respectively. **Tokenize** and **lower case** each line in *will_play_text.csv* using spacy. The file *vocab.txt* lists the words in the vocabulary, while the file *play_names.txt* lists the names of the plays. For the following questions, include generated visualizations in your answer sheet."
   ]
  },
  {
   "cell_type": "code",
   "execution_count": 1,
   "id": "07e145e4",
   "metadata": {
    "execution": {
     "iopub.execute_input": "2022-07-07T02:22:13.498414Z",
     "iopub.status.busy": "2022-07-07T02:22:13.497622Z",
     "iopub.status.idle": "2022-07-07T02:22:30.797416Z",
     "shell.execute_reply": "2022-07-07T02:22:30.795667Z"
    },
    "papermill": {
     "duration": 17.319317,
     "end_time": "2022-07-07T02:22:30.800903",
     "exception": false,
     "start_time": "2022-07-07T02:22:13.481586",
     "status": "completed"
    },
    "tags": []
   },
   "outputs": [],
   "source": [
    "%%capture\n",
    "%pip install sentence-transformers"
   ]
  },
  {
   "cell_type": "code",
   "execution_count": 2,
   "id": "6e3d8fcf",
   "metadata": {
    "execution": {
     "iopub.execute_input": "2022-07-07T02:22:30.832737Z",
     "iopub.status.busy": "2022-07-07T02:22:30.832310Z",
     "iopub.status.idle": "2022-07-07T02:22:43.912631Z",
     "shell.execute_reply": "2022-07-07T02:22:43.911263Z"
    },
    "papermill": {
     "duration": 13.099162,
     "end_time": "2022-07-07T02:22:43.915641",
     "exception": false,
     "start_time": "2022-07-07T02:22:30.816479",
     "status": "completed"
    },
    "tags": []
   },
   "outputs": [
    {
     "name": "stdout",
     "output_type": "stream",
     "text": [
      "Device: cuda\n"
     ]
    }
   ],
   "source": [
    "import pandas as pd\n",
    "import spacy\n",
    "from sklearn.feature_extraction.text import CountVectorizer, TfidfVectorizer\n",
    "from sklearn.decomposition import PCA\n",
    "from sklearn.metrics.pairwise import cosine_similarity\n",
    "import matplotlib.pyplot as plt\n",
    "import numpy as np\n",
    "from itertools import combinations, product\n",
    "from collections import defaultdict\n",
    "import nltk\n",
    "from gensim.models import Word2Vec\n",
    "from tqdm import tqdm\n",
    "from sentence_transformers import SentenceTransformer\n",
    "import torch\n",
    "\n",
    "device = torch.device('cuda' if torch.cuda.is_available() else 'cpu')\n",
    "print('Device:', device)\n",
    "\n",
    "path = '/kaggle/input/cs505-hw3/'\n",
    "nlp = spacy.load('en_core_web_sm')"
   ]
  },
  {
   "cell_type": "code",
   "execution_count": 3,
   "id": "92f8dcc5",
   "metadata": {
    "execution": {
     "iopub.execute_input": "2022-07-07T02:22:43.948205Z",
     "iopub.status.busy": "2022-07-07T02:22:43.947509Z",
     "iopub.status.idle": "2022-07-07T02:22:44.847600Z",
     "shell.execute_reply": "2022-07-07T02:22:44.846139Z"
    },
    "papermill": {
     "duration": 0.919067,
     "end_time": "2022-07-07T02:22:44.850364",
     "exception": false,
     "start_time": "2022-07-07T02:22:43.931297",
     "status": "completed"
    },
    "tags": []
   },
   "outputs": [
    {
     "data": {
      "text/html": [
       "<div>\n",
       "<style scoped>\n",
       "    .dataframe tbody tr th:only-of-type {\n",
       "        vertical-align: middle;\n",
       "    }\n",
       "\n",
       "    .dataframe tbody tr th {\n",
       "        vertical-align: top;\n",
       "    }\n",
       "\n",
       "    .dataframe thead th {\n",
       "        text-align: right;\n",
       "    }\n",
       "</style>\n",
       "<table border=\"1\" class=\"dataframe\">\n",
       "  <thead>\n",
       "    <tr style=\"text-align: right;\">\n",
       "      <th></th>\n",
       "      <th>Play</th>\n",
       "      <th>Text</th>\n",
       "      <th>Genre</th>\n",
       "    </tr>\n",
       "  </thead>\n",
       "  <tbody>\n",
       "    <tr>\n",
       "      <th>0</th>\n",
       "      <td>A Comedy of Errors</td>\n",
       "      <td>''tis dinner-time,' quoth i; 'my gold!' quoth ...</td>\n",
       "      <td>Comedy</td>\n",
       "    </tr>\n",
       "    <tr>\n",
       "      <th>1</th>\n",
       "      <td>A Midsummer nights dream</td>\n",
       "      <td>'a tedious brief scene of young pyramus 'littl...</td>\n",
       "      <td>Comedy</td>\n",
       "    </tr>\n",
       "    <tr>\n",
       "      <th>2</th>\n",
       "      <td>A Winters Tale</td>\n",
       "      <td>'fore your queen died, she was more worth such...</td>\n",
       "      <td>Comedy</td>\n",
       "    </tr>\n",
       "    <tr>\n",
       "      <th>3</th>\n",
       "      <td>Alls well that ends well</td>\n",
       "      <td>'after my flame lacks oil, to be the snuff 'bu...</td>\n",
       "      <td>Comedy</td>\n",
       "    </tr>\n",
       "    <tr>\n",
       "      <th>4</th>\n",
       "      <td>Antony and Cleopatra</td>\n",
       "      <td>'but yet' is as a gaoler to bring forth 'good ...</td>\n",
       "      <td>Tradegy</td>\n",
       "    </tr>\n",
       "  </tbody>\n",
       "</table>\n",
       "</div>"
      ],
      "text/plain": [
       "                       Play  \\\n",
       "0        A Comedy of Errors   \n",
       "1  A Midsummer nights dream   \n",
       "2            A Winters Tale   \n",
       "3  Alls well that ends well   \n",
       "4      Antony and Cleopatra   \n",
       "\n",
       "                                                Text    Genre  \n",
       "0  ''tis dinner-time,' quoth i; 'my gold!' quoth ...   Comedy  \n",
       "1  'a tedious brief scene of young pyramus 'littl...   Comedy  \n",
       "2  'fore your queen died, she was more worth such...   Comedy  \n",
       "3  'after my flame lacks oil, to be the snuff 'bu...   Comedy  \n",
       "4  'but yet' is as a gaoler to bring forth 'good ...  Tradegy  "
      ]
     },
     "execution_count": 3,
     "metadata": {},
     "output_type": "execute_result"
    }
   ],
   "source": [
    "data = pd.read_csv(path + 'will_play_text.csv', delimiter=';', header=None)\n",
    "data = data.drop(columns=[0, 2, 3])\n",
    "data.columns = ['Play', 'Character', 'Text']\n",
    "data = data.dropna()\n",
    "\n",
    "df = data.sort_values(['Play', 'Text']).groupby('Play', sort=False)\n",
    "df = df['Text'].apply(' '.join).reset_index(name='Text')\n",
    "\n",
    "comedies = [\n",
    "    'The Tempest', 'Two Gentlemen of Verona', 'Merry Wives of Windsor',\n",
    "    'Measure for measure', 'A Comedy of Errors', 'Much Ado about nothing',\n",
    "    'Loves Labours Lost', 'A Midsummer nights dream', 'Merchant of Venice',\n",
    "    'As you like it', 'Taming of the Shrew', 'Alls well that ends well',\n",
    "    'Twelfth Night', 'A Winters Tale', 'Pericles'\n",
    "]\n",
    "tragedies = [\n",
    "    'Troilus and Cressida',\n",
    "    'Coriolanus',\n",
    "    'Titus Andronicus',\n",
    "    'Romeo and Juliet',\n",
    "    'Timon of Athens',\n",
    "    'Julius Caesar',\n",
    "    'macbeth',\n",
    "    'Hamlet',\n",
    "    'King Lear',\n",
    "    'Othello',\n",
    "    'Antony and Cleopatra',\n",
    "    'Cymbeline',\n",
    "]\n",
    "histories = [\n",
    "    'King John',\n",
    "    'Richard II',\n",
    "    'Henry IV',\n",
    "    'Henry V',\n",
    "    'Henry VI Part 1',\n",
    "    'Henry VI Part 2',\n",
    "    'Henry VI Part 3',\n",
    "    'Richard III',\n",
    "    'Henry VIII',\n",
    "]\n",
    "\n",
    "genres = []\n",
    "for play in df['Play'].values:\n",
    "    if play in comedies:\n",
    "        genres.append('Comedy')\n",
    "    elif play in tragedies:\n",
    "        genres.append('Tradegy')\n",
    "    else:\n",
    "        genres.append('History')\n",
    "\n",
    "df['Genre'] = genres\n",
    "\n",
    "df['Text'] = df['Text'].apply(\n",
    "    lambda x: ' '.join(x.lower() for x in str(x).split()))\n",
    "\n",
    "df.head()"
   ]
  },
  {
   "cell_type": "code",
   "execution_count": 4,
   "id": "05ae943f",
   "metadata": {
    "execution": {
     "iopub.execute_input": "2022-07-07T02:22:44.886205Z",
     "iopub.status.busy": "2022-07-07T02:22:44.884862Z",
     "iopub.status.idle": "2022-07-07T02:22:44.910463Z",
     "shell.execute_reply": "2022-07-07T02:22:44.909088Z"
    },
    "papermill": {
     "duration": 0.047158,
     "end_time": "2022-07-07T02:22:44.913223",
     "exception": false,
     "start_time": "2022-07-07T02:22:44.866065",
     "status": "completed"
    },
    "tags": []
   },
   "outputs": [],
   "source": [
    "vocab = []\n",
    "with open(path + 'vocab.txt') as f:\n",
    "    for line in f:\n",
    "        vocab.append(line.strip())"
   ]
  },
  {
   "cell_type": "markdown",
   "id": "23677d0e",
   "metadata": {
    "papermill": {
     "duration": 0.014446,
     "end_time": "2022-07-07T02:22:44.943172",
     "exception": false,
     "start_time": "2022-07-07T02:22:44.928726",
     "status": "completed"
    },
    "tags": []
   },
   "source": [
    "### 1. (5 pts) Create a term-document matrix where each row represents a word in the vocabulary and each column represents a play. Each entry in this matrix represents the number of times a particular word (defined by the row) occurs in a particular play (defined by the column). Use CountVectorizer in sklearn to create the matrix, using the file vocab.txt as input for the vocabulary parameter. From your term-document matrix, use PCA in sklearn to create a 2-dimensional representation of each play. Visualize these representations to see which plays are most similar to each other. Include the visualization in your answer sheet. You can follow the tutorial [here](https://machinelearningmastery.com/develop-word-embeddings-python-gensim/) to create the visualization."
   ]
  },
  {
   "cell_type": "code",
   "execution_count": 5,
   "id": "15e021bf",
   "metadata": {
    "execution": {
     "iopub.execute_input": "2022-07-07T02:22:44.976350Z",
     "iopub.status.busy": "2022-07-07T02:22:44.974221Z",
     "iopub.status.idle": "2022-07-07T02:22:46.885787Z",
     "shell.execute_reply": "2022-07-07T02:22:46.884451Z"
    },
    "papermill": {
     "duration": 1.931023,
     "end_time": "2022-07-07T02:22:46.888980",
     "exception": false,
     "start_time": "2022-07-07T02:22:44.957957",
     "status": "completed"
    },
    "tags": []
   },
   "outputs": [
    {
     "data": {
      "image/png": "[encoded data removed]",
      "text/plain": [
       "<Figure size 800x640 with 1 Axes>"
      ]
     },
     "metadata": {
      "needs_background": "light"
     },
     "output_type": "display_data"
    }
   ],
   "source": [
    "def showPlays(v):\n",
    "    vectorizer = v(stop_words='english', vocabulary=vocab)\n",
    "    vectors = vectorizer.fit_transform(df['Text'])\n",
    "\n",
    "    matrix = pd.DataFrame(vectors.todense())\n",
    "    matrix.columns = vectorizer.get_feature_names_out()\n",
    "    matrix = matrix.T\n",
    "    matrix.columns = df['Play'].values\n",
    "\n",
    "    pca = PCA(n_components=2)\n",
    "    term_doc_pca = pca.fit_transform(matrix.T)\n",
    "\n",
    "    colours = {'Comedy': 'red', 'Tradegy': 'green', 'History': 'blue'}\n",
    "    _ = plt.figure(figsize=(10, 8), dpi=80)\n",
    "    groups = pd.DataFrame({\n",
    "        'x': term_doc_pca[:, 0],\n",
    "        'y': term_doc_pca[:, 1],\n",
    "        'genre': df['Genre'].values\n",
    "    }).groupby('genre')\n",
    "\n",
    "    for genre, point in groups:\n",
    "        plt.plot(point['x'],\n",
    "                 point['y'],\n",
    "                 marker='o',\n",
    "                 linestyle='',\n",
    "                 label=genre,\n",
    "                 color=colours[genre])\n",
    "\n",
    "    for i, word in enumerate(df['Play'].values):\n",
    "        plt.annotate(word, xy=(term_doc_pca[i, 0], term_doc_pca[i, 1]))\n",
    "\n",
    "    plt.title('Using ' + str(v.__name__))\n",
    "    plt.axis('off')\n",
    "    plt.legend()\n",
    "    plt.show()\n",
    "\n",
    "\n",
    "showPlays(CountVectorizer)"
   ]
  },
  {
   "cell_type": "markdown",
   "id": "684272cf",
   "metadata": {
    "papermill": {
     "duration": 0.015928,
     "end_time": "2022-07-07T02:22:46.921146",
     "exception": false,
     "start_time": "2022-07-07T02:22:46.905218",
     "status": "completed"
    },
    "tags": []
   },
   "source": [
    "### 2. (2 pts) What plays are similar to each other? Do they match the grouping of Shakespeare’s plays into comedies, histories, and tragedies [here](https://en.wikipedia.org/wiki/Shakespeare%27s_plays#Canonical_plays)?"
   ]
  },
  {
   "cell_type": "markdown",
   "id": "75931dc8",
   "metadata": {
    "papermill": {
     "duration": 0.015129,
     "end_time": "2022-07-07T02:22:46.951629",
     "exception": false,
     "start_time": "2022-07-07T02:22:46.936500",
     "status": "completed"
    },
    "tags": []
   },
   "source": [
    "-> answer\n"
   ]
  },
  {
   "cell_type": "markdown",
   "id": "ecbdb573",
   "metadata": {
    "papermill": {
     "duration": 0.014977,
     "end_time": "2022-07-07T02:22:46.982210",
     "exception": false,
     "start_time": "2022-07-07T02:22:46.967233",
     "status": "completed"
    },
    "tags": []
   },
   "source": [
    "### 3. (3 pts) Create another term-document matrix where each row represents a word in the vocabulary and each column represents a play, but with TFIDF counts (using TFIDFVectorizer in sklearn and vocab.txt for vocabulary). Use PCA again on these TFIDF term-document matrix and visualize the plays. Include the visualization in your answer sheet."
   ]
  },
  {
   "cell_type": "code",
   "execution_count": 6,
   "id": "5435494b",
   "metadata": {
    "execution": {
     "iopub.execute_input": "2022-07-07T02:22:47.015475Z",
     "iopub.status.busy": "2022-07-07T02:22:47.014776Z",
     "iopub.status.idle": "2022-07-07T02:22:48.470311Z",
     "shell.execute_reply": "2022-07-07T02:22:48.468855Z"
    },
    "papermill": {
     "duration": 1.475546,
     "end_time": "2022-07-07T02:22:48.473150",
     "exception": false,
     "start_time": "2022-07-07T02:22:46.997604",
     "status": "completed"
    },
    "tags": []
   },
   "outputs": [
    {
     "data": {
      "image/png": "[encoded data removed]",
      "text/plain": [
       "<Figure size 800x640 with 1 Axes>"
      ]
     },
     "metadata": {
      "needs_background": "light"
     },
     "output_type": "display_data"
    }
   ],
   "source": [
    "showPlays(TfidfVectorizer)"
   ]
  },
  {
   "cell_type": "markdown",
   "id": "f6bbe561",
   "metadata": {
    "papermill": {
     "duration": 0.015711,
     "end_time": "2022-07-07T02:22:48.505830",
     "exception": false,
     "start_time": "2022-07-07T02:22:48.490119",
     "status": "completed"
    },
    "tags": []
   },
   "source": [
    "### 4. (2 pts) Does using TFIDF give you better grouping of plays? Why do you think so?"
   ]
  },
  {
   "cell_type": "markdown",
   "id": "1ee9b01b",
   "metadata": {
    "papermill": {
     "duration": 0.015784,
     "end_time": "2022-07-07T02:22:48.537913",
     "exception": false,
     "start_time": "2022-07-07T02:22:48.522129",
     "status": "completed"
    },
    "tags": []
   },
   "source": [
    "-> answer\n"
   ]
  },
  {
   "cell_type": "markdown",
   "id": "56e0dd4d",
   "metadata": {
    "papermill": {
     "duration": 0.015987,
     "end_time": "2022-07-07T02:22:48.570485",
     "exception": false,
     "start_time": "2022-07-07T02:22:48.554498",
     "status": "completed"
    },
    "tags": []
   },
   "source": [
    "### 5. (4 pts) Create a word-word matrix where each row (and each column) represents a word in the vocabulary (vocab.txt). Each entry in this matrix represents the number of times a particular word (defined by the row) co-occurs with another word (defined by the column) in a sentence (i.e., line in will play text.csv). Using the row word vectors, create a representation of a play as the average of all the word vectors in the play. Use these vector representations of plays to compute average pairwise cosine-similarity between plays that are comedies (do not include self-similarities). You can use the grouping of plays in [here](https://en.wikipedia.org/wiki/Shakespeare%27s_plays#Canonical_plays)."
   ]
  },
  {
   "cell_type": "code",
   "execution_count": 7,
   "id": "de1e537d",
   "metadata": {
    "execution": {
     "iopub.execute_input": "2022-07-07T02:22:48.606487Z",
     "iopub.status.busy": "2022-07-07T02:22:48.604283Z",
     "iopub.status.idle": "2022-07-07T02:22:58.069846Z",
     "shell.execute_reply": "2022-07-07T02:22:58.068497Z"
    },
    "papermill": {
     "duration": 9.486949,
     "end_time": "2022-07-07T02:22:58.073336",
     "exception": false,
     "start_time": "2022-07-07T02:22:48.586387",
     "status": "completed"
    },
    "tags": []
   },
   "outputs": [
    {
     "name": "stderr",
     "output_type": "stream",
     "text": [
      "/opt/conda/lib/python3.7/site-packages/scipy/sparse/_index.py:125: SparseEfficiencyWarning: Changing the sparsity structure of a csc_matrix is expensive. lil_matrix is more efficient.\n",
      "  self._set_arrayXarray(i, j, x)\n"
     ]
    }
   ],
   "source": [
    "vectorizer = CountVectorizer(stop_words='english', vocabulary=vocab)\n",
    "\n",
    "lines = []\n",
    "for text in df['Text'].values:\n",
    "    lines.append(text)\n",
    "mat = vectorizer.fit_transform(lines)\n",
    "mat.columns = vectorizer.get_feature_names_out()\n",
    "mat = (mat.T * mat)\n",
    "mat.setdiag(0)\n",
    "mat = mat.toarray()\n",
    "\n",
    "word_to_index = {word: i for i, word in enumerate(vocab)}\n",
    "index_to_word = [word for _, word in enumerate(word_to_index)]\n",
    "word_to_vector = {}\n",
    "for i in range(mat.shape[0]):\n",
    "    word_to_vector[index_to_word[i]] = mat[i]"
   ]
  },
  {
   "cell_type": "code",
   "execution_count": 8,
   "id": "7c8c48db",
   "metadata": {
    "execution": {
     "iopub.execute_input": "2022-07-07T02:22:58.108031Z",
     "iopub.status.busy": "2022-07-07T02:22:58.107578Z",
     "iopub.status.idle": "2022-07-07T02:23:09.700255Z",
     "shell.execute_reply": "2022-07-07T02:23:09.698868Z"
    },
    "papermill": {
     "duration": 11.612971,
     "end_time": "2022-07-07T02:23:09.703306",
     "exception": false,
     "start_time": "2022-07-07T02:22:58.090335",
     "status": "completed"
    },
    "tags": []
   },
   "outputs": [],
   "source": [
    "def tokenise(text):\n",
    "    tokens = []\n",
    "    for line in text:\n",
    "        sent = nltk.word_tokenize(line)\n",
    "        res = []\n",
    "        for word in sent:\n",
    "            if word in nlp.Defaults.stop_words:\n",
    "                continue\n",
    "            res.append(word.lower())\n",
    "        tokens.append(res)\n",
    "    return tokens\n",
    "\n",
    "\n",
    "tokenised_lines = tokenise(df['Text'].values)"
   ]
  },
  {
   "cell_type": "code",
   "execution_count": 9,
   "id": "58f54ef4",
   "metadata": {
    "execution": {
     "iopub.execute_input": "2022-07-07T02:23:09.738856Z",
     "iopub.status.busy": "2022-07-07T02:23:09.738484Z",
     "iopub.status.idle": "2022-07-07T02:28:01.773296Z",
     "shell.execute_reply": "2022-07-07T02:28:01.771631Z"
    },
    "papermill": {
     "duration": 292.056226,
     "end_time": "2022-07-07T02:28:01.777073",
     "exception": false,
     "start_time": "2022-07-07T02:23:09.720847",
     "status": "completed"
    },
    "tags": []
   },
   "outputs": [
    {
     "name": "stderr",
     "output_type": "stream",
     "text": [
      " 97%|█████████▋| 35/36 [04:52<00:08,  8.34s/it]\n"
     ]
    }
   ],
   "source": [
    "play_vectors = {}\n",
    "\n",
    "for name, text, _ in zip(df['Play'].values, tokenised_lines,\n",
    "                         tqdm(range(len(df['Play'].values)))):\n",
    "    word_vectors = []\n",
    "    for word in text:\n",
    "        if word in word_to_index:\n",
    "            word_vectors.append(word_to_vector[word])\n",
    "    play_vectors[name] = np.mean(word_vectors, axis=0)"
   ]
  },
  {
   "cell_type": "code",
   "execution_count": 10,
   "id": "b785ae2c",
   "metadata": {
    "execution": {
     "iopub.execute_input": "2022-07-07T02:28:01.818654Z",
     "iopub.status.busy": "2022-07-07T02:28:01.817638Z",
     "iopub.status.idle": "2022-07-07T02:28:01.928546Z",
     "shell.execute_reply": "2022-07-07T02:28:01.927177Z"
    },
    "papermill": {
     "duration": 0.13491,
     "end_time": "2022-07-07T02:28:01.932426",
     "exception": false,
     "start_time": "2022-07-07T02:28:01.797516",
     "status": "completed"
    },
    "tags": []
   },
   "outputs": [
    {
     "name": "stdout",
     "output_type": "stream",
     "text": [
      "Comedies Cosine Similarity: 0.999577076300042\n"
     ]
    }
   ],
   "source": [
    "def pairwiseCosSim(pairs):\n",
    "    sim = []\n",
    "    for (a, b) in pairs:\n",
    "        v1 = play_vectors[a].reshape(1, -1)\n",
    "        v2 = play_vectors[b].reshape(1, -1)\n",
    "        sim.append(cosine_similarity(v1, v2))\n",
    "    return np.mean(sim)\n",
    "\n",
    "\n",
    "print('Comedies Cosine Similarity:',\n",
    "      pairwiseCosSim(list(combinations(comedies, 2))))"
   ]
  },
  {
   "cell_type": "markdown",
   "id": "fa39667c",
   "metadata": {
    "papermill": {
     "duration": 0.03603,
     "end_time": "2022-07-07T02:28:02.006950",
     "exception": false,
     "start_time": "2022-07-07T02:28:01.970920",
     "status": "completed"
    },
    "tags": []
   },
   "source": [
    "### 6. (4 pts) Using vector representations of plays computed in (1.5), compute average pairwise cosine-similarity between plays that are histories, and between plays that are tragedies (do not include self-similarities)."
   ]
  },
  {
   "cell_type": "code",
   "execution_count": 11,
   "id": "a9f800eb",
   "metadata": {
    "execution": {
     "iopub.execute_input": "2022-07-07T02:28:02.065551Z",
     "iopub.status.busy": "2022-07-07T02:28:02.065075Z",
     "iopub.status.idle": "2022-07-07T02:28:02.174846Z",
     "shell.execute_reply": "2022-07-07T02:28:02.171751Z"
    },
    "papermill": {
     "duration": 0.135013,
     "end_time": "2022-07-07T02:28:02.179101",
     "exception": false,
     "start_time": "2022-07-07T02:28:02.044088",
     "status": "completed"
    },
    "tags": []
   },
   "outputs": [
    {
     "name": "stdout",
     "output_type": "stream",
     "text": [
      "Histories Cosine Similarity: 0.9995342401808434\n",
      "Tragedies Cosine Similarity: 0.9996260582957834\n"
     ]
    }
   ],
   "source": [
    "print('Histories Cosine Similarity:',\n",
    "      pairwiseCosSim(list(combinations(histories, 2))))\n",
    "\n",
    "print('Tragedies Cosine Similarity:',\n",
    "      pairwiseCosSim(list(combinations(tragedies, 2))))"
   ]
  },
  {
   "cell_type": "markdown",
   "id": "61f1c421",
   "metadata": {
    "papermill": {
     "duration": 0.038895,
     "end_time": "2022-07-07T02:28:02.257401",
     "exception": false,
     "start_time": "2022-07-07T02:28:02.218506",
     "status": "completed"
    },
    "tags": []
   },
   "source": [
    "### 7. (6 pts) Using vector representations of plays computed in (1.5), compute the average cosine-similarity between plays that are comedies and histories, the average cosine-similarity between plays that are comedies and tragedies, and the average cosine-similarity between plays that are histories and tragedies."
   ]
  },
  {
   "cell_type": "code",
   "execution_count": 12,
   "id": "10c15b5a",
   "metadata": {
    "execution": {
     "iopub.execute_input": "2022-07-07T02:28:02.315628Z",
     "iopub.status.busy": "2022-07-07T02:28:02.315198Z",
     "iopub.status.idle": "2022-07-07T02:28:02.739155Z",
     "shell.execute_reply": "2022-07-07T02:28:02.735807Z"
    },
    "papermill": {
     "duration": 0.450506,
     "end_time": "2022-07-07T02:28:02.743721",
     "exception": false,
     "start_time": "2022-07-07T02:28:02.293215",
     "status": "completed"
    },
    "tags": []
   },
   "outputs": [
    {
     "name": "stdout",
     "output_type": "stream",
     "text": [
      "Comedies and Histories Cosine Similarity: 0.9991429649063818\n",
      "Comedies and Tragedies Cosine Similarity: 0.9995533457278226\n",
      "Histories and Tragedies Cosine Similarity: 0.9993524015161556\n"
     ]
    }
   ],
   "source": [
    "print('Comedies and Histories Cosine Similarity:',\n",
    "      pairwiseCosSim(list(product(comedies, histories))))\n",
    "\n",
    "print('Comedies and Tragedies Cosine Similarity:',\n",
    "      pairwiseCosSim(list(product(comedies, tragedies))))\n",
    "\n",
    "print('Histories and Tragedies Cosine Similarity:',\n",
    "      pairwiseCosSim(list(product(histories, tragedies))))"
   ]
  },
  {
   "cell_type": "markdown",
   "id": "cca892c8",
   "metadata": {
    "papermill": {
     "duration": 0.037924,
     "end_time": "2022-07-07T02:28:02.821029",
     "exception": false,
     "start_time": "2022-07-07T02:28:02.783105",
     "status": "completed"
    },
    "tags": []
   },
   "source": [
    "### 8. (4 pts) Use gensim to learn 100-dimensional word2vec representation of the words in the play (you can use default parameters but with min count=1 so you can learn vector representations of all the words in your data i.e., no need to use vocab.txt in this question). Use the learned word2vec representation to construct vector representations of plays as the average of all the word vectors in the play. Use these vector representations of plays to compute average pairwise cosine-similarity between plays that are comedies (do not include self-similarities)"
   ]
  },
  {
   "cell_type": "code",
   "execution_count": 13,
   "id": "365bab44",
   "metadata": {
    "execution": {
     "iopub.execute_input": "2022-07-07T02:28:02.875930Z",
     "iopub.status.busy": "2022-07-07T02:28:02.875517Z",
     "iopub.status.idle": "2022-07-07T02:28:09.633316Z",
     "shell.execute_reply": "2022-07-07T02:28:09.630542Z"
    },
    "papermill": {
     "duration": 6.782648,
     "end_time": "2022-07-07T02:28:09.637276",
     "exception": false,
     "start_time": "2022-07-07T02:28:02.854628",
     "status": "completed"
    },
    "tags": []
   },
   "outputs": [
    {
     "name": "stdout",
     "output_type": "stream",
     "text": [
      "Comedies Cosine Similarity: 0.99900943\n"
     ]
    }
   ],
   "source": [
    "model = Word2Vec(sentences=tokenised_lines, min_count=1)\n",
    "\n",
    "play_vectors = {}\n",
    "for name, text in zip(df['Play'].values, tokenised_lines):\n",
    "    word_vectors = []\n",
    "    text = ' '.join(text)\n",
    "    for word in text.lower().split():\n",
    "        if word in model.wv:\n",
    "            word_vectors.append(model.wv[word])\n",
    "    play_vectors[name] = np.mean(word_vectors, axis=0)\n",
    "\n",
    "print('Comedies Cosine Similarity:',\n",
    "      pairwiseCosSim(list(combinations(comedies, 2))))"
   ]
  },
  {
   "cell_type": "markdown",
   "id": "84b93b12",
   "metadata": {
    "papermill": {
     "duration": 0.019492,
     "end_time": "2022-07-07T02:28:09.677814",
     "exception": false,
     "start_time": "2022-07-07T02:28:09.658322",
     "status": "completed"
    },
    "tags": []
   },
   "source": [
    "### 9. (4 pts) Using vector representations of plays computed in (1.8), compute average pairwise cosine-similarity between plays that are histories, and between plays that are tragedies (do not include self-similarities)."
   ]
  },
  {
   "cell_type": "code",
   "execution_count": 14,
   "id": "fc303a9a",
   "metadata": {
    "execution": {
     "iopub.execute_input": "2022-07-07T02:28:09.716801Z",
     "iopub.status.busy": "2022-07-07T02:28:09.716420Z",
     "iopub.status.idle": "2022-07-07T02:28:09.767335Z",
     "shell.execute_reply": "2022-07-07T02:28:09.765854Z"
    },
    "papermill": {
     "duration": 0.073748,
     "end_time": "2022-07-07T02:28:09.770398",
     "exception": false,
     "start_time": "2022-07-07T02:28:09.696650",
     "status": "completed"
    },
    "tags": []
   },
   "outputs": [
    {
     "name": "stdout",
     "output_type": "stream",
     "text": [
      "Histories Cosine Similarity: 0.99863464\n",
      "Tragedies Cosine Similarity: 0.9991099\n"
     ]
    }
   ],
   "source": [
    "print('Histories Cosine Similarity:',\n",
    "      pairwiseCosSim(list(combinations(histories, 2))))\n",
    "\n",
    "print('Tragedies Cosine Similarity:',\n",
    "      pairwiseCosSim(list(combinations(tragedies, 2))))"
   ]
  },
  {
   "cell_type": "markdown",
   "id": "c33f376c",
   "metadata": {
    "papermill": {
     "duration": 0.019361,
     "end_time": "2022-07-07T02:28:09.809931",
     "exception": false,
     "start_time": "2022-07-07T02:28:09.790570",
     "status": "completed"
    },
    "tags": []
   },
   "source": [
    "### 10. (6 pts) Using vector representations of plays computed in (1.8), compute the average cosine-similarity between plays that are comedies and histories, the average cosine-similarity between plays that are comedies and tragedies, and the average cosine-similarity between plays that are histories and tragedies."
   ]
  },
  {
   "cell_type": "code",
   "execution_count": 15,
   "id": "92053cfe",
   "metadata": {
    "execution": {
     "iopub.execute_input": "2022-07-07T02:28:09.851581Z",
     "iopub.status.busy": "2022-07-07T02:28:09.849611Z",
     "iopub.status.idle": "2022-07-07T02:28:10.052517Z",
     "shell.execute_reply": "2022-07-07T02:28:10.050601Z"
    },
    "papermill": {
     "duration": 0.226542,
     "end_time": "2022-07-07T02:28:10.055654",
     "exception": false,
     "start_time": "2022-07-07T02:28:09.829112",
     "status": "completed"
    },
    "tags": []
   },
   "outputs": [
    {
     "name": "stdout",
     "output_type": "stream",
     "text": [
      "Comedies and Histories Cosine Similarity: 0.99821097\n",
      "Comedies and Tragedies Cosine Similarity: 0.99888796\n",
      "Histories and Tragedies Cosine Similarity: 0.9985235\n"
     ]
    }
   ],
   "source": [
    "print('Comedies and Histories Cosine Similarity:',\n",
    "      pairwiseCosSim(list(product(comedies, histories))))\n",
    "\n",
    "print('Comedies and Tragedies Cosine Similarity:',\n",
    "      pairwiseCosSim(list(product(comedies, tragedies))))\n",
    "\n",
    "print('Histories and Tragedies Cosine Similarity:',\n",
    "      pairwiseCosSim(list(product(histories, tragedies))))"
   ]
  },
  {
   "cell_type": "markdown",
   "id": "856e4145",
   "metadata": {
    "papermill": {
     "duration": 0.01918,
     "end_time": "2022-07-07T02:28:10.094978",
     "exception": false,
     "start_time": "2022-07-07T02:28:10.075798",
     "status": "completed"
    },
    "tags": []
   },
   "source": [
    "### 11. (4 pts) For this question, use the original, non-tokenized, non-lowercased file. Use [LABSE](https://huggingface.co/sentence-transformers/LaBSE) in huggingface to compute vector representation of each line in will play text.csv. Unlike previous methods that compute word vectors, LABSE can compute whole line/sentence vectors. Compute the vector representation of each play as the average of its lines’ vector representations. Use these vector representations of plays to compute average pairwise cosine-similarity between plays that are comedies (do not include self-similarities)"
   ]
  },
  {
   "cell_type": "code",
   "execution_count": 16,
   "id": "051f68e7",
   "metadata": {
    "execution": {
     "iopub.execute_input": "2022-07-07T02:28:10.135027Z",
     "iopub.status.busy": "2022-07-07T02:28:10.134623Z",
     "iopub.status.idle": "2022-07-07T02:29:37.563728Z",
     "shell.execute_reply": "2022-07-07T02:29:37.562403Z"
    },
    "papermill": {
     "duration": 87.453072,
     "end_time": "2022-07-07T02:29:37.567249",
     "exception": false,
     "start_time": "2022-07-07T02:28:10.114177",
     "status": "completed"
    },
    "tags": []
   },
   "outputs": [],
   "source": [
    "%%capture\n",
    "model = SentenceTransformer('sentence-transformers/LaBSE', device=device)"
   ]
  },
  {
   "cell_type": "code",
   "execution_count": 17,
   "id": "492ead10",
   "metadata": {
    "execution": {
     "iopub.execute_input": "2022-07-07T02:29:37.609896Z",
     "iopub.status.busy": "2022-07-07T02:29:37.609494Z",
     "iopub.status.idle": "2022-07-07T02:31:01.796298Z",
     "shell.execute_reply": "2022-07-07T02:31:01.794873Z"
    },
    "papermill": {
     "duration": 84.211314,
     "end_time": "2022-07-07T02:31:01.799734",
     "exception": false,
     "start_time": "2022-07-07T02:29:37.588420",
     "status": "completed"
    },
    "tags": []
   },
   "outputs": [],
   "source": [
    "plays_to_lines = defaultdict(list)\n",
    "for play, text in zip(data['Play'].values, data['Text'].values):\n",
    "    plays_to_lines[play].append(text)\n",
    "\n",
    "play_vectors = {}\n",
    "for name, lines in plays_to_lines.items():\n",
    "    line_vectors = model.encode(sentences=lines, show_progress_bar=False)\n",
    "    play_vectors[name] = np.mean(line_vectors, axis=0)"
   ]
  },
  {
   "cell_type": "code",
   "execution_count": 18,
   "id": "46b79d5e",
   "metadata": {
    "execution": {
     "iopub.execute_input": "2022-07-07T02:31:01.841774Z",
     "iopub.status.busy": "2022-07-07T02:31:01.841404Z",
     "iopub.status.idle": "2022-07-07T02:31:01.888973Z",
     "shell.execute_reply": "2022-07-07T02:31:01.887400Z"
    },
    "papermill": {
     "duration": 0.071377,
     "end_time": "2022-07-07T02:31:01.892174",
     "exception": false,
     "start_time": "2022-07-07T02:31:01.820797",
     "status": "completed"
    },
    "tags": []
   },
   "outputs": [
    {
     "name": "stdout",
     "output_type": "stream",
     "text": [
      "Comedies Cosine Similarity: 0.9517976\n"
     ]
    }
   ],
   "source": [
    "print('Comedies Cosine Similarity:',\n",
    "      pairwiseCosSim(list(combinations(comedies, 2))))\n"
   ]
  },
  {
   "cell_type": "markdown",
   "id": "ae760605",
   "metadata": {
    "papermill": {
     "duration": 0.019605,
     "end_time": "2022-07-07T02:31:01.934195",
     "exception": false,
     "start_time": "2022-07-07T02:31:01.914590",
     "status": "completed"
    },
    "tags": []
   },
   "source": [
    "### 12. (4 pts) Using vector representations of plays computed in (1.11), compute average pairwise cosine-similarity between plays that are histories, and between plays that are tragedies (do not include self-similarities)."
   ]
  },
  {
   "cell_type": "code",
   "execution_count": 19,
   "id": "eb05c427",
   "metadata": {
    "execution": {
     "iopub.execute_input": "2022-07-07T02:31:01.975726Z",
     "iopub.status.busy": "2022-07-07T02:31:01.975293Z",
     "iopub.status.idle": "2022-07-07T02:31:02.049264Z",
     "shell.execute_reply": "2022-07-07T02:31:02.047856Z"
    },
    "papermill": {
     "duration": 0.097883,
     "end_time": "2022-07-07T02:31:02.051787",
     "exception": false,
     "start_time": "2022-07-07T02:31:01.953904",
     "status": "completed"
    },
    "tags": []
   },
   "outputs": [
    {
     "name": "stdout",
     "output_type": "stream",
     "text": [
      "Histories Cosine Similarity: 0.96070164\n",
      "Tragedies Cosine Similarity: 0.9570266\n"
     ]
    }
   ],
   "source": [
    "print('Histories Cosine Similarity:',\n",
    "      pairwiseCosSim(list(combinations(histories, 2))))\n",
    "\n",
    "print('Tragedies Cosine Similarity:',\n",
    "      pairwiseCosSim(list(combinations(tragedies, 2))))\n"
   ]
  },
  {
   "cell_type": "markdown",
   "id": "21d17805",
   "metadata": {
    "papermill": {
     "duration": 0.019699,
     "end_time": "2022-07-07T02:31:02.092206",
     "exception": false,
     "start_time": "2022-07-07T02:31:02.072507",
     "status": "completed"
    },
    "tags": []
   },
   "source": [
    "### 13. (6 pts) Using vector representations of plays computed in (1.11), compute the average cosine-similarity between plays that are comedies and histories, the average cosine-similarity between plays that are comedies and tragedies, and the average cosine-similarity between plays that are histories and tragedies."
   ]
  },
  {
   "cell_type": "code",
   "execution_count": 20,
   "id": "820f39b8",
   "metadata": {
    "execution": {
     "iopub.execute_input": "2022-07-07T02:31:02.133668Z",
     "iopub.status.busy": "2022-07-07T02:31:02.133249Z",
     "iopub.status.idle": "2022-07-07T02:31:02.349679Z",
     "shell.execute_reply": "2022-07-07T02:31:02.348005Z"
    },
    "papermill": {
     "duration": 0.240426,
     "end_time": "2022-07-07T02:31:02.352552",
     "exception": false,
     "start_time": "2022-07-07T02:31:02.112126",
     "status": "completed"
    },
    "tags": []
   },
   "outputs": [
    {
     "name": "stdout",
     "output_type": "stream",
     "text": [
      "Comedies and Histories Cosine Similarity: 0.9230483\n",
      "Comedies and Tragedies Cosine Similarity: 0.9456116\n",
      "Histories and Tragedies Cosine Similarity: 0.9361833\n"
     ]
    }
   ],
   "source": [
    "print('Comedies and Histories Cosine Similarity:',\n",
    "      pairwiseCosSim(list(product(comedies, histories))))\n",
    "\n",
    "print('Comedies and Tragedies Cosine Similarity:',\n",
    "      pairwiseCosSim(list(product(comedies, tragedies))))\n",
    "\n",
    "print('Histories and Tragedies Cosine Similarity:',\n",
    "      pairwiseCosSim(list(product(histories, tragedies))))"
   ]
  },
  {
   "cell_type": "markdown",
   "id": "03c43f43",
   "metadata": {
    "papermill": {
     "duration": 0.019683,
     "end_time": "2022-07-07T02:31:02.393523",
     "exception": false,
     "start_time": "2022-07-07T02:31:02.373840",
     "status": "completed"
    },
    "tags": []
   },
   "source": [
    "### 14. (2 pts) Which vector representation (word-word counts vs. gensim vs. LABSE) gives the best measure of similarities between plays of similar genre vs. different genres? Why do you think so?"
   ]
  },
  {
   "cell_type": "markdown",
   "id": "bda177ff",
   "metadata": {
    "papermill": {
     "duration": 0.020569,
     "end_time": "2022-07-07T02:31:02.434133",
     "exception": false,
     "start_time": "2022-07-07T02:31:02.413564",
     "status": "completed"
    },
    "tags": []
   },
   "source": [
    "-> answer\n"
   ]
  },
  {
   "cell_type": "markdown",
   "id": "d06776dc",
   "metadata": {
    "papermill": {
     "duration": 0.019808,
     "end_time": "2022-07-07T02:31:02.474272",
     "exception": false,
     "start_time": "2022-07-07T02:31:02.454464",
     "status": "completed"
    },
    "tags": []
   },
   "source": [
    "### 15. (4pts)  Use LABSE’s vector representations of lines to construct the vector representation of each character as the average of all lines’ representations that the character spoke. Visualize the characters using PCA. Include the visualization in your answer sheet."
   ]
  },
  {
   "cell_type": "code",
   "execution_count": 21,
   "id": "5dc763f9",
   "metadata": {
    "execution": {
     "iopub.execute_input": "2022-07-07T02:31:02.517603Z",
     "iopub.status.busy": "2022-07-07T02:31:02.515438Z",
     "iopub.status.idle": "2022-07-07T02:31:02.566122Z",
     "shell.execute_reply": "2022-07-07T02:31:02.564754Z"
    },
    "papermill": {
     "duration": 0.074956,
     "end_time": "2022-07-07T02:31:02.569180",
     "exception": false,
     "start_time": "2022-07-07T02:31:02.494224",
     "status": "completed"
    },
    "tags": []
   },
   "outputs": [],
   "source": [
    "character_to_lines = defaultdict(list)\n",
    "character_lines_number = defaultdict(int)\n",
    "\n",
    "for character, text in zip(data['Character'].values, data['Text'].values):\n",
    "    character_to_lines[character].append(text)\n",
    "\n",
    "temp = {}\n",
    "for character, text in character_to_lines.items():\n",
    "    if len(text) > 600:\n",
    "        temp[character] = text\n",
    "\n",
    "character_to_lines = temp"
   ]
  },
  {
   "cell_type": "code",
   "execution_count": 22,
   "id": "5e4ecb34",
   "metadata": {
    "execution": {
     "iopub.execute_input": "2022-07-07T02:31:02.612716Z",
     "iopub.status.busy": "2022-07-07T02:31:02.612243Z",
     "iopub.status.idle": "2022-07-07T02:31:11.517022Z",
     "shell.execute_reply": "2022-07-07T02:31:11.515465Z"
    },
    "papermill": {
     "duration": 8.930914,
     "end_time": "2022-07-07T02:31:11.521311",
     "exception": false,
     "start_time": "2022-07-07T02:31:02.590397",
     "status": "completed"
    },
    "tags": []
   },
   "outputs": [],
   "source": [
    "%%capture\n",
    "model = SentenceTransformer('sentence-transformers/LaBSE', device=device)"
   ]
  },
  {
   "cell_type": "code",
   "execution_count": 23,
   "id": "1c156064",
   "metadata": {
    "execution": {
     "iopub.execute_input": "2022-07-07T02:31:11.637629Z",
     "iopub.status.busy": "2022-07-07T02:31:11.636827Z",
     "iopub.status.idle": "2022-07-07T02:31:33.018450Z",
     "shell.execute_reply": "2022-07-07T02:31:33.017053Z"
    },
    "papermill": {
     "duration": 21.454813,
     "end_time": "2022-07-07T02:31:33.021197",
     "exception": false,
     "start_time": "2022-07-07T02:31:11.566384",
     "status": "completed"
    },
    "tags": []
   },
   "outputs": [
    {
     "data": {
      "image/png": "[encoded data removed]",
      "text/plain": [
       "<Figure size 1080x576 with 1 Axes>"
      ]
     },
     "metadata": {
      "needs_background": "light"
     },
     "output_type": "display_data"
    }
   ],
   "source": [
    "character_to_vectors = {}\n",
    "for name, lines in character_to_lines.items():\n",
    "    line_vectors = model.encode(sentences=lines, show_progress_bar=False)\n",
    "    character_to_vectors[name] = np.mean(line_vectors, axis=0)\n",
    "\n",
    "character_vectors = np.array(\n",
    "    [vector for vector in character_to_vectors.values()])\n",
    "pca = PCA(n_components=2)\n",
    "character_vectors_pca = pca.fit_transform(character_vectors)\n",
    "\n",
    "plt.figure(figsize=(15, 8))\n",
    "plt.scatter(character_vectors_pca[:, 0], character_vectors_pca[:, 1])\n",
    "for i, character in enumerate(character_to_vectors.keys()):\n",
    "    plt.annotate(character,\n",
    "                 xy=(character_vectors_pca[i, 0], character_vectors_pca[i, 1]))\n",
    "\n",
    "plt.axis('off')\n",
    "plt.show()"
   ]
  },
  {
   "cell_type": "markdown",
   "id": "606a6377",
   "metadata": {
    "papermill": {
     "duration": 0.020145,
     "end_time": "2022-07-07T02:31:33.062834",
     "exception": false,
     "start_time": "2022-07-07T02:31:33.042689",
     "status": "completed"
    },
    "tags": []
   },
   "source": [
    "### 16. (5 pts) Mention 2 interesting insights with respect to the grouping of plays and/or characters e.g., what are characters that are most similar/dissimilar to each other? Do the vector representations of [female characters](https://en.wikipedia.org/wiki/Category:Female_Shakespearean_characters) differ distinguishably from [male ones](https://en.wikipedia.org/wiki/Category:Male_Shakespearean_characters)? Can you find plays that are central i.e., closest to centroid to each genre (i.e., comedies, histories, tragedies)? For each insight, include explanation and/or the visualization that supports your insight.\n"
   ]
  },
  {
   "cell_type": "markdown",
   "id": "a95d2332",
   "metadata": {
    "papermill": {
     "duration": 0.01992,
     "end_time": "2022-07-07T02:31:33.103521",
     "exception": false,
     "start_time": "2022-07-07T02:31:33.083601",
     "status": "completed"
    },
    "tags": []
   },
   "source": [
    "-> answer\n"
   ]
  },
  {
   "cell_type": "markdown",
   "id": "200adad4",
   "metadata": {
    "papermill": {
     "duration": 0.020252,
     "end_time": "2022-07-07T02:31:33.144441",
     "exception": false,
     "start_time": "2022-07-07T02:31:33.124189",
     "status": "completed"
    },
    "tags": []
   },
   "source": [
    "## Problem 2. (35 pts)\n",
    "---"
   ]
  },
  {
   "cell_type": "markdown",
   "id": "7c4663e8",
   "metadata": {
    "papermill": {
     "duration": 0.02018,
     "end_time": "2022-07-07T02:31:33.184984",
     "exception": false,
     "start_time": "2022-07-07T02:31:33.164804",
     "status": "completed"
    },
    "tags": []
   },
   "source": [
    "In this question you will use the corpus of Shakespeare’s plays (*will_play_text.csv*) as well as two new corpora: the works of Jane Austen (*jane_austen.txt*) and Sir Arthur Conan Doyle (*arthur_conan doyle.txt*). For this question you will use **gensim** to create separate 100-dimensional word2vec word vector representations for each corpus. Then we will try to analyze the differences between these embeddings and try to understand what we can say about the bodies of work they were trained on."
   ]
  },
  {
   "cell_type": "code",
   "execution_count": 24,
   "id": "8abb083d",
   "metadata": {
    "execution": {
     "iopub.execute_input": "2022-07-07T02:31:33.229618Z",
     "iopub.status.busy": "2022-07-07T02:31:33.228043Z",
     "iopub.status.idle": "2022-07-07T02:31:34.728611Z",
     "shell.execute_reply": "2022-07-07T02:31:34.727174Z"
    },
    "papermill": {
     "duration": 1.526526,
     "end_time": "2022-07-07T02:31:34.732060",
     "exception": false,
     "start_time": "2022-07-07T02:31:33.205534",
     "status": "completed"
    },
    "tags": []
   },
   "outputs": [],
   "source": [
    "import pandas as pd\n",
    "from gensim.models import Word2Vec\n",
    "from gensim.test.utils import datapath\n",
    "import spacy\n",
    "import nltk\n",
    "\n",
    "nlp = spacy.load('en_core_web_sm')"
   ]
  },
  {
   "cell_type": "code",
   "execution_count": 25,
   "id": "5f018f98",
   "metadata": {
    "execution": {
     "iopub.execute_input": "2022-07-07T02:31:34.776204Z",
     "iopub.status.busy": "2022-07-07T02:31:34.774854Z",
     "iopub.status.idle": "2022-07-07T02:31:35.336320Z",
     "shell.execute_reply": "2022-07-07T02:31:35.334827Z"
    },
    "papermill": {
     "duration": 0.585835,
     "end_time": "2022-07-07T02:31:35.339445",
     "exception": false,
     "start_time": "2022-07-07T02:31:34.753610",
     "status": "completed"
    },
    "tags": []
   },
   "outputs": [],
   "source": [
    "data = pd.read_csv(path + 'will_play_text.csv', delimiter=';', header=None)\n",
    "data = data.drop(columns=[0, 2, 3])\n",
    "data.columns = ['Play', 'Character', 'Text']\n",
    "shakespeareText = data['Text'].values\n",
    "\n",
    "janeAustenText = []\n",
    "with open(path + 'jane_austen.txt') as f:\n",
    "    for line in f:\n",
    "        janeAustenText.append(line.strip())\n",
    "\n",
    "arthurConanDoyleText = []\n",
    "with open(path + 'arthur_conan_doyle.txt') as f:\n",
    "    for line in f:\n",
    "        arthurConanDoyleText.append(line.strip())"
   ]
  },
  {
   "cell_type": "markdown",
   "id": "60662100",
   "metadata": {
    "papermill": {
     "duration": 0.020142,
     "end_time": "2022-07-07T02:31:35.381190",
     "exception": false,
     "start_time": "2022-07-07T02:31:35.361048",
     "status": "completed"
    },
    "tags": []
   },
   "source": [
    "### 1. (3 pts) Train word2vec representations for all three of the corpora (use min_count=1 to get vectors for all words in each processed corpus). Report the length of the vocabulary of each corpora. Be sure to clean and preprocess the text beforehand. Use **spacy** to sentence split, tokenize, lemmatize, lowercase, and remove stopwords."
   ]
  },
  {
   "cell_type": "code",
   "execution_count": 26,
   "id": "fe6dfe0b",
   "metadata": {
    "execution": {
     "iopub.execute_input": "2022-07-07T02:31:35.424831Z",
     "iopub.status.busy": "2022-07-07T02:31:35.423674Z",
     "iopub.status.idle": "2022-07-07T02:31:35.431872Z",
     "shell.execute_reply": "2022-07-07T02:31:35.430482Z"
    },
    "papermill": {
     "duration": 0.032836,
     "end_time": "2022-07-07T02:31:35.434733",
     "exception": false,
     "start_time": "2022-07-07T02:31:35.401897",
     "status": "completed"
    },
    "tags": []
   },
   "outputs": [],
   "source": [
    "def process(text):\n",
    "    tokenised_lines = []\n",
    "    for line in text:\n",
    "        temp = []\n",
    "        for word in nltk.word_tokenize(line):\n",
    "            if word in nlp.Defaults.stop_words:\n",
    "                continue\n",
    "            temp.append(word.lower())\n",
    "        tokenised_lines.append(temp)\n",
    "    return tokenised_lines"
   ]
  },
  {
   "cell_type": "code",
   "execution_count": 27,
   "id": "4ccb32b9",
   "metadata": {
    "execution": {
     "iopub.execute_input": "2022-07-07T02:31:35.477395Z",
     "iopub.status.busy": "2022-07-07T02:31:35.476830Z",
     "iopub.status.idle": "2022-07-07T02:32:48.447911Z",
     "shell.execute_reply": "2022-07-07T02:32:48.446592Z"
    },
    "papermill": {
     "duration": 72.996114,
     "end_time": "2022-07-07T02:32:48.451153",
     "exception": false,
     "start_time": "2022-07-07T02:31:35.455039",
     "status": "completed"
    },
    "tags": []
   },
   "outputs": [],
   "source": [
    "shakespeareLines = process(shakespeareText)\n",
    "janeAustenLines = process(janeAustenText)\n",
    "arthurConanDoyleLines = process(arthurConanDoyleText)"
   ]
  },
  {
   "cell_type": "code",
   "execution_count": 28,
   "id": "b63b6902",
   "metadata": {
    "execution": {
     "iopub.execute_input": "2022-07-07T02:32:48.495208Z",
     "iopub.status.busy": "2022-07-07T02:32:48.494832Z",
     "iopub.status.idle": "2022-07-07T02:33:08.971179Z",
     "shell.execute_reply": "2022-07-07T02:33:08.969836Z"
    },
    "papermill": {
     "duration": 20.501361,
     "end_time": "2022-07-07T02:33:08.974028",
     "exception": false,
     "start_time": "2022-07-07T02:32:48.472667",
     "status": "completed"
    },
    "tags": []
   },
   "outputs": [
    {
     "name": "stdout",
     "output_type": "stream",
     "text": [
      "Length of Shakespeare vocab size: 25958\n",
      "Length of Jane Austen vocab size: 16633\n",
      "Length of Arthur Conan Doyle vocab size: 38659\n"
     ]
    }
   ],
   "source": [
    "shakespeareModel = Word2Vec(sentences=shakespeareLines, min_count=1)\n",
    "print('Length of Shakespeare vocab size:', len(shakespeareModel.wv))\n",
    "\n",
    "janeAustenModel = Word2Vec(sentences=janeAustenLines, min_count=1)\n",
    "print('Length of Jane Austen vocab size:', len(janeAustenModel.wv))\n",
    "\n",
    "arthurConanDoyleModel = Word2Vec(sentences=arthurConanDoyleLines, min_count=1)\n",
    "print('Length of Arthur Conan Doyle vocab size:',\n",
    "      len(arthurConanDoyleModel.wv))\n"
   ]
  },
  {
   "cell_type": "markdown",
   "id": "a1889cc5",
   "metadata": {
    "papermill": {
     "duration": 0.020403,
     "end_time": "2022-07-07T02:33:09.015730",
     "exception": false,
     "start_time": "2022-07-07T02:33:08.995327",
     "status": "completed"
    },
    "tags": []
   },
   "source": [
    "### 2. (6 pts) Once you have the word2vec models, report the closest 3 words (using cosine-similarity) to each of these words in the list for each of the three corpora. The word list is: ['courage', 'hope', 'love', 'woman', 'man', 'he', 'she', 'good', 'bad', 'evil', 'beauty', 'fate']."
   ]
  },
  {
   "cell_type": "code",
   "execution_count": 29,
   "id": "d73dcefe",
   "metadata": {
    "execution": {
     "iopub.execute_input": "2022-07-07T02:33:09.058458Z",
     "iopub.status.busy": "2022-07-07T02:33:09.058107Z",
     "iopub.status.idle": "2022-07-07T02:33:09.151927Z",
     "shell.execute_reply": "2022-07-07T02:33:09.150358Z"
    },
    "papermill": {
     "duration": 0.119837,
     "end_time": "2022-07-07T02:33:09.156162",
     "exception": false,
     "start_time": "2022-07-07T02:33:09.036325",
     "status": "completed"
    },
    "tags": []
   },
   "outputs": [
    {
     "name": "stdout",
     "output_type": "stream",
     "text": [
      "Shakespeare closest words:\n",
      " {'courage': ['condition', 'stands', 'rich'], 'hope': ['warrant', 'thought', 'wish'], 'love': ['life', 'honour', 'fear'], 'woman': ['honest', 'fellow', 'thing'], 'man': ['woman', 'fellow', 'old'], 'he': ['it', 'your', 'she'], 'she': ['not', 'most', 'have'], 'good': ['gentle', 'noble', 'sweet'], 'bad': ['joyful', 'earnest', 'deserved'], 'evil': ['physic', 'proved', 'virtues'], 'beauty': ['rich', 'virtue', 'sense'], 'fate': ['bones', 'pride', 'parts']}\n",
      "\n",
      "Jane Austen closest words:\n",
      " {'courage': ['receive', 'desired', 'autumn'], 'hope': ['afraid', 'sorry', 'dare'], 'love': ['like', 'pretty', 'girl'], 'woman': ['man', 'men', 'people'], 'man': ['woman', 'men', 'people'], 'he': ['she', 'they', 'there'], 'she': ['he', 'they', 'in'], 'good': ['great', 'vast', 'love'], 'bad': ['happen', 'pity', 'fault'], 'evil': ['fact', 'enjoy', 'separation'], 'beauty': ['address', 'acknowledged', 'struck'], 'fate': ['gown', 'weymouth', 'rain']}\n",
      "\n",
      "Arthur Conan Doyle closest words:\n",
      " {'courage': ['tells', 'title', 'oath'], 'hope': ['thinking', 'hold', 'promise'], 'love': ['bad', 'true', 'jack'], 'woman': ['lady', 'girl', 'fellah'], 'man': ['woman', 'lady', 'fellah'], 'he': ['she', 'they', 'then'], 'she': ['he', 'they', 'then'], 'good': ['bad', 'god', 'help'], 'bad': ['true', 'help', 'knows'], 'evil': ['affairs', 'lives', 'food'], 'beauty': ['wont', 'reputation', 'suffered'], 'fate': ['peace', 'probably', 'harm']}\n"
     ]
    }
   ],
   "source": [
    "word_list = [\n",
    "    'courage', 'hope', 'love', 'woman', 'man', 'he', 'she', 'good', 'bad',\n",
    "    'evil', 'beauty', 'fate'\n",
    "]\n",
    "\n",
    "\n",
    "def closestWords(model, topK=3):\n",
    "    sim = {}\n",
    "    for word in word_list:\n",
    "        sim[word] = [word for word, _ in model.wv.similar_by_word(word)[:topK]]\n",
    "\n",
    "    return sim\n",
    "\n",
    "\n",
    "print('Shakespeare closest words:\\n', closestWords(shakespeareModel))\n",
    "print('\\nJane Austen closest words:\\n', closestWords(janeAustenModel))\n",
    "print('\\nArthur Conan Doyle closest words:\\n',\n",
    "      closestWords(arthurConanDoyleModel))\n"
   ]
  },
  {
   "cell_type": "markdown",
   "id": "8885fc6f",
   "metadata": {
    "papermill": {
     "duration": 0.042701,
     "end_time": "2022-07-07T02:33:09.241362",
     "exception": false,
     "start_time": "2022-07-07T02:33:09.198661",
     "status": "completed"
    },
    "tags": []
   },
   "source": [
    "### 3. (3 pts) Add another three words that you think would be interesting to observe over the different corpora. Report the closest 3 words (using cosine-similarity) to each of your chosen words for each of the three authors."
   ]
  },
  {
   "cell_type": "code",
   "execution_count": 30,
   "id": "3299a939",
   "metadata": {
    "execution": {
     "iopub.execute_input": "2022-07-07T02:33:09.298174Z",
     "iopub.status.busy": "2022-07-07T02:33:09.297653Z",
     "iopub.status.idle": "2022-07-07T02:33:09.325005Z",
     "shell.execute_reply": "2022-07-07T02:33:09.320688Z"
    },
    "papermill": {
     "duration": 0.054121,
     "end_time": "2022-07-07T02:33:09.329056",
     "exception": false,
     "start_time": "2022-07-07T02:33:09.274935",
     "status": "completed"
    },
    "tags": []
   },
   "outputs": [
    {
     "name": "stdout",
     "output_type": "stream",
     "text": [
      "Shakespeare closest words:\n",
      " {'kill': ['live', 'ask', 'lie'], 'love': ['life', 'honour', 'fear'], 'hate': ['prove', 'bear', 'sworn']}\n",
      "Jane Austen closest words:\n",
      " {'kill': ['fit', 'gives', 'behave'], 'love': ['like', 'pretty', 'girl'], 'hate': ['bear', 'trust', 'presume']}\n",
      "Arthur Conan Doyle closest words:\n",
      " {'kill': ['pay', 'play', 'honor'], 'love': ['bad', 'true', 'jack'], 'hate': ['ride', 'anxious', 'ashamed']}\n"
     ]
    }
   ],
   "source": [
    "word_list = ['kill', 'love', 'hate']\n",
    "\n",
    "print('Shakespeare closest words:\\n', closestWords(shakespeareModel))\n",
    "print('Jane Austen closest words:\\n', closestWords(janeAustenModel))\n",
    "print('Arthur Conan Doyle closest words:\\n',\n",
    "      closestWords(arthurConanDoyleModel))"
   ]
  },
  {
   "cell_type": "markdown",
   "id": "87ab5e2b",
   "metadata": {
    "papermill": {
     "duration": 0.041191,
     "end_time": "2022-07-07T02:33:09.413126",
     "exception": false,
     "start_time": "2022-07-07T02:33:09.371935",
     "status": "completed"
    },
    "tags": []
   },
   "source": [
    "### 4. (2 pts) Mention any differences between the close words across different documents. What do you think the difference indicates? For example, does the difference represent any gender bias?"
   ]
  },
  {
   "cell_type": "markdown",
   "id": "29f4ab16",
   "metadata": {
    "papermill": {
     "duration": 0.020446,
     "end_time": "2022-07-07T02:33:09.467053",
     "exception": false,
     "start_time": "2022-07-07T02:33:09.446607",
     "status": "completed"
    },
    "tags": []
   },
   "source": [
    "-> answer\n"
   ]
  },
  {
   "cell_type": "markdown",
   "id": "c8e1e344",
   "metadata": {
    "papermill": {
     "duration": 0.020933,
     "end_time": "2022-07-07T02:33:09.508744",
     "exception": false,
     "start_time": "2022-07-07T02:33:09.487811",
     "status": "completed"
    },
    "tags": []
   },
   "source": [
    "### 5. (15 pts) Look into this [repository](https://github.com/nicholas-leonard/word2vec/blob/master/questions-words.txt). This file provides a list of analogies. Analogies are essentially meaning symmetries in language. They can be direct analogies like Paris France Berlin Germany. Here we know that what Paris is to France, The same thing Berlin is to Germany. Some earlier work has showed that this relationship sometimes is also captured in word representations. Imagine the relationship to be: $$ \\text{w(paris) - w(france) == w(berlin) - w(germany) (1)} $$ Then the below relationship also holds: $$ \\text{w(paris) - w(france) + w(germany) == w(berlin) (2)} $$ This makes sense on paper but in practice the representation relationships are not always this clear. Instead we calculate the left side of the equation and check the closest word (in terms of cosine-similarity) in the vocabulary to the calculated embedding. If the word is the one on the right we say that the analogy holds. So what we want you to do is read all the analogies in the given link and for each author, remove any analogies that have OOV words. Don’t try to find analogies that hold for all three authors. For each of the three authors, remove OOV analogies and from the ones that are left (i.e., don’t include any OOV words), we want you to check how many of the analogies hold (i.e., calculate the accuracy). Report the analogy accuracy of each author."
   ]
  },
  {
   "cell_type": "code",
   "execution_count": 31,
   "id": "ec47c6af",
   "metadata": {
    "execution": {
     "iopub.execute_input": "2022-07-07T02:33:09.552557Z",
     "iopub.status.busy": "2022-07-07T02:33:09.552096Z",
     "iopub.status.idle": "2022-07-07T02:33:36.031968Z",
     "shell.execute_reply": "2022-07-07T02:33:36.029933Z"
    },
    "papermill": {
     "duration": 26.506352,
     "end_time": "2022-07-07T02:33:36.035896",
     "exception": false,
     "start_time": "2022-07-07T02:33:09.529544",
     "status": "completed"
    },
    "tags": []
   },
   "outputs": [
    {
     "name": "stdout",
     "output_type": "stream",
     "text": [
      "Shakespeare score: 0.3613%\n",
      "Jane Austen score: 1.528%\n",
      "Arthur Conan Doyle score: 0.8374%\n"
     ]
    }
   ],
   "source": [
    "score, sections = shakespeareModel.wv.evaluate_word_analogies(\n",
    "    analogies=datapath('questions-words.txt'))\n",
    "print('Shakespeare score: {}%'.format(round(score * 100, 4)))\n",
    "\n",
    "score, sections = janeAustenModel.wv.evaluate_word_analogies(\n",
    "    analogies=datapath('questions-words.txt'), )\n",
    "print('Jane Austen score: {}%'.format(round(score * 100, 4)))\n",
    "\n",
    "score, sections = arthurConanDoyleModel.wv.evaluate_word_analogies(\n",
    "    analogies=datapath('questions-words.txt'))\n",
    "print('Arthur Conan Doyle score: {}%'.format(round(score * 100, 4)))"
   ]
  },
  {
   "cell_type": "markdown",
   "id": "cd1f3592",
   "metadata": {
    "papermill": {
     "duration": 0.040267,
     "end_time": "2022-07-07T02:33:36.122394",
     "exception": false,
     "start_time": "2022-07-07T02:33:36.082127",
     "status": "completed"
    },
    "tags": []
   },
   "source": [
    "### 6. (6 pts) What does the accuracy scores tell you? Which corpus then gives you better commonsense representations? Do you think this is a good way to measure word representations e.g., can you think of potential issues in designing analogies?"
   ]
  },
  {
   "cell_type": "markdown",
   "id": "276f7e79",
   "metadata": {
    "papermill": {
     "duration": 0.020726,
     "end_time": "2022-07-07T02:33:36.174216",
     "exception": false,
     "start_time": "2022-07-07T02:33:36.153490",
     "status": "completed"
    },
    "tags": []
   },
   "source": [
    "-> answer\n"
   ]
  }
 ],
 "metadata": {
  "kernelspec": {
   "display_name": "Python 3",
   "language": "python",
   "name": "python3"
  },
  "language_info": {
   "codemirror_mode": {
    "name": "ipython",
    "version": 3
   },
   "file_extension": ".py",
   "mimetype": "text/x-python",
   "name": "python",
   "nbconvert_exporter": "python",
   "pygments_lexer": "ipython3",
   "version": "3.7.12"
  },
  "papermill": {
   "default_parameters": {},
   "duration": 696.146471,
   "end_time": "2022-07-07T02:33:39.340730",
   "environment_variables": {},
   "exception": null,
   "input_path": "__notebook__.ipynb",
   "output_path": "__notebook__.ipynb",
   "parameters": {},
   "start_time": "2022-07-07T02:22:03.194259",
   "version": "2.3.4"
  },
  "widgets": {
   "application/vnd.jupyter.widget-state+json": {
    "state": {
     "031602d6c9cc4d2cbc4df5b7d51226aa": {
      "model_module": "@jupyter-widgets/controls",
      "model_module_version": "1.5.0",
      "model_name": "DescriptionStyleModel",
      "state": {
       "_model_module": "@jupyter-widgets/controls",
       "_model_module_version": "1.5.0",
       "_model_name": "DescriptionStyleModel",
       "_view_count": null,
       "_view_module": "@jupyter-widgets/base",
       "_view_module_version": "1.2.0",
       "_view_name": "StyleView",
       "description_width": ""
      }
     },
     "034e6ffc12254245bb2965e1dd45d046": {
      "model_module": "@jupyter-widgets/controls",
      "model_module_version": "1.5.0",
      "model_name": "ProgressStyleModel",
      "state": {
       "_model_module": "@jupyter-widgets/controls",
       "_model_module_version": "1.5.0",
       "_model_name": "ProgressStyleModel",
       "_view_count": null,
       "_view_module": "@jupyter-widgets/base",
       "_view_module_version": "1.2.0",
       "_view_name": "StyleView",
       "bar_color": null,
       "description_width": ""
      }
     },
     "068bf68ab3034e9eb292f090247444b1": {
      "model_module": "@jupyter-widgets/controls",
      "model_module_version": "1.5.0",
      "model_name": "HBoxModel",
      "state": {
       "_dom_classes": [],
       "_model_module": "@jupyter-widgets/controls",
       "_model_module_version": "1.5.0",
       "_model_name": "HBoxModel",
       "_view_count": null,
       "_view_module": "@jupyter-widgets/controls",
       "_view_module_version": "1.5.0",
       "_view_name": "HBoxView",
       "box_style": "",
       "children": [
        "IPY_MODEL_b02107d56cd54d20877f1dc21c46b12c",
        "IPY_MODEL_a5a4a5052ed24e15ad6222528acb0ee8",
        "IPY_MODEL_4155a3779d4844d4a5b86c9029e87b3a"
       ],
       "layout": "IPY_MODEL_aca72a8f21714748bd5f4cc793da742f"
      }
     },
     "087358ae05484a94b5d829856dce1f4d": {
      "model_module": "@jupyter-widgets/base",
      "model_module_version": "1.2.0",
      "model_name": "LayoutModel",
      "state": {
       "_model_module": "@jupyter-widgets/base",
       "_model_module_version": "1.2.0",
       "_model_name": "LayoutModel",
       "_view_count": null,
       "_view_module": "@jupyter-widgets/base",
       "_view_module_version": "1.2.0",
       "_view_name": "LayoutView",
       "align_content": null,
       "align_items": null,
       "align_self": null,
       "border": null,
       "bottom": null,
       "display": null,
       "flex": null,
       "flex_flow": null,
       "grid_area": null,
       "grid_auto_columns": null,
       "grid_auto_flow": null,
       "grid_auto_rows": null,
       "grid_column": null,
       "grid_gap": null,
       "grid_row": null,
       "grid_template_areas": null,
       "grid_template_columns": null,
       "grid_template_rows": null,
       "height": null,
       "justify_content": null,
       "justify_items": null,
       "left": null,
       "margin": null,
       "max_height": null,
       "max_width": null,
       "min_height": null,
       "min_width": null,
       "object_fit": null,
       "object_position": null,
       "order": null,
       "overflow": null,
       "overflow_x": null,
       "overflow_y": null,
       "padding": null,
       "right": null,
       "top": null,
       "visibility": null,
       "width": null
      }
     },
     "0891bfd642fa49eab387f30a4baaa655": {
      "model_module": "@jupyter-widgets/controls",
      "model_module_version": "1.5.0",
      "model_name": "ProgressStyleModel",
      "state": {
       "_model_module": "@jupyter-widgets/controls",
       "_model_module_version": "1.5.0",
       "_model_name": "ProgressStyleModel",
       "_view_count": null,
       "_view_module": "@jupyter-widgets/base",
       "_view_module_version": "1.2.0",
       "_view_name": "StyleView",
       "bar_color": null,
       "description_width": ""
      }
     },
     "095279bb66ce49d9b15b50649e6c2443": {
      "model_module": "@jupyter-widgets/base",
      "model_module_version": "1.2.0",
      "model_name": "LayoutModel",
      "state": {
       "_model_module": "@jupyter-widgets/base",
       "_model_module_version": "1.2.0",
       "_model_name": "LayoutModel",
       "_view_count": null,
       "_view_module": "@jupyter-widgets/base",
       "_view_module_version": "1.2.0",
       "_view_name": "LayoutView",
       "align_content": null,
       "align_items": null,
       "align_self": null,
       "border": null,
       "bottom": null,
       "display": null,
       "flex": null,
       "flex_flow": null,
       "grid_area": null,
       "grid_auto_columns": null,
       "grid_auto_flow": null,
       "grid_auto_rows": null,
       "grid_column": null,
       "grid_gap": null,
       "grid_row": null,
       "grid_template_areas": null,
       "grid_template_columns": null,
       "grid_template_rows": null,
       "height": null,
       "justify_content": null,
       "justify_items": null,
       "left": null,
       "margin": null,
       "max_height": null,
       "max_width": null,
       "min_height": null,
       "min_width": null,
       "object_fit": null,
       "object_position": null,
       "order": null,
       "overflow": null,
       "overflow_x": null,
       "overflow_y": null,
       "padding": null,
       "right": null,
       "top": null,
       "visibility": null,
       "width": null
      }
     },
     "0b20e62d7b73498ba3083667211ee7af": {
      "model_module": "@jupyter-widgets/base",
      "model_module_version": "1.2.0",
      "model_name": "LayoutModel",
      "state": {
       "_model_module": "@jupyter-widgets/base",
       "_model_module_version": "1.2.0",
       "_model_name": "LayoutModel",
       "_view_count": null,
       "_view_module": "@jupyter-widgets/base",
       "_view_module_version": "1.2.0",
       "_view_name": "LayoutView",
       "align_content": null,
       "align_items": null,
       "align_self": null,
       "border": null,
       "bottom": null,
       "display": null,
       "flex": null,
       "flex_flow": null,
       "grid_area": null,
       "grid_auto_columns": null,
       "grid_auto_flow": null,
       "grid_auto_rows": null,
       "grid_column": null,
       "grid_gap": null,
       "grid_row": null,
       "grid_template_areas": null,
       "grid_template_columns": null,
       "grid_template_rows": null,
       "height": null,
       "justify_content": null,
       "justify_items": null,
       "left": null,
       "margin": null,
       "max_height": null,
       "max_width": null,
       "min_height": null,
       "min_width": null,
       "object_fit": null,
       "object_position": null,
       "order": null,
       "overflow": null,
       "overflow_x": null,
       "overflow_y": null,
       "padding": null,
       "right": null,
       "top": null,
       "visibility": null,
       "width": null
      }
     },
     "0d98e46909ce40b286038cf40072037f": {
      "model_module": "@jupyter-widgets/controls",
      "model_module_version": "1.5.0",
      "model_name": "DescriptionStyleModel",
      "state": {
       "_model_module": "@jupyter-widgets/controls",
       "_model_module_version": "1.5.0",
       "_model_name": "DescriptionStyleModel",
       "_view_count": null,
       "_view_module": "@jupyter-widgets/base",
       "_view_module_version": "1.2.0",
       "_view_name": "StyleView",
       "description_width": ""
      }
     },
     "0ee510bcd21c45b487894a622951a598": {
      "model_module": "@jupyter-widgets/controls",
      "model_module_version": "1.5.0",
      "model_name": "DescriptionStyleModel",
      "state": {
       "_model_module": "@jupyter-widgets/controls",
       "_model_module_version": "1.5.0",
       "_model_name": "DescriptionStyleModel",
       "_view_count": null,
       "_view_module": "@jupyter-widgets/base",
       "_view_module_version": "1.2.0",
       "_view_name": "StyleView",
       "description_width": ""
      }
     },
     "0fafb5da66ab47928b951576db6a23c3": {
      "model_module": "@jupyter-widgets/controls",
      "model_module_version": "1.5.0",
      "model_name": "HBoxModel",
      "state": {
       "_dom_classes": [],
       "_model_module": "@jupyter-widgets/controls",
       "_model_module_version": "1.5.0",
       "_model_name": "HBoxModel",
       "_view_count": null,
       "_view_module": "@jupyter-widgets/controls",
       "_view_module_version": "1.5.0",
       "_view_name": "HBoxView",
       "box_style": "",
       "children": [
        "IPY_MODEL_95e43bb1878140029ed64872eebaaad2",
        "IPY_MODEL_a9df8f71b0034a67be9c70268128d52e",
        "IPY_MODEL_a37c34e17cdc4c9ba229fb4afd2d67fa"
       ],
       "layout": "IPY_MODEL_812194c43bff46dba21e33024c39b7c5"
      }
     },
     "108632df92184ea4953ddd89197b8dc1": {
      "model_module": "@jupyter-widgets/base",
      "model_module_version": "1.2.0",
      "model_name": "LayoutModel",
      "state": {
       "_model_module": "@jupyter-widgets/base",
       "_model_module_version": "1.2.0",
       "_model_name": "LayoutModel",
       "_view_count": null,
       "_view_module": "@jupyter-widgets/base",
       "_view_module_version": "1.2.0",
       "_view_name": "LayoutView",
       "align_content": null,
       "align_items": null,
       "align_self": null,
       "border": null,
       "bottom": null,
       "display": null,
       "flex": null,
       "flex_flow": null,
       "grid_area": null,
       "grid_auto_columns": null,
       "grid_auto_flow": null,
       "grid_auto_rows": null,
       "grid_column": null,
       "grid_gap": null,
       "grid_row": null,
       "grid_template_areas": null,
       "grid_template_columns": null,
       "grid_template_rows": null,
       "height": null,
       "justify_content": null,
       "justify_items": null,
       "left": null,
       "margin": null,
       "max_height": null,
       "max_width": null,
       "min_height": null,
       "min_width": null,
       "object_fit": null,
       "object_position": null,
       "order": null,
       "overflow": null,
       "overflow_x": null,
       "overflow_y": null,
       "padding": null,
       "right": null,
       "top": null,
       "visibility": null,
       "width": null
      }
     },
     "12938c8185684724b3ec0caf5c3fc6c9": {
      "model_module": "@jupyter-widgets/base",
      "model_module_version": "1.2.0",
      "model_name": "LayoutModel",
      "state": {
       "_model_module": "@jupyter-widgets/base",
       "_model_module_version": "1.2.0",
       "_model_name": "LayoutModel",
       "_view_count": null,
       "_view_module": "@jupyter-widgets/base",
       "_view_module_version": "1.2.0",
       "_view_name": "LayoutView",
       "align_content": null,
       "align_items": null,
       "align_self": null,
       "border": null,
       "bottom": null,
       "display": null,
       "flex": null,
       "flex_flow": null,
       "grid_area": null,
       "grid_auto_columns": null,
       "grid_auto_flow": null,
       "grid_auto_rows": null,
       "grid_column": null,
       "grid_gap": null,
       "grid_row": null,
       "grid_template_areas": null,
       "grid_template_columns": null,
       "grid_template_rows": null,
       "height": null,
       "justify_content": null,
       "justify_items": null,
       "left": null,
       "margin": null,
       "max_height": null,
       "max_width": null,
       "min_height": null,
       "min_width": null,
       "object_fit": null,
       "object_position": null,
       "order": null,
       "overflow": null,
       "overflow_x": null,
       "overflow_y": null,
       "padding": null,
       "right": null,
       "top": null,
       "visibility": null,
       "width": null
      }
     },
     "14a020fd40304bf6b68cd40b6775932f": {
      "model_module": "@jupyter-widgets/base",
      "model_module_version": "1.2.0",
      "model_name": "LayoutModel",
      "state": {
       "_model_module": "@jupyter-widgets/base",
       "_model_module_version": "1.2.0",
       "_model_name": "LayoutModel",
       "_view_count": null,
       "_view_module": "@jupyter-widgets/base",
       "_view_module_version": "1.2.0",
       "_view_name": "LayoutView",
       "align_content": null,
       "align_items": null,
       "align_self": null,
       "border": null,
       "bottom": null,
       "display": null,
       "flex": null,
       "flex_flow": null,
       "grid_area": null,
       "grid_auto_columns": null,
       "grid_auto_flow": null,
       "grid_auto_rows": null,
       "grid_column": null,
       "grid_gap": null,
       "grid_row": null,
       "grid_template_areas": null,
       "grid_template_columns": null,
       "grid_template_rows": null,
       "height": null,
       "justify_content": null,
       "justify_items": null,
       "left": null,
       "margin": null,
       "max_height": null,
       "max_width": null,
       "min_height": null,
       "min_width": null,
       "object_fit": null,
       "object_position": null,
       "order": null,
       "overflow": null,
       "overflow_x": null,
       "overflow_y": null,
       "padding": null,
       "right": null,
       "top": null,
       "visibility": null,
       "width": null
      }
     },
     "1870e1fb06754ba4a6ff36f090636864": {
      "model_module": "@jupyter-widgets/base",
      "model_module_version": "1.2.0",
      "model_name": "LayoutModel",
      "state": {
       "_model_module": "@jupyter-widgets/base",
       "_model_module_version": "1.2.0",
       "_model_name": "LayoutModel",
       "_view_count": null,
       "_view_module": "@jupyter-widgets/base",
       "_view_module_version": "1.2.0",
       "_view_name": "LayoutView",
       "align_content": null,
       "align_items": null,
       "align_self": null,
       "border": null,
       "bottom": null,
       "display": null,
       "flex": null,
       "flex_flow": null,
       "grid_area": null,
       "grid_auto_columns": null,
       "grid_auto_flow": null,
       "grid_auto_rows": null,
       "grid_column": null,
       "grid_gap": null,
       "grid_row": null,
       "grid_template_areas": null,
       "grid_template_columns": null,
       "grid_template_rows": null,
       "height": null,
       "justify_content": null,
       "justify_items": null,
       "left": null,
       "margin": null,
       "max_height": null,
       "max_width": null,
       "min_height": null,
       "min_width": null,
       "object_fit": null,
       "object_position": null,
       "order": null,
       "overflow": null,
       "overflow_x": null,
       "overflow_y": null,
       "padding": null,
       "right": null,
       "top": null,
       "visibility": null,
       "width": null
      }
     },
     "1a7e39063ca7416f82249470ade3eced": {
      "model_module": "@jupyter-widgets/controls",
      "model_module_version": "1.5.0",
      "model_name": "HBoxModel",
      "state": {
       "_dom_classes": [],
       "_model_module": "@jupyter-widgets/controls",
       "_model_module_version": "1.5.0",
       "_model_name": "HBoxModel",
       "_view_count": null,
       "_view_module": "@jupyter-widgets/controls",
       "_view_module_version": "1.5.0",
       "_view_name": "HBoxView",
       "box_style": "",
       "children": [
        "IPY_MODEL_c308c313dc4147f2b011f2a99d093387",
        "IPY_MODEL_468eaf124ddc463da33bfd05ad1b6550",
        "IPY_MODEL_7099ce297e2e4373b481cdc4cd140d82"
       ],
       "layout": "IPY_MODEL_14a020fd40304bf6b68cd40b6775932f"
      }
     },
     "1b9256ac76604301a3b0b965e4773b4d": {
      "model_module": "@jupyter-widgets/controls",
      "model_module_version": "1.5.0",
      "model_name": "ProgressStyleModel",
      "state": {
       "_model_module": "@jupyter-widgets/controls",
       "_model_module_version": "1.5.0",
       "_model_name": "ProgressStyleModel",
       "_view_count": null,
       "_view_module": "@jupyter-widgets/base",
       "_view_module_version": "1.2.0",
       "_view_name": "StyleView",
       "bar_color": null,
       "description_width": ""
      }
     },
     "1c20effffb1d4c2da2244db7445b40dd": {
      "model_module": "@jupyter-widgets/controls",
      "model_module_version": "1.5.0",
      "model_name": "FloatProgressModel",
      "state": {
       "_dom_classes": [],
       "_model_module": "@jupyter-widgets/controls",
       "_model_module_version": "1.5.0",
       "_model_name": "FloatProgressModel",
       "_view_count": null,
       "_view_module": "@jupyter-widgets/controls",
       "_view_module_version": "1.5.0",
       "_view_name": "ProgressView",
       "bar_style": "success",
       "description": "",
       "description_tooltip": null,
       "layout": "IPY_MODEL_6c4f233f2484430abd62b71bf3afe8c9",
       "max": 2363431,
       "min": 0,
       "orientation": "horizontal",
       "style": "IPY_MODEL_f3595034737c49cd838438627fc7a2cd",
       "value": 2363431
      }
     },
     "1c69be9686bb4b7697dd431ec5cd2033": {
      "model_module": "@jupyter-widgets/controls",
      "model_module_version": "1.5.0",
      "model_name": "DescriptionStyleModel",
      "state": {
       "_model_module": "@jupyter-widgets/controls",
       "_model_module_version": "1.5.0",
       "_model_name": "DescriptionStyleModel",
       "_view_count": null,
       "_view_module": "@jupyter-widgets/base",
       "_view_module_version": "1.2.0",
       "_view_name": "StyleView",
       "description_width": ""
      }
     },
     "1ceac2dbe76241c2b289f4cf470f87c6": {
      "model_module": "@jupyter-widgets/controls",
      "model_module_version": "1.5.0",
      "model_name": "HTMLModel",
      "state": {
       "_dom_classes": [],
       "_model_module": "@jupyter-widgets/controls",
       "_model_module_version": "1.5.0",
       "_model_name": "HTMLModel",
       "_view_count": null,
       "_view_module": "@jupyter-widgets/controls",
       "_view_module_version": "1.5.0",
       "_view_name": "HTMLView",
       "description": "",
       "description_tooltip": null,
       "layout": "IPY_MODEL_1870e1fb06754ba4a6ff36f090636864",
       "placeholder": "​",
       "style": "IPY_MODEL_ca512ada0761420dafa7e39cb6d49542",
       "value": " 53.0/53.0 [00:00&lt;00:00, 1.79kB/s]"
      }
     },
     "1d30703a721b4f838029babcc0aae0b9": {
      "model_module": "@jupyter-widgets/base",
      "model_module_version": "1.2.0",
      "model_name": "LayoutModel",
      "state": {
       "_model_module": "@jupyter-widgets/base",
       "_model_module_version": "1.2.0",
       "_model_name": "LayoutModel",
       "_view_count": null,
       "_view_module": "@jupyter-widgets/base",
       "_view_module_version": "1.2.0",
       "_view_name": "LayoutView",
       "align_content": null,
       "align_items": null,
       "align_self": null,
       "border": null,
       "bottom": null,
       "display": null,
       "flex": null,
       "flex_flow": null,
       "grid_area": null,
       "grid_auto_columns": null,
       "grid_auto_flow": null,
       "grid_auto_rows": null,
       "grid_column": null,
       "grid_gap": null,
       "grid_row": null,
       "grid_template_areas": null,
       "grid_template_columns": null,
       "grid_template_rows": null,
       "height": null,
       "justify_content": null,
       "justify_items": null,
       "left": null,
       "margin": null,
       "max_height": null,
       "max_width": null,
       "min_height": null,
       "min_width": null,
       "object_fit": null,
       "object_position": null,
       "order": null,
       "overflow": null,
       "overflow_x": null,
       "overflow_y": null,
       "padding": null,
       "right": null,
       "top": null,
       "visibility": null,
       "width": null
      }
     },
     "25fbc6a20ad34d29b4cdb30d38a60121": {
      "model_module": "@jupyter-widgets/controls",
      "model_module_version": "1.5.0",
      "model_name": "HTMLModel",
      "state": {
       "_dom_classes": [],
       "_model_module": "@jupyter-widgets/controls",
       "_model_module_version": "1.5.0",
       "_model_name": "HTMLModel",
       "_view_count": null,
       "_view_module": "@jupyter-widgets/controls",
       "_view_module_version": "1.5.0",
       "_view_name": "HTMLView",
       "description": "",
       "description_tooltip": null,
       "layout": "IPY_MODEL_73017b7eadca4ccfb272f79e174d0c81",
       "placeholder": "​",
       "style": "IPY_MODEL_031602d6c9cc4d2cbc4df5b7d51226aa",
       "value": " 112/112 [00:00&lt;00:00, 3.78kB/s]"
      }
     },
     "27e11724d1ac455cb0842e9688b57ef3": {
      "model_module": "@jupyter-widgets/base",
      "model_module_version": "1.2.0",
      "model_name": "LayoutModel",
      "state": {
       "_model_module": "@jupyter-widgets/base",
       "_model_module_version": "1.2.0",
       "_model_name": "LayoutModel",
       "_view_count": null,
       "_view_module": "@jupyter-widgets/base",
       "_view_module_version": "1.2.0",
       "_view_name": "LayoutView",
       "align_content": null,
       "align_items": null,
       "align_self": null,
       "border": null,
       "bottom": null,
       "display": null,
       "flex": null,
       "flex_flow": null,
       "grid_area": null,
       "grid_auto_columns": null,
       "grid_auto_flow": null,
       "grid_auto_rows": null,
       "grid_column": null,
       "grid_gap": null,
       "grid_row": null,
       "grid_template_areas": null,
       "grid_template_columns": null,
       "grid_template_rows": null,
       "height": null,
       "justify_content": null,
       "justify_items": null,
       "left": null,
       "margin": null,
       "max_height": null,
       "max_width": null,
       "min_height": null,
       "min_width": null,
       "object_fit": null,
       "object_position": null,
       "order": null,
       "overflow": null,
       "overflow_x": null,
       "overflow_y": null,
       "padding": null,
       "right": null,
       "top": null,
       "visibility": null,
       "width": null
      }
     },
     "27f585a470c74382adfad59f4e8efb7a": {
      "model_module": "@jupyter-widgets/controls",
      "model_module_version": "1.5.0",
      "model_name": "FloatProgressModel",
      "state": {
       "_dom_classes": [],
       "_model_module": "@jupyter-widgets/controls",
       "_model_module_version": "1.5.0",
       "_model_name": "FloatProgressModel",
       "_view_count": null,
       "_view_module": "@jupyter-widgets/controls",
       "_view_module_version": "1.5.0",
       "_view_name": "ProgressView",
       "bar_style": "success",
       "description": "",
       "description_tooltip": null,
       "layout": "IPY_MODEL_8561411503c549abbba8bc4e9b977ccf",
       "max": 804,
       "min": 0,
       "orientation": "horizontal",
       "style": "IPY_MODEL_dbc469e4da584cb58ee247cc6c6df5eb",
       "value": 804
      }
     },
     "28a2ca68a64d45cca5ca39a71d49acf6": {
      "model_module": "@jupyter-widgets/base",
      "model_module_version": "1.2.0",
      "model_name": "LayoutModel",
      "state": {
       "_model_module": "@jupyter-widgets/base",
       "_model_module_version": "1.2.0",
       "_model_name": "LayoutModel",
       "_view_count": null,
       "_view_module": "@jupyter-widgets/base",
       "_view_module_version": "1.2.0",
       "_view_name": "LayoutView",
       "align_content": null,
       "align_items": null,
       "align_self": null,
       "border": null,
       "bottom": null,
       "display": null,
       "flex": null,
       "flex_flow": null,
       "grid_area": null,
       "grid_auto_columns": null,
       "grid_auto_flow": null,
       "grid_auto_rows": null,
       "grid_column": null,
       "grid_gap": null,
       "grid_row": null,
       "grid_template_areas": null,
       "grid_template_columns": null,
       "grid_template_rows": null,
       "height": null,
       "justify_content": null,
       "justify_items": null,
       "left": null,
       "margin": null,
       "max_height": null,
       "max_width": null,
       "min_height": null,
       "min_width": null,
       "object_fit": null,
       "object_position": null,
       "order": null,
       "overflow": null,
       "overflow_x": null,
       "overflow_y": null,
       "padding": null,
       "right": null,
       "top": null,
       "visibility": null,
       "width": null
      }
     },
     "290b9c0cebc24b71a6628ce62dcfcc79": {
      "model_module": "@jupyter-widgets/base",
      "model_module_version": "1.2.0",
      "model_name": "LayoutModel",
      "state": {
       "_model_module": "@jupyter-widgets/base",
       "_model_module_version": "1.2.0",
       "_model_name": "LayoutModel",
       "_view_count": null,
       "_view_module": "@jupyter-widgets/base",
       "_view_module_version": "1.2.0",
       "_view_name": "LayoutView",
       "align_content": null,
       "align_items": null,
       "align_self": null,
       "border": null,
       "bottom": null,
       "display": null,
       "flex": null,
       "flex_flow": null,
       "grid_area": null,
       "grid_auto_columns": null,
       "grid_auto_flow": null,
       "grid_auto_rows": null,
       "grid_column": null,
       "grid_gap": null,
       "grid_row": null,
       "grid_template_areas": null,
       "grid_template_columns": null,
       "grid_template_rows": null,
       "height": null,
       "justify_content": null,
       "justify_items": null,
       "left": null,
       "margin": null,
       "max_height": null,
       "max_width": null,
       "min_height": null,
       "min_width": null,
       "object_fit": null,
       "object_position": null,
       "order": null,
       "overflow": null,
       "overflow_x": null,
       "overflow_y": null,
       "padding": null,
       "right": null,
       "top": null,
       "visibility": null,
       "width": null
      }
     },
     "2af158487fca4e7da3b6d97e494ea130": {
      "model_module": "@jupyter-widgets/base",
      "model_module_version": "1.2.0",
      "model_name": "LayoutModel",
      "state": {
       "_model_module": "@jupyter-widgets/base",
       "_model_module_version": "1.2.0",
       "_model_name": "LayoutModel",
       "_view_count": null,
       "_view_module": "@jupyter-widgets/base",
       "_view_module_version": "1.2.0",
       "_view_name": "LayoutView",
       "align_content": null,
       "align_items": null,
       "align_self": null,
       "border": null,
       "bottom": null,
       "display": null,
       "flex": null,
       "flex_flow": null,
       "grid_area": null,
       "grid_auto_columns": null,
       "grid_auto_flow": null,
       "grid_auto_rows": null,
       "grid_column": null,
       "grid_gap": null,
       "grid_row": null,
       "grid_template_areas": null,
       "grid_template_columns": null,
       "grid_template_rows": null,
       "height": null,
       "justify_content": null,
       "justify_items": null,
       "left": null,
       "margin": null,
       "max_height": null,
       "max_width": null,
       "min_height": null,
       "min_width": null,
       "object_fit": null,
       "object_position": null,
       "order": null,
       "overflow": null,
       "overflow_x": null,
       "overflow_y": null,
       "padding": null,
       "right": null,
       "top": null,
       "visibility": null,
       "width": null
      }
     },
     "2b11e80307bf4ceda860de8607ffd8af": {
      "model_module": "@jupyter-widgets/controls",
      "model_module_version": "1.5.0",
      "model_name": "HTMLModel",
      "state": {
       "_dom_classes": [],
       "_model_module": "@jupyter-widgets/controls",
       "_model_module_version": "1.5.0",
       "_model_name": "HTMLModel",
       "_view_count": null,
       "_view_module": "@jupyter-widgets/controls",
       "_view_module_version": "1.5.0",
       "_view_name": "HTMLView",
       "description": "",
       "description_tooltip": null,
       "layout": "IPY_MODEL_be37a739ca134964af045cfd7a860584",
       "placeholder": "​",
       "style": "IPY_MODEL_c0552e74ea37402285c1de972dc40310",
       "value": "Downloading: 100%"
      }
     },
     "2c1293a386e6481c88995e75de1fb729": {
      "model_module": "@jupyter-widgets/base",
      "model_module_version": "1.2.0",
      "model_name": "LayoutModel",
      "state": {
       "_model_module": "@jupyter-widgets/base",
       "_model_module_version": "1.2.0",
       "_model_name": "LayoutModel",
       "_view_count": null,
       "_view_module": "@jupyter-widgets/base",
       "_view_module_version": "1.2.0",
       "_view_name": "LayoutView",
       "align_content": null,
       "align_items": null,
       "align_self": null,
       "border": null,
       "bottom": null,
       "display": null,
       "flex": null,
       "flex_flow": null,
       "grid_area": null,
       "grid_auto_columns": null,
       "grid_auto_flow": null,
       "grid_auto_rows": null,
       "grid_column": null,
       "grid_gap": null,
       "grid_row": null,
       "grid_template_areas": null,
       "grid_template_columns": null,
       "grid_template_rows": null,
       "height": null,
       "justify_content": null,
       "justify_items": null,
       "left": null,
       "margin": null,
       "max_height": null,
       "max_width": null,
       "min_height": null,
       "min_width": null,
       "object_fit": null,
       "object_position": null,
       "order": null,
       "overflow": null,
       "overflow_x": null,
       "overflow_y": null,
       "padding": null,
       "right": null,
       "top": null,
       "visibility": null,
       "width": null
      }
     },
     "2e32525d969e4febb1a42488199ed894": {
      "model_module": "@jupyter-widgets/controls",
      "model_module_version": "1.5.0",
      "model_name": "ProgressStyleModel",
      "state": {
       "_model_module": "@jupyter-widgets/controls",
       "_model_module_version": "1.5.0",
       "_model_name": "ProgressStyleModel",
       "_view_count": null,
       "_view_module": "@jupyter-widgets/base",
       "_view_module_version": "1.2.0",
       "_view_name": "StyleView",
       "bar_color": null,
       "description_width": ""
      }
     },
     "2f6beaabf52a4e018b4249f9cde9f089": {
      "model_module": "@jupyter-widgets/controls",
      "model_module_version": "1.5.0",
      "model_name": "DescriptionStyleModel",
      "state": {
       "_model_module": "@jupyter-widgets/controls",
       "_model_module_version": "1.5.0",
       "_model_name": "DescriptionStyleModel",
       "_view_count": null,
       "_view_module": "@jupyter-widgets/base",
       "_view_module_version": "1.2.0",
       "_view_name": "StyleView",
       "description_width": ""
      }
     },
     "3173b7db0b334f7598628b7c3c5d4c4f": {
      "model_module": "@jupyter-widgets/controls",
      "model_module_version": "1.5.0",
      "model_name": "ProgressStyleModel",
      "state": {
       "_model_module": "@jupyter-widgets/controls",
       "_model_module_version": "1.5.0",
       "_model_name": "ProgressStyleModel",
       "_view_count": null,
       "_view_module": "@jupyter-widgets/base",
       "_view_module_version": "1.2.0",
       "_view_name": "StyleView",
       "bar_color": null,
       "description_width": ""
      }
     },
     "35c2aa1831cb4120bb2f63d3b605ee64": {
      "model_module": "@jupyter-widgets/base",
      "model_module_version": "1.2.0",
      "model_name": "LayoutModel",
      "state": {
       "_model_module": "@jupyter-widgets/base",
       "_model_module_version": "1.2.0",
       "_model_name": "LayoutModel",
       "_view_count": null,
       "_view_module": "@jupyter-widgets/base",
       "_view_module_version": "1.2.0",
       "_view_name": "LayoutView",
       "align_content": null,
       "align_items": null,
       "align_self": null,
       "border": null,
       "bottom": null,
       "display": null,
       "flex": null,
       "flex_flow": null,
       "grid_area": null,
       "grid_auto_columns": null,
       "grid_auto_flow": null,
       "grid_auto_rows": null,
       "grid_column": null,
       "grid_gap": null,
       "grid_row": null,
       "grid_template_areas": null,
       "grid_template_columns": null,
       "grid_template_rows": null,
       "height": null,
       "justify_content": null,
       "justify_items": null,
       "left": null,
       "margin": null,
       "max_height": null,
       "max_width": null,
       "min_height": null,
       "min_width": null,
       "object_fit": null,
       "object_position": null,
       "order": null,
       "overflow": null,
       "overflow_x": null,
       "overflow_y": null,
       "padding": null,
       "right": null,
       "top": null,
       "visibility": null,
       "width": null
      }
     },
     "3770148924b8407b879ad7f1fad18cec": {
      "model_module": "@jupyter-widgets/base",
      "model_module_version": "1.2.0",
      "model_name": "LayoutModel",
      "state": {
       "_model_module": "@jupyter-widgets/base",
       "_model_module_version": "1.2.0",
       "_model_name": "LayoutModel",
       "_view_count": null,
       "_view_module": "@jupyter-widgets/base",
       "_view_module_version": "1.2.0",
       "_view_name": "LayoutView",
       "align_content": null,
       "align_items": null,
       "align_self": null,
       "border": null,
       "bottom": null,
       "display": null,
       "flex": null,
       "flex_flow": null,
       "grid_area": null,
       "grid_auto_columns": null,
       "grid_auto_flow": null,
       "grid_auto_rows": null,
       "grid_column": null,
       "grid_gap": null,
       "grid_row": null,
       "grid_template_areas": null,
       "grid_template_columns": null,
       "grid_template_rows": null,
       "height": null,
       "justify_content": null,
       "justify_items": null,
       "left": null,
       "margin": null,
       "max_height": null,
       "max_width": null,
       "min_height": null,
       "min_width": null,
       "object_fit": null,
       "object_position": null,
       "order": null,
       "overflow": null,
       "overflow_x": null,
       "overflow_y": null,
       "padding": null,
       "right": null,
       "top": null,
       "visibility": null,
       "width": null
      }
     },
     "3881533d61384622ad8a0821b55aa223": {
      "model_module": "@jupyter-widgets/controls",
      "model_module_version": "1.5.0",
      "model_name": "HBoxModel",
      "state": {
       "_dom_classes": [],
       "_model_module": "@jupyter-widgets/controls",
       "_model_module_version": "1.5.0",
       "_model_name": "HBoxModel",
       "_view_count": null,
       "_view_module": "@jupyter-widgets/controls",
       "_view_module_version": "1.5.0",
       "_view_name": "HBoxView",
       "box_style": "",
       "children": [
        "IPY_MODEL_613a35fdf7e942e6a9f0b15150f5ef87",
        "IPY_MODEL_77761c3b8060406e84cf2d3c21bad46b",
        "IPY_MODEL_90f88bdc651041ea887025f9bbdb65d5"
       ],
       "layout": "IPY_MODEL_5a397037b9644df7b60d65f3e3c8fb3f"
      }
     },
     "39856f093f4a4ebd8617797c990d2570": {
      "model_module": "@jupyter-widgets/controls",
      "model_module_version": "1.5.0",
      "model_name": "HTMLModel",
      "state": {
       "_dom_classes": [],
       "_model_module": "@jupyter-widgets/controls",
       "_model_module_version": "1.5.0",
       "_model_name": "HTMLModel",
       "_view_count": null,
       "_view_module": "@jupyter-widgets/controls",
       "_view_module_version": "1.5.0",
       "_view_name": "HTMLView",
       "description": "",
       "description_tooltip": null,
       "layout": "IPY_MODEL_f597a8b56b6d42e3ae48ed427fa35910",
       "placeholder": "​",
       "style": "IPY_MODEL_0ee510bcd21c45b487894a622951a598",
       "value": " 190/190 [00:00&lt;00:00, 6.45kB/s]"
      }
     },
     "39c37f054b7b4fea8f4bf69a77624edc": {
      "model_module": "@jupyter-widgets/base",
      "model_module_version": "1.2.0",
      "model_name": "LayoutModel",
      "state": {
       "_model_module": "@jupyter-widgets/base",
       "_model_module_version": "1.2.0",
       "_model_name": "LayoutModel",
       "_view_count": null,
       "_view_module": "@jupyter-widgets/base",
       "_view_module_version": "1.2.0",
       "_view_name": "LayoutView",
       "align_content": null,
       "align_items": null,
       "align_self": null,
       "border": null,
       "bottom": null,
       "display": null,
       "flex": null,
       "flex_flow": null,
       "grid_area": null,
       "grid_auto_columns": null,
       "grid_auto_flow": null,
       "grid_auto_rows": null,
       "grid_column": null,
       "grid_gap": null,
       "grid_row": null,
       "grid_template_areas": null,
       "grid_template_columns": null,
       "grid_template_rows": null,
       "height": null,
       "justify_content": null,
       "justify_items": null,
       "left": null,
       "margin": null,
       "max_height": null,
       "max_width": null,
       "min_height": null,
       "min_width": null,
       "object_fit": null,
       "object_position": null,
       "order": null,
       "overflow": null,
       "overflow_x": null,
       "overflow_y": null,
       "padding": null,
       "right": null,
       "top": null,
       "visibility": null,
       "width": null
      }
     },
     "3be5b61abb1d47fc97acaaaa513bdaac": {
      "model_module": "@jupyter-widgets/controls",
      "model_module_version": "1.5.0",
      "model_name": "FloatProgressModel",
      "state": {
       "_dom_classes": [],
       "_model_module": "@jupyter-widgets/controls",
       "_model_module_version": "1.5.0",
       "_model_name": "FloatProgressModel",
       "_view_count": null,
       "_view_module": "@jupyter-widgets/controls",
       "_view_module_version": "1.5.0",
       "_view_name": "ProgressView",
       "bar_style": "success",
       "description": "",
       "description_tooltip": null,
       "layout": "IPY_MODEL_ff3e40addd6146e38116f98361a3d01d",
       "max": 9621556,
       "min": 0,
       "orientation": "horizontal",
       "style": "IPY_MODEL_fe3c55f372a2473ba1a5859aedfbd913",
       "value": 9621556
      }
     },
     "3dae8a07c5254c909ac0e179e0ebac6c": {
      "model_module": "@jupyter-widgets/controls",
      "model_module_version": "1.5.0",
      "model_name": "HTMLModel",
      "state": {
       "_dom_classes": [],
       "_model_module": "@jupyter-widgets/controls",
       "_model_module_version": "1.5.0",
       "_model_name": "HTMLModel",
       "_view_count": null,
       "_view_module": "@jupyter-widgets/controls",
       "_view_module_version": "1.5.0",
       "_view_name": "HTMLView",
       "description": "",
       "description_tooltip": null,
       "layout": "IPY_MODEL_7ad866eec0f74c4597d9c285bcb11af4",
       "placeholder": "​",
       "style": "IPY_MODEL_92d0656b5bb24df7a52319600ffdac3b",
       "value": " 9.62M/9.62M [00:00&lt;00:00, 14.5MB/s]"
      }
     },
     "4155a3779d4844d4a5b86c9029e87b3a": {
      "model_module": "@jupyter-widgets/controls",
      "model_module_version": "1.5.0",
      "model_name": "HTMLModel",
      "state": {
       "_dom_classes": [],
       "_model_module": "@jupyter-widgets/controls",
       "_model_module_version": "1.5.0",
       "_model_name": "HTMLModel",
       "_view_count": null,
       "_view_module": "@jupyter-widgets/controls",
       "_view_module_version": "1.5.0",
       "_view_name": "HTMLView",
       "description": "",
       "description_tooltip": null,
       "layout": "IPY_MODEL_f14a2b960dfb41079197cfc5478a4f01",
       "placeholder": "​",
       "style": "IPY_MODEL_0d98e46909ce40b286038cf40072037f",
       "value": " 122/122 [00:00&lt;00:00, 3.19kB/s]"
      }
     },
     "41a809eb4e0b40629dfe08ff30dff6c7": {
      "model_module": "@jupyter-widgets/controls",
      "model_module_version": "1.5.0",
      "model_name": "HTMLModel",
      "state": {
       "_dom_classes": [],
       "_model_module": "@jupyter-widgets/controls",
       "_model_module_version": "1.5.0",
       "_model_name": "HTMLModel",
       "_view_count": null,
       "_view_module": "@jupyter-widgets/controls",
       "_view_module_version": "1.5.0",
       "_view_name": "HTMLView",
       "description": "",
       "description_tooltip": null,
       "layout": "IPY_MODEL_d5fc498bb5f94262a643ff32565dd830",
       "placeholder": "​",
       "style": "IPY_MODEL_66c23ff8dcfa4a40b989d392f7378d3b",
       "value": "Downloading: 100%"
      }
     },
     "4511fcc2f0514ee5870ea5896589e723": {
      "model_module": "@jupyter-widgets/controls",
      "model_module_version": "1.5.0",
      "model_name": "HBoxModel",
      "state": {
       "_dom_classes": [],
       "_model_module": "@jupyter-widgets/controls",
       "_model_module_version": "1.5.0",
       "_model_name": "HBoxModel",
       "_view_count": null,
       "_view_module": "@jupyter-widgets/controls",
       "_view_module_version": "1.5.0",
       "_view_name": "HBoxView",
       "box_style": "",
       "children": [
        "IPY_MODEL_509031da291340778dea7ffa916d25da",
        "IPY_MODEL_cb574f96fe1b4404bf2929774a00b355",
        "IPY_MODEL_557549060b7f40f182520b68006d5d6a"
       ],
       "layout": "IPY_MODEL_938db57432484bbf85991f0903023bad"
      }
     },
     "4578492615644a62b9affb56439672e5": {
      "model_module": "@jupyter-widgets/base",
      "model_module_version": "1.2.0",
      "model_name": "LayoutModel",
      "state": {
       "_model_module": "@jupyter-widgets/base",
       "_model_module_version": "1.2.0",
       "_model_name": "LayoutModel",
       "_view_count": null,
       "_view_module": "@jupyter-widgets/base",
       "_view_module_version": "1.2.0",
       "_view_name": "LayoutView",
       "align_content": null,
       "align_items": null,
       "align_self": null,
       "border": null,
       "bottom": null,
       "display": null,
       "flex": null,
       "flex_flow": null,
       "grid_area": null,
       "grid_auto_columns": null,
       "grid_auto_flow": null,
       "grid_auto_rows": null,
       "grid_column": null,
       "grid_gap": null,
       "grid_row": null,
       "grid_template_areas": null,
       "grid_template_columns": null,
       "grid_template_rows": null,
       "height": null,
       "justify_content": null,
       "justify_items": null,
       "left": null,
       "margin": null,
       "max_height": null,
       "max_width": null,
       "min_height": null,
       "min_width": null,
       "object_fit": null,
       "object_position": null,
       "order": null,
       "overflow": null,
       "overflow_x": null,
       "overflow_y": null,
       "padding": null,
       "right": null,
       "top": null,
       "visibility": null,
       "width": null
      }
     },
     "468eaf124ddc463da33bfd05ad1b6550": {
      "model_module": "@jupyter-widgets/controls",
      "model_module_version": "1.5.0",
      "model_name": "FloatProgressModel",
      "state": {
       "_dom_classes": [],
       "_model_module": "@jupyter-widgets/controls",
       "_model_module_version": "1.5.0",
       "_model_name": "FloatProgressModel",
       "_view_count": null,
       "_view_module": "@jupyter-widgets/controls",
       "_view_module_version": "1.5.0",
       "_view_name": "ProgressView",
       "bar_style": "success",
       "description": "",
       "description_tooltip": null,
       "layout": "IPY_MODEL_8349fb01d4df4656bb6c9f9fbbfe15d3",
       "max": 5220781,
       "min": 0,
       "orientation": "horizontal",
       "style": "IPY_MODEL_3173b7db0b334f7598628b7c3c5d4c4f",
       "value": 5220781
      }
     },
     "47a42b7f024f4405a76e00d3b85c118c": {
      "model_module": "@jupyter-widgets/controls",
      "model_module_version": "1.5.0",
      "model_name": "HBoxModel",
      "state": {
       "_dom_classes": [],
       "_model_module": "@jupyter-widgets/controls",
       "_model_module_version": "1.5.0",
       "_model_name": "HBoxModel",
       "_view_count": null,
       "_view_module": "@jupyter-widgets/controls",
       "_view_module_version": "1.5.0",
       "_view_name": "HBoxView",
       "box_style": "",
       "children": [
        "IPY_MODEL_becf1fea0df94e0ea67c2d93943f8446",
        "IPY_MODEL_73ddbd93be7d47acb6bf4295b8381ea9",
        "IPY_MODEL_1ceac2dbe76241c2b289f4cf470f87c6"
       ],
       "layout": "IPY_MODEL_087358ae05484a94b5d829856dce1f4d"
      }
     },
     "48a79c11e98246faa39352931e6d6a10": {
      "model_module": "@jupyter-widgets/controls",
      "model_module_version": "1.5.0",
      "model_name": "DescriptionStyleModel",
      "state": {
       "_model_module": "@jupyter-widgets/controls",
       "_model_module_version": "1.5.0",
       "_model_name": "DescriptionStyleModel",
       "_view_count": null,
       "_view_module": "@jupyter-widgets/base",
       "_view_module_version": "1.2.0",
       "_view_name": "StyleView",
       "description_width": ""
      }
     },
     "48e2e9878a7f4686bb7012478ef32605": {
      "model_module": "@jupyter-widgets/base",
      "model_module_version": "1.2.0",
      "model_name": "LayoutModel",
      "state": {
       "_model_module": "@jupyter-widgets/base",
       "_model_module_version": "1.2.0",
       "_model_name": "LayoutModel",
       "_view_count": null,
       "_view_module": "@jupyter-widgets/base",
       "_view_module_version": "1.2.0",
       "_view_name": "LayoutView",
       "align_content": null,
       "align_items": null,
       "align_self": null,
       "border": null,
       "bottom": null,
       "display": null,
       "flex": null,
       "flex_flow": null,
       "grid_area": null,
       "grid_auto_columns": null,
       "grid_auto_flow": null,
       "grid_auto_rows": null,
       "grid_column": null,
       "grid_gap": null,
       "grid_row": null,
       "grid_template_areas": null,
       "grid_template_columns": null,
       "grid_template_rows": null,
       "height": null,
       "justify_content": null,
       "justify_items": null,
       "left": null,
       "margin": null,
       "max_height": null,
       "max_width": null,
       "min_height": null,
       "min_width": null,
       "object_fit": null,
       "object_position": null,
       "order": null,
       "overflow": null,
       "overflow_x": null,
       "overflow_y": null,
       "padding": null,
       "right": null,
       "top": null,
       "visibility": null,
       "width": null
      }
     },
     "4bf1141ed88a413989763de5f9516343": {
      "model_module": "@jupyter-widgets/base",
      "model_module_version": "1.2.0",
      "model_name": "LayoutModel",
      "state": {
       "_model_module": "@jupyter-widgets/base",
       "_model_module_version": "1.2.0",
       "_model_name": "LayoutModel",
       "_view_count": null,
       "_view_module": "@jupyter-widgets/base",
       "_view_module_version": "1.2.0",
       "_view_name": "LayoutView",
       "align_content": null,
       "align_items": null,
       "align_self": null,
       "border": null,
       "bottom": null,
       "display": null,
       "flex": null,
       "flex_flow": null,
       "grid_area": null,
       "grid_auto_columns": null,
       "grid_auto_flow": null,
       "grid_auto_rows": null,
       "grid_column": null,
       "grid_gap": null,
       "grid_row": null,
       "grid_template_areas": null,
       "grid_template_columns": null,
       "grid_template_rows": null,
       "height": null,
       "justify_content": null,
       "justify_items": null,
       "left": null,
       "margin": null,
       "max_height": null,
       "max_width": null,
       "min_height": null,
       "min_width": null,
       "object_fit": null,
       "object_position": null,
       "order": null,
       "overflow": null,
       "overflow_x": null,
       "overflow_y": null,
       "padding": null,
       "right": null,
       "top": null,
       "visibility": null,
       "width": null
      }
     },
     "4e66818130574e6dba64076199a127fa": {
      "model_module": "@jupyter-widgets/base",
      "model_module_version": "1.2.0",
      "model_name": "LayoutModel",
      "state": {
       "_model_module": "@jupyter-widgets/base",
       "_model_module_version": "1.2.0",
       "_model_name": "LayoutModel",
       "_view_count": null,
       "_view_module": "@jupyter-widgets/base",
       "_view_module_version": "1.2.0",
       "_view_name": "LayoutView",
       "align_content": null,
       "align_items": null,
       "align_self": null,
       "border": null,
       "bottom": null,
       "display": null,
       "flex": null,
       "flex_flow": null,
       "grid_area": null,
       "grid_auto_columns": null,
       "grid_auto_flow": null,
       "grid_auto_rows": null,
       "grid_column": null,
       "grid_gap": null,
       "grid_row": null,
       "grid_template_areas": null,
       "grid_template_columns": null,
       "grid_template_rows": null,
       "height": null,
       "justify_content": null,
       "justify_items": null,
       "left": null,
       "margin": null,
       "max_height": null,
       "max_width": null,
       "min_height": null,
       "min_width": null,
       "object_fit": null,
       "object_position": null,
       "order": null,
       "overflow": null,
       "overflow_x": null,
       "overflow_y": null,
       "padding": null,
       "right": null,
       "top": null,
       "visibility": null,
       "width": null
      }
     },
     "509031da291340778dea7ffa916d25da": {
      "model_module": "@jupyter-widgets/controls",
      "model_module_version": "1.5.0",
      "model_name": "HTMLModel",
      "state": {
       "_dom_classes": [],
       "_model_module": "@jupyter-widgets/controls",
       "_model_module_version": "1.5.0",
       "_model_name": "HTMLModel",
       "_view_count": null,
       "_view_module": "@jupyter-widgets/controls",
       "_view_module_version": "1.5.0",
       "_view_name": "HTMLView",
       "description": "",
       "description_tooltip": null,
       "layout": "IPY_MODEL_c2c968f6492c486d8825872defdb5c23",
       "placeholder": "​",
       "style": "IPY_MODEL_5f8974abae63437e8853f9f70aa3b4a7",
       "value": "Downloading: 100%"
      }
     },
     "5267e7fb07d147a781e6e3bd71b54275": {
      "model_module": "@jupyter-widgets/controls",
      "model_module_version": "1.5.0",
      "model_name": "HTMLModel",
      "state": {
       "_dom_classes": [],
       "_model_module": "@jupyter-widgets/controls",
       "_model_module_version": "1.5.0",
       "_model_name": "HTMLModel",
       "_view_count": null,
       "_view_module": "@jupyter-widgets/controls",
       "_view_module_version": "1.5.0",
       "_view_name": "HTMLView",
       "description": "",
       "description_tooltip": null,
       "layout": "IPY_MODEL_27e11724d1ac455cb0842e9688b57ef3",
       "placeholder": "​",
       "style": "IPY_MODEL_5b72d922838049f5a7b1bd607b8ed9ee",
       "value": "Downloading: 100%"
      }
     },
     "539569e8301c4a6b837c72baea88d95b": {
      "model_module": "@jupyter-widgets/controls",
      "model_module_version": "1.5.0",
      "model_name": "HBoxModel",
      "state": {
       "_dom_classes": [],
       "_model_module": "@jupyter-widgets/controls",
       "_model_module_version": "1.5.0",
       "_model_name": "HBoxModel",
       "_view_count": null,
       "_view_module": "@jupyter-widgets/controls",
       "_view_module_version": "1.5.0",
       "_view_name": "HBoxView",
       "box_style": "",
       "children": [
        "IPY_MODEL_5267e7fb07d147a781e6e3bd71b54275",
        "IPY_MODEL_1c20effffb1d4c2da2244db7445b40dd",
        "IPY_MODEL_fbbe997f32094dbe841daa1ca738d0a5"
       ],
       "layout": "IPY_MODEL_4578492615644a62b9affb56439672e5"
      }
     },
     "54a34592d94a4fd9a809a049ef2a9c74": {
      "model_module": "@jupyter-widgets/base",
      "model_module_version": "1.2.0",
      "model_name": "LayoutModel",
      "state": {
       "_model_module": "@jupyter-widgets/base",
       "_model_module_version": "1.2.0",
       "_model_name": "LayoutModel",
       "_view_count": null,
       "_view_module": "@jupyter-widgets/base",
       "_view_module_version": "1.2.0",
       "_view_name": "LayoutView",
       "align_content": null,
       "align_items": null,
       "align_self": null,
       "border": null,
       "bottom": null,
       "display": null,
       "flex": null,
       "flex_flow": null,
       "grid_area": null,
       "grid_auto_columns": null,
       "grid_auto_flow": null,
       "grid_auto_rows": null,
       "grid_column": null,
       "grid_gap": null,
       "grid_row": null,
       "grid_template_areas": null,
       "grid_template_columns": null,
       "grid_template_rows": null,
       "height": null,
       "justify_content": null,
       "justify_items": null,
       "left": null,
       "margin": null,
       "max_height": null,
       "max_width": null,
       "min_height": null,
       "min_width": null,
       "object_fit": null,
       "object_position": null,
       "order": null,
       "overflow": null,
       "overflow_x": null,
       "overflow_y": null,
       "padding": null,
       "right": null,
       "top": null,
       "visibility": null,
       "width": null
      }
     },
     "557549060b7f40f182520b68006d5d6a": {
      "model_module": "@jupyter-widgets/controls",
      "model_module_version": "1.5.0",
      "model_name": "HTMLModel",
      "state": {
       "_dom_classes": [],
       "_model_module": "@jupyter-widgets/controls",
       "_model_module_version": "1.5.0",
       "_model_name": "HTMLModel",
       "_view_count": null,
       "_view_module": "@jupyter-widgets/controls",
       "_view_module_version": "1.5.0",
       "_view_name": "HTMLView",
       "description": "",
       "description_tooltip": null,
       "layout": "IPY_MODEL_b004f24ea8f1442aa6efba7f7d8ee2f6",
       "placeholder": "​",
       "style": "IPY_MODEL_dc63149c962f4668a89f9f94d60763a1",
       "value": " 1.88G/1.88G [01:04&lt;00:00, 31.5MB/s]"
      }
     },
     "55a0f7458a4745178079766d1bb7b81f": {
      "model_module": "@jupyter-widgets/controls",
      "model_module_version": "1.5.0",
      "model_name": "FloatProgressModel",
      "state": {
       "_dom_classes": [],
       "_model_module": "@jupyter-widgets/controls",
       "_model_module_version": "1.5.0",
       "_model_name": "FloatProgressModel",
       "_view_count": null,
       "_view_module": "@jupyter-widgets/controls",
       "_view_module_version": "1.5.0",
       "_view_name": "ProgressView",
       "bar_style": "success",
       "description": "",
       "description_tooltip": null,
       "layout": "IPY_MODEL_290b9c0cebc24b71a6628ce62dcfcc79",
       "max": 391,
       "min": 0,
       "orientation": "horizontal",
       "style": "IPY_MODEL_2e32525d969e4febb1a42488199ed894",
       "value": 391
      }
     },
     "5868ec8f6c0a45a4a02719d1af8d1f11": {
      "model_module": "@jupyter-widgets/controls",
      "model_module_version": "1.5.0",
      "model_name": "DescriptionStyleModel",
      "state": {
       "_model_module": "@jupyter-widgets/controls",
       "_model_module_version": "1.5.0",
       "_model_name": "DescriptionStyleModel",
       "_view_count": null,
       "_view_module": "@jupyter-widgets/base",
       "_view_module_version": "1.2.0",
       "_view_name": "StyleView",
       "description_width": ""
      }
     },
     "5a397037b9644df7b60d65f3e3c8fb3f": {
      "model_module": "@jupyter-widgets/base",
      "model_module_version": "1.2.0",
      "model_name": "LayoutModel",
      "state": {
       "_model_module": "@jupyter-widgets/base",
       "_model_module_version": "1.2.0",
       "_model_name": "LayoutModel",
       "_view_count": null,
       "_view_module": "@jupyter-widgets/base",
       "_view_module_version": "1.2.0",
       "_view_name": "LayoutView",
       "align_content": null,
       "align_items": null,
       "align_self": null,
       "border": null,
       "bottom": null,
       "display": null,
       "flex": null,
       "flex_flow": null,
       "grid_area": null,
       "grid_auto_columns": null,
       "grid_auto_flow": null,
       "grid_auto_rows": null,
       "grid_column": null,
       "grid_gap": null,
       "grid_row": null,
       "grid_template_areas": null,
       "grid_template_columns": null,
       "grid_template_rows": null,
       "height": null,
       "justify_content": null,
       "justify_items": null,
       "left": null,
       "margin": null,
       "max_height": null,
       "max_width": null,
       "min_height": null,
       "min_width": null,
       "object_fit": null,
       "object_position": null,
       "order": null,
       "overflow": null,
       "overflow_x": null,
       "overflow_y": null,
       "padding": null,
       "right": null,
       "top": null,
       "visibility": null,
       "width": null
      }
     },
     "5b72d922838049f5a7b1bd607b8ed9ee": {
      "model_module": "@jupyter-widgets/controls",
      "model_module_version": "1.5.0",
      "model_name": "DescriptionStyleModel",
      "state": {
       "_model_module": "@jupyter-widgets/controls",
       "_model_module_version": "1.5.0",
       "_model_name": "DescriptionStyleModel",
       "_view_count": null,
       "_view_module": "@jupyter-widgets/base",
       "_view_module_version": "1.2.0",
       "_view_name": "StyleView",
       "description_width": ""
      }
     },
     "5f8974abae63437e8853f9f70aa3b4a7": {
      "model_module": "@jupyter-widgets/controls",
      "model_module_version": "1.5.0",
      "model_name": "DescriptionStyleModel",
      "state": {
       "_model_module": "@jupyter-widgets/controls",
       "_model_module_version": "1.5.0",
       "_model_name": "DescriptionStyleModel",
       "_view_count": null,
       "_view_module": "@jupyter-widgets/base",
       "_view_module_version": "1.2.0",
       "_view_name": "StyleView",
       "description_width": ""
      }
     },
     "613a35fdf7e942e6a9f0b15150f5ef87": {
      "model_module": "@jupyter-widgets/controls",
      "model_module_version": "1.5.0",
      "model_name": "HTMLModel",
      "state": {
       "_dom_classes": [],
       "_model_module": "@jupyter-widgets/controls",
       "_model_module_version": "1.5.0",
       "_model_name": "HTMLModel",
       "_view_count": null,
       "_view_module": "@jupyter-widgets/controls",
       "_view_module_version": "1.5.0",
       "_view_name": "HTMLView",
       "description": "",
       "description_tooltip": null,
       "layout": "IPY_MODEL_ff63f049d5ec442d9ff79b34a14f92a8",
       "placeholder": "​",
       "style": "IPY_MODEL_2f6beaabf52a4e018b4249f9cde9f089",
       "value": "Downloading: 100%"
      }
     },
     "66c23ff8dcfa4a40b989d392f7378d3b": {
      "model_module": "@jupyter-widgets/controls",
      "model_module_version": "1.5.0",
      "model_name": "DescriptionStyleModel",
      "state": {
       "_model_module": "@jupyter-widgets/controls",
       "_model_module_version": "1.5.0",
       "_model_name": "DescriptionStyleModel",
       "_view_count": null,
       "_view_module": "@jupyter-widgets/base",
       "_view_module_version": "1.2.0",
       "_view_name": "StyleView",
       "description_width": ""
      }
     },
     "68c475c7d45046b485005088b0beb999": {
      "model_module": "@jupyter-widgets/base",
      "model_module_version": "1.2.0",
      "model_name": "LayoutModel",
      "state": {
       "_model_module": "@jupyter-widgets/base",
       "_model_module_version": "1.2.0",
       "_model_name": "LayoutModel",
       "_view_count": null,
       "_view_module": "@jupyter-widgets/base",
       "_view_module_version": "1.2.0",
       "_view_name": "LayoutView",
       "align_content": null,
       "align_items": null,
       "align_self": null,
       "border": null,
       "bottom": null,
       "display": null,
       "flex": null,
       "flex_flow": null,
       "grid_area": null,
       "grid_auto_columns": null,
       "grid_auto_flow": null,
       "grid_auto_rows": null,
       "grid_column": null,
       "grid_gap": null,
       "grid_row": null,
       "grid_template_areas": null,
       "grid_template_columns": null,
       "grid_template_rows": null,
       "height": null,
       "justify_content": null,
       "justify_items": null,
       "left": null,
       "margin": null,
       "max_height": null,
       "max_width": null,
       "min_height": null,
       "min_width": null,
       "object_fit": null,
       "object_position": null,
       "order": null,
       "overflow": null,
       "overflow_x": null,
       "overflow_y": null,
       "padding": null,
       "right": null,
       "top": null,
       "visibility": null,
       "width": null
      }
     },
     "6c4f233f2484430abd62b71bf3afe8c9": {
      "model_module": "@jupyter-widgets/base",
      "model_module_version": "1.2.0",
      "model_name": "LayoutModel",
      "state": {
       "_model_module": "@jupyter-widgets/base",
       "_model_module_version": "1.2.0",
       "_model_name": "LayoutModel",
       "_view_count": null,
       "_view_module": "@jupyter-widgets/base",
       "_view_module_version": "1.2.0",
       "_view_name": "LayoutView",
       "align_content": null,
       "align_items": null,
       "align_self": null,
       "border": null,
       "bottom": null,
       "display": null,
       "flex": null,
       "flex_flow": null,
       "grid_area": null,
       "grid_auto_columns": null,
       "grid_auto_flow": null,
       "grid_auto_rows": null,
       "grid_column": null,
       "grid_gap": null,
       "grid_row": null,
       "grid_template_areas": null,
       "grid_template_columns": null,
       "grid_template_rows": null,
       "height": null,
       "justify_content": null,
       "justify_items": null,
       "left": null,
       "margin": null,
       "max_height": null,
       "max_width": null,
       "min_height": null,
       "min_width": null,
       "object_fit": null,
       "object_position": null,
       "order": null,
       "overflow": null,
       "overflow_x": null,
       "overflow_y": null,
       "padding": null,
       "right": null,
       "top": null,
       "visibility": null,
       "width": null
      }
     },
     "6e2b6cc88f1046a0910c4a15e8fc8da0": {
      "model_module": "@jupyter-widgets/controls",
      "model_module_version": "1.5.0",
      "model_name": "FloatProgressModel",
      "state": {
       "_dom_classes": [],
       "_model_module": "@jupyter-widgets/controls",
       "_model_module_version": "1.5.0",
       "_model_name": "FloatProgressModel",
       "_view_count": null,
       "_view_module": "@jupyter-widgets/controls",
       "_view_module_version": "1.5.0",
       "_view_name": "ProgressView",
       "bar_style": "success",
       "description": "",
       "description_tooltip": null,
       "layout": "IPY_MODEL_12938c8185684724b3ec0caf5c3fc6c9",
       "max": 112,
       "min": 0,
       "orientation": "horizontal",
       "style": "IPY_MODEL_fd77d5a0dd91461482f523d16fc71864",
       "value": 112
      }
     },
     "7099ce297e2e4373b481cdc4cd140d82": {
      "model_module": "@jupyter-widgets/controls",
      "model_module_version": "1.5.0",
      "model_name": "HTMLModel",
      "state": {
       "_dom_classes": [],
       "_model_module": "@jupyter-widgets/controls",
       "_model_module_version": "1.5.0",
       "_model_name": "HTMLModel",
       "_view_count": null,
       "_view_module": "@jupyter-widgets/controls",
       "_view_module_version": "1.5.0",
       "_view_name": "HTMLView",
       "description": "",
       "description_tooltip": null,
       "layout": "IPY_MODEL_35c2aa1831cb4120bb2f63d3b605ee64",
       "placeholder": "​",
       "style": "IPY_MODEL_f3a2551355274f248ae85fdba883b6b7",
       "value": " 5.22M/5.22M [00:00&lt;00:00, 8.18MB/s]"
      }
     },
     "73017b7eadca4ccfb272f79e174d0c81": {
      "model_module": "@jupyter-widgets/base",
      "model_module_version": "1.2.0",
      "model_name": "LayoutModel",
      "state": {
       "_model_module": "@jupyter-widgets/base",
       "_model_module_version": "1.2.0",
       "_model_name": "LayoutModel",
       "_view_count": null,
       "_view_module": "@jupyter-widgets/base",
       "_view_module_version": "1.2.0",
       "_view_name": "LayoutView",
       "align_content": null,
       "align_items": null,
       "align_self": null,
       "border": null,
       "bottom": null,
       "display": null,
       "flex": null,
       "flex_flow": null,
       "grid_area": null,
       "grid_auto_columns": null,
       "grid_auto_flow": null,
       "grid_auto_rows": null,
       "grid_column": null,
       "grid_gap": null,
       "grid_row": null,
       "grid_template_areas": null,
       "grid_template_columns": null,
       "grid_template_rows": null,
       "height": null,
       "justify_content": null,
       "justify_items": null,
       "left": null,
       "margin": null,
       "max_height": null,
       "max_width": null,
       "min_height": null,
       "min_width": null,
       "object_fit": null,
       "object_position": null,
       "order": null,
       "overflow": null,
       "overflow_x": null,
       "overflow_y": null,
       "padding": null,
       "right": null,
       "top": null,
       "visibility": null,
       "width": null
      }
     },
     "73ddbd93be7d47acb6bf4295b8381ea9": {
      "model_module": "@jupyter-widgets/controls",
      "model_module_version": "1.5.0",
      "model_name": "FloatProgressModel",
      "state": {
       "_dom_classes": [],
       "_model_module": "@jupyter-widgets/controls",
       "_model_module_version": "1.5.0",
       "_model_name": "FloatProgressModel",
       "_view_count": null,
       "_view_module": "@jupyter-widgets/controls",
       "_view_module_version": "1.5.0",
       "_view_name": "ProgressView",
       "bar_style": "success",
       "description": "",
       "description_tooltip": null,
       "layout": "IPY_MODEL_095279bb66ce49d9b15b50649e6c2443",
       "max": 53,
       "min": 0,
       "orientation": "horizontal",
       "style": "IPY_MODEL_8ceb3e44cec74c81a435893eb56d615d",
       "value": 53
      }
     },
     "77761c3b8060406e84cf2d3c21bad46b": {
      "model_module": "@jupyter-widgets/controls",
      "model_module_version": "1.5.0",
      "model_name": "FloatProgressModel",
      "state": {
       "_dom_classes": [],
       "_model_module": "@jupyter-widgets/controls",
       "_model_module_version": "1.5.0",
       "_model_name": "FloatProgressModel",
       "_view_count": null,
       "_view_module": "@jupyter-widgets/controls",
       "_view_module_version": "1.5.0",
       "_view_name": "ProgressView",
       "bar_style": "success",
       "description": "",
       "description_tooltip": null,
       "layout": "IPY_MODEL_c20b7cc5035b4e18be2ae38c3d236dd2",
       "max": 461,
       "min": 0,
       "orientation": "horizontal",
       "style": "IPY_MODEL_b3aae51c5aa54b4da5c93cee753b16a8",
       "value": 461
      }
     },
     "7853a07f451c49adbb3bc42e6aa005a5": {
      "model_module": "@jupyter-widgets/base",
      "model_module_version": "1.2.0",
      "model_name": "LayoutModel",
      "state": {
       "_model_module": "@jupyter-widgets/base",
       "_model_module_version": "1.2.0",
       "_model_name": "LayoutModel",
       "_view_count": null,
       "_view_module": "@jupyter-widgets/base",
       "_view_module_version": "1.2.0",
       "_view_name": "LayoutView",
       "align_content": null,
       "align_items": null,
       "align_self": null,
       "border": null,
       "bottom": null,
       "display": null,
       "flex": null,
       "flex_flow": null,
       "grid_area": null,
       "grid_auto_columns": null,
       "grid_auto_flow": null,
       "grid_auto_rows": null,
       "grid_column": null,
       "grid_gap": null,
       "grid_row": null,
       "grid_template_areas": null,
       "grid_template_columns": null,
       "grid_template_rows": null,
       "height": null,
       "justify_content": null,
       "justify_items": null,
       "left": null,
       "margin": null,
       "max_height": null,
       "max_width": null,
       "min_height": null,
       "min_width": null,
       "object_fit": null,
       "object_position": null,
       "order": null,
       "overflow": null,
       "overflow_x": null,
       "overflow_y": null,
       "padding": null,
       "right": null,
       "top": null,
       "visibility": null,
       "width": null
      }
     },
     "7a6b4807c3a943b7849b6caa31ad61c8": {
      "model_module": "@jupyter-widgets/controls",
      "model_module_version": "1.5.0",
      "model_name": "HTMLModel",
      "state": {
       "_dom_classes": [],
       "_model_module": "@jupyter-widgets/controls",
       "_model_module_version": "1.5.0",
       "_model_name": "HTMLModel",
       "_view_count": null,
       "_view_module": "@jupyter-widgets/controls",
       "_view_module_version": "1.5.0",
       "_view_name": "HTMLView",
       "description": "",
       "description_tooltip": null,
       "layout": "IPY_MODEL_e556a6c87b1f409595502a9c0b8bea69",
       "placeholder": "​",
       "style": "IPY_MODEL_c62edded54a84eeda8be66891903f7cc",
       "value": "Downloading: 100%"
      }
     },
     "7a9b2fcd75dd4f06aee5d7e5887d57bc": {
      "model_module": "@jupyter-widgets/controls",
      "model_module_version": "1.5.0",
      "model_name": "HBoxModel",
      "state": {
       "_dom_classes": [],
       "_model_module": "@jupyter-widgets/controls",
       "_model_module_version": "1.5.0",
       "_model_name": "HBoxModel",
       "_view_count": null,
       "_view_module": "@jupyter-widgets/controls",
       "_view_module_version": "1.5.0",
       "_view_name": "HBoxView",
       "box_style": "",
       "children": [
        "IPY_MODEL_2b11e80307bf4ceda860de8607ffd8af",
        "IPY_MODEL_27f585a470c74382adfad59f4e8efb7a",
        "IPY_MODEL_f60b2aa1a95f4028abbccb90f1ce718a"
       ],
       "layout": "IPY_MODEL_80ea3a32e4fc49ccb200199e2a910e37"
      }
     },
     "7abe4a2a04034a70b430a00256142453": {
      "model_module": "@jupyter-widgets/controls",
      "model_module_version": "1.5.0",
      "model_name": "HBoxModel",
      "state": {
       "_dom_classes": [],
       "_model_module": "@jupyter-widgets/controls",
       "_model_module_version": "1.5.0",
       "_model_name": "HBoxModel",
       "_view_count": null,
       "_view_module": "@jupyter-widgets/controls",
       "_view_module_version": "1.5.0",
       "_view_name": "HBoxView",
       "box_style": "",
       "children": [
        "IPY_MODEL_7a6b4807c3a943b7849b6caa31ad61c8",
        "IPY_MODEL_55a0f7458a4745178079766d1bb7b81f",
        "IPY_MODEL_a896d56c2d5043d798fbe380fec49940"
       ],
       "layout": "IPY_MODEL_7b2a2f1d91674004bc2899d8e80ec42f"
      }
     },
     "7ad866eec0f74c4597d9c285bcb11af4": {
      "model_module": "@jupyter-widgets/base",
      "model_module_version": "1.2.0",
      "model_name": "LayoutModel",
      "state": {
       "_model_module": "@jupyter-widgets/base",
       "_model_module_version": "1.2.0",
       "_model_name": "LayoutModel",
       "_view_count": null,
       "_view_module": "@jupyter-widgets/base",
       "_view_module_version": "1.2.0",
       "_view_name": "LayoutView",
       "align_content": null,
       "align_items": null,
       "align_self": null,
       "border": null,
       "bottom": null,
       "display": null,
       "flex": null,
       "flex_flow": null,
       "grid_area": null,
       "grid_auto_columns": null,
       "grid_auto_flow": null,
       "grid_auto_rows": null,
       "grid_column": null,
       "grid_gap": null,
       "grid_row": null,
       "grid_template_areas": null,
       "grid_template_columns": null,
       "grid_template_rows": null,
       "height": null,
       "justify_content": null,
       "justify_items": null,
       "left": null,
       "margin": null,
       "max_height": null,
       "max_width": null,
       "min_height": null,
       "min_width": null,
       "object_fit": null,
       "object_position": null,
       "order": null,
       "overflow": null,
       "overflow_x": null,
       "overflow_y": null,
       "padding": null,
       "right": null,
       "top": null,
       "visibility": null,
       "width": null
      }
     },
     "7b2a2f1d91674004bc2899d8e80ec42f": {
      "model_module": "@jupyter-widgets/base",
      "model_module_version": "1.2.0",
      "model_name": "LayoutModel",
      "state": {
       "_model_module": "@jupyter-widgets/base",
       "_model_module_version": "1.2.0",
       "_model_name": "LayoutModel",
       "_view_count": null,
       "_view_module": "@jupyter-widgets/base",
       "_view_module_version": "1.2.0",
       "_view_name": "LayoutView",
       "align_content": null,
       "align_items": null,
       "align_self": null,
       "border": null,
       "bottom": null,
       "display": null,
       "flex": null,
       "flex_flow": null,
       "grid_area": null,
       "grid_auto_columns": null,
       "grid_auto_flow": null,
       "grid_auto_rows": null,
       "grid_column": null,
       "grid_gap": null,
       "grid_row": null,
       "grid_template_areas": null,
       "grid_template_columns": null,
       "grid_template_rows": null,
       "height": null,
       "justify_content": null,
       "justify_items": null,
       "left": null,
       "margin": null,
       "max_height": null,
       "max_width": null,
       "min_height": null,
       "min_width": null,
       "object_fit": null,
       "object_position": null,
       "order": null,
       "overflow": null,
       "overflow_x": null,
       "overflow_y": null,
       "padding": null,
       "right": null,
       "top": null,
       "visibility": null,
       "width": null
      }
     },
     "80ea3a32e4fc49ccb200199e2a910e37": {
      "model_module": "@jupyter-widgets/base",
      "model_module_version": "1.2.0",
      "model_name": "LayoutModel",
      "state": {
       "_model_module": "@jupyter-widgets/base",
       "_model_module_version": "1.2.0",
       "_model_name": "LayoutModel",
       "_view_count": null,
       "_view_module": "@jupyter-widgets/base",
       "_view_module_version": "1.2.0",
       "_view_name": "LayoutView",
       "align_content": null,
       "align_items": null,
       "align_self": null,
       "border": null,
       "bottom": null,
       "display": null,
       "flex": null,
       "flex_flow": null,
       "grid_area": null,
       "grid_auto_columns": null,
       "grid_auto_flow": null,
       "grid_auto_rows": null,
       "grid_column": null,
       "grid_gap": null,
       "grid_row": null,
       "grid_template_areas": null,
       "grid_template_columns": null,
       "grid_template_rows": null,
       "height": null,
       "justify_content": null,
       "justify_items": null,
       "left": null,
       "margin": null,
       "max_height": null,
       "max_width": null,
       "min_height": null,
       "min_width": null,
       "object_fit": null,
       "object_position": null,
       "order": null,
       "overflow": null,
       "overflow_x": null,
       "overflow_y": null,
       "padding": null,
       "right": null,
       "top": null,
       "visibility": null,
       "width": null
      }
     },
     "812194c43bff46dba21e33024c39b7c5": {
      "model_module": "@jupyter-widgets/base",
      "model_module_version": "1.2.0",
      "model_name": "LayoutModel",
      "state": {
       "_model_module": "@jupyter-widgets/base",
       "_model_module_version": "1.2.0",
       "_model_name": "LayoutModel",
       "_view_count": null,
       "_view_module": "@jupyter-widgets/base",
       "_view_module_version": "1.2.0",
       "_view_name": "LayoutView",
       "align_content": null,
       "align_items": null,
       "align_self": null,
       "border": null,
       "bottom": null,
       "display": null,
       "flex": null,
       "flex_flow": null,
       "grid_area": null,
       "grid_auto_columns": null,
       "grid_auto_flow": null,
       "grid_auto_rows": null,
       "grid_column": null,
       "grid_gap": null,
       "grid_row": null,
       "grid_template_areas": null,
       "grid_template_columns": null,
       "grid_template_rows": null,
       "height": null,
       "justify_content": null,
       "justify_items": null,
       "left": null,
       "margin": null,
       "max_height": null,
       "max_width": null,
       "min_height": null,
       "min_width": null,
       "object_fit": null,
       "object_position": null,
       "order": null,
       "overflow": null,
       "overflow_x": null,
       "overflow_y": null,
       "padding": null,
       "right": null,
       "top": null,
       "visibility": null,
       "width": null
      }
     },
     "81597d6c1e0f4b86a5efde772828b8da": {
      "model_module": "@jupyter-widgets/controls",
      "model_module_version": "1.5.0",
      "model_name": "DescriptionStyleModel",
      "state": {
       "_model_module": "@jupyter-widgets/controls",
       "_model_module_version": "1.5.0",
       "_model_name": "DescriptionStyleModel",
       "_view_count": null,
       "_view_module": "@jupyter-widgets/base",
       "_view_module_version": "1.2.0",
       "_view_name": "StyleView",
       "description_width": ""
      }
     },
     "828cadf188844424a3faeca6b5b5b5f8": {
      "model_module": "@jupyter-widgets/base",
      "model_module_version": "1.2.0",
      "model_name": "LayoutModel",
      "state": {
       "_model_module": "@jupyter-widgets/base",
       "_model_module_version": "1.2.0",
       "_model_name": "LayoutModel",
       "_view_count": null,
       "_view_module": "@jupyter-widgets/base",
       "_view_module_version": "1.2.0",
       "_view_name": "LayoutView",
       "align_content": null,
       "align_items": null,
       "align_self": null,
       "border": null,
       "bottom": null,
       "display": null,
       "flex": null,
       "flex_flow": null,
       "grid_area": null,
       "grid_auto_columns": null,
       "grid_auto_flow": null,
       "grid_auto_rows": null,
       "grid_column": null,
       "grid_gap": null,
       "grid_row": null,
       "grid_template_areas": null,
       "grid_template_columns": null,
       "grid_template_rows": null,
       "height": null,
       "justify_content": null,
       "justify_items": null,
       "left": null,
       "margin": null,
       "max_height": null,
       "max_width": null,
       "min_height": null,
       "min_width": null,
       "object_fit": null,
       "object_position": null,
       "order": null,
       "overflow": null,
       "overflow_x": null,
       "overflow_y": null,
       "padding": null,
       "right": null,
       "top": null,
       "visibility": null,
       "width": null
      }
     },
     "83431665419f486184e2694db50cbb49": {
      "model_module": "@jupyter-widgets/base",
      "model_module_version": "1.2.0",
      "model_name": "LayoutModel",
      "state": {
       "_model_module": "@jupyter-widgets/base",
       "_model_module_version": "1.2.0",
       "_model_name": "LayoutModel",
       "_view_count": null,
       "_view_module": "@jupyter-widgets/base",
       "_view_module_version": "1.2.0",
       "_view_name": "LayoutView",
       "align_content": null,
       "align_items": null,
       "align_self": null,
       "border": null,
       "bottom": null,
       "display": null,
       "flex": null,
       "flex_flow": null,
       "grid_area": null,
       "grid_auto_columns": null,
       "grid_auto_flow": null,
       "grid_auto_rows": null,
       "grid_column": null,
       "grid_gap": null,
       "grid_row": null,
       "grid_template_areas": null,
       "grid_template_columns": null,
       "grid_template_rows": null,
       "height": null,
       "justify_content": null,
       "justify_items": null,
       "left": null,
       "margin": null,
       "max_height": null,
       "max_width": null,
       "min_height": null,
       "min_width": null,
       "object_fit": null,
       "object_position": null,
       "order": null,
       "overflow": null,
       "overflow_x": null,
       "overflow_y": null,
       "padding": null,
       "right": null,
       "top": null,
       "visibility": null,
       "width": null
      }
     },
     "8349fb01d4df4656bb6c9f9fbbfe15d3": {
      "model_module": "@jupyter-widgets/base",
      "model_module_version": "1.2.0",
      "model_name": "LayoutModel",
      "state": {
       "_model_module": "@jupyter-widgets/base",
       "_model_module_version": "1.2.0",
       "_model_name": "LayoutModel",
       "_view_count": null,
       "_view_module": "@jupyter-widgets/base",
       "_view_module_version": "1.2.0",
       "_view_name": "LayoutView",
       "align_content": null,
       "align_items": null,
       "align_self": null,
       "border": null,
       "bottom": null,
       "display": null,
       "flex": null,
       "flex_flow": null,
       "grid_area": null,
       "grid_auto_columns": null,
       "grid_auto_flow": null,
       "grid_auto_rows": null,
       "grid_column": null,
       "grid_gap": null,
       "grid_row": null,
       "grid_template_areas": null,
       "grid_template_columns": null,
       "grid_template_rows": null,
       "height": null,
       "justify_content": null,
       "justify_items": null,
       "left": null,
       "margin": null,
       "max_height": null,
       "max_width": null,
       "min_height": null,
       "min_width": null,
       "object_fit": null,
       "object_position": null,
       "order": null,
       "overflow": null,
       "overflow_x": null,
       "overflow_y": null,
       "padding": null,
       "right": null,
       "top": null,
       "visibility": null,
       "width": null
      }
     },
     "847e5253d81548d4b8ff2110a216191b": {
      "model_module": "@jupyter-widgets/controls",
      "model_module_version": "1.5.0",
      "model_name": "HTMLModel",
      "state": {
       "_dom_classes": [],
       "_model_module": "@jupyter-widgets/controls",
       "_model_module_version": "1.5.0",
       "_model_name": "HTMLModel",
       "_view_count": null,
       "_view_module": "@jupyter-widgets/controls",
       "_view_module_version": "1.5.0",
       "_view_name": "HTMLView",
       "description": "",
       "description_tooltip": null,
       "layout": "IPY_MODEL_83431665419f486184e2694db50cbb49",
       "placeholder": "​",
       "style": "IPY_MODEL_cecf2e02497b4a18af87b007da9361d2",
       "value": "Downloading: 100%"
      }
     },
     "8561411503c549abbba8bc4e9b977ccf": {
      "model_module": "@jupyter-widgets/base",
      "model_module_version": "1.2.0",
      "model_name": "LayoutModel",
      "state": {
       "_model_module": "@jupyter-widgets/base",
       "_model_module_version": "1.2.0",
       "_model_name": "LayoutModel",
       "_view_count": null,
       "_view_module": "@jupyter-widgets/base",
       "_view_module_version": "1.2.0",
       "_view_name": "LayoutView",
       "align_content": null,
       "align_items": null,
       "align_self": null,
       "border": null,
       "bottom": null,
       "display": null,
       "flex": null,
       "flex_flow": null,
       "grid_area": null,
       "grid_auto_columns": null,
       "grid_auto_flow": null,
       "grid_auto_rows": null,
       "grid_column": null,
       "grid_gap": null,
       "grid_row": null,
       "grid_template_areas": null,
       "grid_template_columns": null,
       "grid_template_rows": null,
       "height": null,
       "justify_content": null,
       "justify_items": null,
       "left": null,
       "margin": null,
       "max_height": null,
       "max_width": null,
       "min_height": null,
       "min_width": null,
       "object_fit": null,
       "object_position": null,
       "order": null,
       "overflow": null,
       "overflow_x": null,
       "overflow_y": null,
       "padding": null,
       "right": null,
       "top": null,
       "visibility": null,
       "width": null
      }
     },
     "882924f86b874259b9da0f76bd9f1e0d": {
      "model_module": "@jupyter-widgets/controls",
      "model_module_version": "1.5.0",
      "model_name": "DescriptionStyleModel",
      "state": {
       "_model_module": "@jupyter-widgets/controls",
       "_model_module_version": "1.5.0",
       "_model_name": "DescriptionStyleModel",
       "_view_count": null,
       "_view_module": "@jupyter-widgets/base",
       "_view_module_version": "1.2.0",
       "_view_name": "StyleView",
       "description_width": ""
      }
     },
     "8ceb3e44cec74c81a435893eb56d615d": {
      "model_module": "@jupyter-widgets/controls",
      "model_module_version": "1.5.0",
      "model_name": "ProgressStyleModel",
      "state": {
       "_model_module": "@jupyter-widgets/controls",
       "_model_module_version": "1.5.0",
       "_model_name": "ProgressStyleModel",
       "_view_count": null,
       "_view_module": "@jupyter-widgets/base",
       "_view_module_version": "1.2.0",
       "_view_name": "StyleView",
       "bar_color": null,
       "description_width": ""
      }
     },
     "8df680db77b44346b9048790d0cec9db": {
      "model_module": "@jupyter-widgets/controls",
      "model_module_version": "1.5.0",
      "model_name": "FloatProgressModel",
      "state": {
       "_dom_classes": [],
       "_model_module": "@jupyter-widgets/controls",
       "_model_module_version": "1.5.0",
       "_model_name": "FloatProgressModel",
       "_view_count": null,
       "_view_module": "@jupyter-widgets/controls",
       "_view_module_version": "1.5.0",
       "_view_name": "ProgressView",
       "bar_style": "success",
       "description": "",
       "description_tooltip": null,
       "layout": "IPY_MODEL_3770148924b8407b879ad7f1fad18cec",
       "max": 411,
       "min": 0,
       "orientation": "horizontal",
       "style": "IPY_MODEL_0891bfd642fa49eab387f30a4baaa655",
       "value": 411
      }
     },
     "8fef0ff30ef04139b40f799ae1495594": {
      "model_module": "@jupyter-widgets/controls",
      "model_module_version": "1.5.0",
      "model_name": "FloatProgressModel",
      "state": {
       "_dom_classes": [],
       "_model_module": "@jupyter-widgets/controls",
       "_model_module_version": "1.5.0",
       "_model_name": "FloatProgressModel",
       "_view_count": null,
       "_view_module": "@jupyter-widgets/controls",
       "_view_module_version": "1.5.0",
       "_view_name": "ProgressView",
       "bar_style": "success",
       "description": "",
       "description_tooltip": null,
       "layout": "IPY_MODEL_9379d4d21dc647548776eb19ca6d38a6",
       "max": 190,
       "min": 0,
       "orientation": "horizontal",
       "style": "IPY_MODEL_c26165ee1170452bb49b09f38ff4adf3",
       "value": 190
      }
     },
     "90f88bdc651041ea887025f9bbdb65d5": {
      "model_module": "@jupyter-widgets/controls",
      "model_module_version": "1.5.0",
      "model_name": "HTMLModel",
      "state": {
       "_dom_classes": [],
       "_model_module": "@jupyter-widgets/controls",
       "_model_module_version": "1.5.0",
       "_model_name": "HTMLModel",
       "_view_count": null,
       "_view_module": "@jupyter-widgets/controls",
       "_view_module_version": "1.5.0",
       "_view_name": "HTMLView",
       "description": "",
       "description_tooltip": null,
       "layout": "IPY_MODEL_1d30703a721b4f838029babcc0aae0b9",
       "placeholder": "​",
       "style": "IPY_MODEL_cf24dccc482149bf852d6a83d51c8016",
       "value": " 461/461 [00:00&lt;00:00, 15.8kB/s]"
      }
     },
     "92d0656b5bb24df7a52319600ffdac3b": {
      "model_module": "@jupyter-widgets/controls",
      "model_module_version": "1.5.0",
      "model_name": "DescriptionStyleModel",
      "state": {
       "_model_module": "@jupyter-widgets/controls",
       "_model_module_version": "1.5.0",
       "_model_name": "DescriptionStyleModel",
       "_view_count": null,
       "_view_module": "@jupyter-widgets/base",
       "_view_module_version": "1.2.0",
       "_view_name": "StyleView",
       "description_width": ""
      }
     },
     "9379d4d21dc647548776eb19ca6d38a6": {
      "model_module": "@jupyter-widgets/base",
      "model_module_version": "1.2.0",
      "model_name": "LayoutModel",
      "state": {
       "_model_module": "@jupyter-widgets/base",
       "_model_module_version": "1.2.0",
       "_model_name": "LayoutModel",
       "_view_count": null,
       "_view_module": "@jupyter-widgets/base",
       "_view_module_version": "1.2.0",
       "_view_name": "LayoutView",
       "align_content": null,
       "align_items": null,
       "align_self": null,
       "border": null,
       "bottom": null,
       "display": null,
       "flex": null,
       "flex_flow": null,
       "grid_area": null,
       "grid_auto_columns": null,
       "grid_auto_flow": null,
       "grid_auto_rows": null,
       "grid_column": null,
       "grid_gap": null,
       "grid_row": null,
       "grid_template_areas": null,
       "grid_template_columns": null,
       "grid_template_rows": null,
       "height": null,
       "justify_content": null,
       "justify_items": null,
       "left": null,
       "margin": null,
       "max_height": null,
       "max_width": null,
       "min_height": null,
       "min_width": null,
       "object_fit": null,
       "object_position": null,
       "order": null,
       "overflow": null,
       "overflow_x": null,
       "overflow_y": null,
       "padding": null,
       "right": null,
       "top": null,
       "visibility": null,
       "width": null
      }
     },
     "938db57432484bbf85991f0903023bad": {
      "model_module": "@jupyter-widgets/base",
      "model_module_version": "1.2.0",
      "model_name": "LayoutModel",
      "state": {
       "_model_module": "@jupyter-widgets/base",
       "_model_module_version": "1.2.0",
       "_model_name": "LayoutModel",
       "_view_count": null,
       "_view_module": "@jupyter-widgets/base",
       "_view_module_version": "1.2.0",
       "_view_name": "LayoutView",
       "align_content": null,
       "align_items": null,
       "align_self": null,
       "border": null,
       "bottom": null,
       "display": null,
       "flex": null,
       "flex_flow": null,
       "grid_area": null,
       "grid_auto_columns": null,
       "grid_auto_flow": null,
       "grid_auto_rows": null,
       "grid_column": null,
       "grid_gap": null,
       "grid_row": null,
       "grid_template_areas": null,
       "grid_template_columns": null,
       "grid_template_rows": null,
       "height": null,
       "justify_content": null,
       "justify_items": null,
       "left": null,
       "margin": null,
       "max_height": null,
       "max_width": null,
       "min_height": null,
       "min_width": null,
       "object_fit": null,
       "object_position": null,
       "order": null,
       "overflow": null,
       "overflow_x": null,
       "overflow_y": null,
       "padding": null,
       "right": null,
       "top": null,
       "visibility": null,
       "width": null
      }
     },
     "956baf5d29c844e886e8c40824dc605e": {
      "model_module": "@jupyter-widgets/controls",
      "model_module_version": "1.5.0",
      "model_name": "FloatProgressModel",
      "state": {
       "_dom_classes": [],
       "_model_module": "@jupyter-widgets/controls",
       "_model_module_version": "1.5.0",
       "_model_name": "FloatProgressModel",
       "_view_count": null,
       "_view_module": "@jupyter-widgets/controls",
       "_view_module_version": "1.5.0",
       "_view_name": "ProgressView",
       "bar_style": "success",
       "description": "",
       "description_tooltip": null,
       "layout": "IPY_MODEL_f4a409a7e23346b098fa0659a3baf920",
       "max": 114,
       "min": 0,
       "orientation": "horizontal",
       "style": "IPY_MODEL_e166be0357294c08816fb595f6919e21",
       "value": 114
      }
     },
     "95e43bb1878140029ed64872eebaaad2": {
      "model_module": "@jupyter-widgets/controls",
      "model_module_version": "1.5.0",
      "model_name": "HTMLModel",
      "state": {
       "_dom_classes": [],
       "_model_module": "@jupyter-widgets/controls",
       "_model_module_version": "1.5.0",
       "_model_name": "HTMLModel",
       "_view_count": null,
       "_view_module": "@jupyter-widgets/controls",
       "_view_module_version": "1.5.0",
       "_view_name": "HTMLView",
       "description": "",
       "description_tooltip": null,
       "layout": "IPY_MODEL_98b2d8f7947945f48810a6bbec2bb3b8",
       "placeholder": "​",
       "style": "IPY_MODEL_c6b46fa7d7fa4ff08b815e9b4290fc77",
       "value": "Downloading: 100%"
      }
     },
     "98b2d8f7947945f48810a6bbec2bb3b8": {
      "model_module": "@jupyter-widgets/base",
      "model_module_version": "1.2.0",
      "model_name": "LayoutModel",
      "state": {
       "_model_module": "@jupyter-widgets/base",
       "_model_module_version": "1.2.0",
       "_model_name": "LayoutModel",
       "_view_count": null,
       "_view_module": "@jupyter-widgets/base",
       "_view_module_version": "1.2.0",
       "_view_name": "LayoutView",
       "align_content": null,
       "align_items": null,
       "align_self": null,
       "border": null,
       "bottom": null,
       "display": null,
       "flex": null,
       "flex_flow": null,
       "grid_area": null,
       "grid_auto_columns": null,
       "grid_auto_flow": null,
       "grid_auto_rows": null,
       "grid_column": null,
       "grid_gap": null,
       "grid_row": null,
       "grid_template_areas": null,
       "grid_template_columns": null,
       "grid_template_rows": null,
       "height": null,
       "justify_content": null,
       "justify_items": null,
       "left": null,
       "margin": null,
       "max_height": null,
       "max_width": null,
       "min_height": null,
       "min_width": null,
       "object_fit": null,
       "object_position": null,
       "order": null,
       "overflow": null,
       "overflow_x": null,
       "overflow_y": null,
       "padding": null,
       "right": null,
       "top": null,
       "visibility": null,
       "width": null
      }
     },
     "a37c34e17cdc4c9ba229fb4afd2d67fa": {
      "model_module": "@jupyter-widgets/controls",
      "model_module_version": "1.5.0",
      "model_name": "HTMLModel",
      "state": {
       "_dom_classes": [],
       "_model_module": "@jupyter-widgets/controls",
       "_model_module_version": "1.5.0",
       "_model_name": "HTMLModel",
       "_view_count": null,
       "_view_module": "@jupyter-widgets/controls",
       "_view_module_version": "1.5.0",
       "_view_name": "HTMLView",
       "description": "",
       "description_tooltip": null,
       "layout": "IPY_MODEL_b774d1ea24a64fcdbbae4ca0c6909667",
       "placeholder": "​",
       "style": "IPY_MODEL_dc27f66a535648098cb5e647745f3b8a",
       "value": " 1.62k/1.62k [00:00&lt;00:00, 55.1kB/s]"
      }
     },
     "a5a4a5052ed24e15ad6222528acb0ee8": {
      "model_module": "@jupyter-widgets/controls",
      "model_module_version": "1.5.0",
      "model_name": "FloatProgressModel",
      "state": {
       "_dom_classes": [],
       "_model_module": "@jupyter-widgets/controls",
       "_model_module_version": "1.5.0",
       "_model_name": "FloatProgressModel",
       "_view_count": null,
       "_view_module": "@jupyter-widgets/controls",
       "_view_module_version": "1.5.0",
       "_view_name": "ProgressView",
       "bar_style": "success",
       "description": "",
       "description_tooltip": null,
       "layout": "IPY_MODEL_ea2b76ea0b79411ebd5913b39e805262",
       "max": 122,
       "min": 0,
       "orientation": "horizontal",
       "style": "IPY_MODEL_1b9256ac76604301a3b0b965e4773b4d",
       "value": 122
      }
     },
     "a896d56c2d5043d798fbe380fec49940": {
      "model_module": "@jupyter-widgets/controls",
      "model_module_version": "1.5.0",
      "model_name": "HTMLModel",
      "state": {
       "_dom_classes": [],
       "_model_module": "@jupyter-widgets/controls",
       "_model_module_version": "1.5.0",
       "_model_name": "HTMLModel",
       "_view_count": null,
       "_view_module": "@jupyter-widgets/controls",
       "_view_module_version": "1.5.0",
       "_view_name": "HTMLView",
       "description": "",
       "description_tooltip": null,
       "layout": "IPY_MODEL_39c37f054b7b4fea8f4bf69a77624edc",
       "placeholder": "​",
       "style": "IPY_MODEL_81597d6c1e0f4b86a5efde772828b8da",
       "value": " 391/391 [00:00&lt;00:00, 13.1kB/s]"
      }
     },
     "a9df8f71b0034a67be9c70268128d52e": {
      "model_module": "@jupyter-widgets/controls",
      "model_module_version": "1.5.0",
      "model_name": "FloatProgressModel",
      "state": {
       "_dom_classes": [],
       "_model_module": "@jupyter-widgets/controls",
       "_model_module_version": "1.5.0",
       "_model_name": "FloatProgressModel",
       "_view_count": null,
       "_view_module": "@jupyter-widgets/controls",
       "_view_module_version": "1.5.0",
       "_view_name": "ProgressView",
       "bar_style": "success",
       "description": "",
       "description_tooltip": null,
       "layout": "IPY_MODEL_2af158487fca4e7da3b6d97e494ea130",
       "max": 1622,
       "min": 0,
       "orientation": "horizontal",
       "style": "IPY_MODEL_f814ad37d7334cfdaa1a03afc766f4d3",
       "value": 1622
      }
     },
     "aca72a8f21714748bd5f4cc793da742f": {
      "model_module": "@jupyter-widgets/base",
      "model_module_version": "1.2.0",
      "model_name": "LayoutModel",
      "state": {
       "_model_module": "@jupyter-widgets/base",
       "_model_module_version": "1.2.0",
       "_model_name": "LayoutModel",
       "_view_count": null,
       "_view_module": "@jupyter-widgets/base",
       "_view_module_version": "1.2.0",
       "_view_name": "LayoutView",
       "align_content": null,
       "align_items": null,
       "align_self": null,
       "border": null,
       "bottom": null,
       "display": null,
       "flex": null,
       "flex_flow": null,
       "grid_area": null,
       "grid_auto_columns": null,
       "grid_auto_flow": null,
       "grid_auto_rows": null,
       "grid_column": null,
       "grid_gap": null,
       "grid_row": null,
       "grid_template_areas": null,
       "grid_template_columns": null,
       "grid_template_rows": null,
       "height": null,
       "justify_content": null,
       "justify_items": null,
       "left": null,
       "margin": null,
       "max_height": null,
       "max_width": null,
       "min_height": null,
       "min_width": null,
       "object_fit": null,
       "object_position": null,
       "order": null,
       "overflow": null,
       "overflow_x": null,
       "overflow_y": null,
       "padding": null,
       "right": null,
       "top": null,
       "visibility": null,
       "width": null
      }
     },
     "aefa0241fd4f4cd3b4440df110425df2": {
      "model_module": "@jupyter-widgets/controls",
      "model_module_version": "1.5.0",
      "model_name": "HBoxModel",
      "state": {
       "_dom_classes": [],
       "_model_module": "@jupyter-widgets/controls",
       "_model_module_version": "1.5.0",
       "_model_name": "HBoxModel",
       "_view_count": null,
       "_view_module": "@jupyter-widgets/controls",
       "_view_module_version": "1.5.0",
       "_view_name": "HBoxView",
       "box_style": "",
       "children": [
        "IPY_MODEL_fcbde8f11ec34db9a07013b40cf1a7f8",
        "IPY_MODEL_8fef0ff30ef04139b40f799ae1495594",
        "IPY_MODEL_39856f093f4a4ebd8617797c990d2570"
       ],
       "layout": "IPY_MODEL_0b20e62d7b73498ba3083667211ee7af"
      }
     },
     "af6879ce522841198a7f75f66d221351": {
      "model_module": "@jupyter-widgets/controls",
      "model_module_version": "1.5.0",
      "model_name": "HBoxModel",
      "state": {
       "_dom_classes": [],
       "_model_module": "@jupyter-widgets/controls",
       "_model_module_version": "1.5.0",
       "_model_name": "HBoxModel",
       "_view_count": null,
       "_view_module": "@jupyter-widgets/controls",
       "_view_module_version": "1.5.0",
       "_view_name": "HBoxView",
       "box_style": "",
       "children": [
        "IPY_MODEL_847e5253d81548d4b8ff2110a216191b",
        "IPY_MODEL_6e2b6cc88f1046a0910c4a15e8fc8da0",
        "IPY_MODEL_25fbc6a20ad34d29b4cdb30d38a60121"
       ],
       "layout": "IPY_MODEL_4e66818130574e6dba64076199a127fa"
      }
     },
     "af73b90eea744b049d08ea7e77c11e8c": {
      "model_module": "@jupyter-widgets/controls",
      "model_module_version": "1.5.0",
      "model_name": "HBoxModel",
      "state": {
       "_dom_classes": [],
       "_model_module": "@jupyter-widgets/controls",
       "_model_module_version": "1.5.0",
       "_model_name": "HBoxModel",
       "_view_count": null,
       "_view_module": "@jupyter-widgets/controls",
       "_view_module_version": "1.5.0",
       "_view_name": "HBoxView",
       "box_style": "",
       "children": [
        "IPY_MODEL_affcccf5767d4f9c96ff098b6e4cf8eb",
        "IPY_MODEL_956baf5d29c844e886e8c40824dc605e",
        "IPY_MODEL_d8c1cbe53c3041eb838c241387549874"
       ],
       "layout": "IPY_MODEL_fc71ae794fdb46ec81f0724916079d5f"
      }
     },
     "affcccf5767d4f9c96ff098b6e4cf8eb": {
      "model_module": "@jupyter-widgets/controls",
      "model_module_version": "1.5.0",
      "model_name": "HTMLModel",
      "state": {
       "_dom_classes": [],
       "_model_module": "@jupyter-widgets/controls",
       "_model_module_version": "1.5.0",
       "_model_name": "HTMLModel",
       "_view_count": null,
       "_view_module": "@jupyter-widgets/controls",
       "_view_module_version": "1.5.0",
       "_view_name": "HTMLView",
       "description": "",
       "description_tooltip": null,
       "layout": "IPY_MODEL_7853a07f451c49adbb3bc42e6aa005a5",
       "placeholder": "​",
       "style": "IPY_MODEL_d484957b868d48d2aad4e688963c3ba4",
       "value": "Downloading: 100%"
      }
     },
     "b004f24ea8f1442aa6efba7f7d8ee2f6": {
      "model_module": "@jupyter-widgets/base",
      "model_module_version": "1.2.0",
      "model_name": "LayoutModel",
      "state": {
       "_model_module": "@jupyter-widgets/base",
       "_model_module_version": "1.2.0",
       "_model_name": "LayoutModel",
       "_view_count": null,
       "_view_module": "@jupyter-widgets/base",
       "_view_module_version": "1.2.0",
       "_view_name": "LayoutView",
       "align_content": null,
       "align_items": null,
       "align_self": null,
       "border": null,
       "bottom": null,
       "display": null,
       "flex": null,
       "flex_flow": null,
       "grid_area": null,
       "grid_auto_columns": null,
       "grid_auto_flow": null,
       "grid_auto_rows": null,
       "grid_column": null,
       "grid_gap": null,
       "grid_row": null,
       "grid_template_areas": null,
       "grid_template_columns": null,
       "grid_template_rows": null,
       "height": null,
       "justify_content": null,
       "justify_items": null,
       "left": null,
       "margin": null,
       "max_height": null,
       "max_width": null,
       "min_height": null,
       "min_width": null,
       "object_fit": null,
       "object_position": null,
       "order": null,
       "overflow": null,
       "overflow_x": null,
       "overflow_y": null,
       "padding": null,
       "right": null,
       "top": null,
       "visibility": null,
       "width": null
      }
     },
     "b02107d56cd54d20877f1dc21c46b12c": {
      "model_module": "@jupyter-widgets/controls",
      "model_module_version": "1.5.0",
      "model_name": "HTMLModel",
      "state": {
       "_dom_classes": [],
       "_model_module": "@jupyter-widgets/controls",
       "_model_module_version": "1.5.0",
       "_model_name": "HTMLModel",
       "_view_count": null,
       "_view_module": "@jupyter-widgets/controls",
       "_view_module_version": "1.5.0",
       "_view_name": "HTMLView",
       "description": "",
       "description_tooltip": null,
       "layout": "IPY_MODEL_c514372b2e0f47afb6a9497d79b06cae",
       "placeholder": "​",
       "style": "IPY_MODEL_5868ec8f6c0a45a4a02719d1af8d1f11",
       "value": "Downloading: 100%"
      }
     },
     "b3aae51c5aa54b4da5c93cee753b16a8": {
      "model_module": "@jupyter-widgets/controls",
      "model_module_version": "1.5.0",
      "model_name": "ProgressStyleModel",
      "state": {
       "_model_module": "@jupyter-widgets/controls",
       "_model_module_version": "1.5.0",
       "_model_name": "ProgressStyleModel",
       "_view_count": null,
       "_view_module": "@jupyter-widgets/base",
       "_view_module_version": "1.2.0",
       "_view_name": "StyleView",
       "bar_color": null,
       "description_width": ""
      }
     },
     "b4fd73ddc64041d4a2efc085574b6ee2": {
      "model_module": "@jupyter-widgets/controls",
      "model_module_version": "1.5.0",
      "model_name": "DescriptionStyleModel",
      "state": {
       "_model_module": "@jupyter-widgets/controls",
       "_model_module_version": "1.5.0",
       "_model_name": "DescriptionStyleModel",
       "_view_count": null,
       "_view_module": "@jupyter-widgets/base",
       "_view_module_version": "1.2.0",
       "_view_name": "StyleView",
       "description_width": ""
      }
     },
     "b774d1ea24a64fcdbbae4ca0c6909667": {
      "model_module": "@jupyter-widgets/base",
      "model_module_version": "1.2.0",
      "model_name": "LayoutModel",
      "state": {
       "_model_module": "@jupyter-widgets/base",
       "_model_module_version": "1.2.0",
       "_model_name": "LayoutModel",
       "_view_count": null,
       "_view_module": "@jupyter-widgets/base",
       "_view_module_version": "1.2.0",
       "_view_name": "LayoutView",
       "align_content": null,
       "align_items": null,
       "align_self": null,
       "border": null,
       "bottom": null,
       "display": null,
       "flex": null,
       "flex_flow": null,
       "grid_area": null,
       "grid_auto_columns": null,
       "grid_auto_flow": null,
       "grid_auto_rows": null,
       "grid_column": null,
       "grid_gap": null,
       "grid_row": null,
       "grid_template_areas": null,
       "grid_template_columns": null,
       "grid_template_rows": null,
       "height": null,
       "justify_content": null,
       "justify_items": null,
       "left": null,
       "margin": null,
       "max_height": null,
       "max_width": null,
       "min_height": null,
       "min_width": null,
       "object_fit": null,
       "object_position": null,
       "order": null,
       "overflow": null,
       "overflow_x": null,
       "overflow_y": null,
       "padding": null,
       "right": null,
       "top": null,
       "visibility": null,
       "width": null
      }
     },
     "bd83d93eb82e43e6a6eb50a626e640b4": {
      "model_module": "@jupyter-widgets/controls",
      "model_module_version": "1.5.0",
      "model_name": "HBoxModel",
      "state": {
       "_dom_classes": [],
       "_model_module": "@jupyter-widgets/controls",
       "_model_module_version": "1.5.0",
       "_model_name": "HBoxModel",
       "_view_count": null,
       "_view_module": "@jupyter-widgets/controls",
       "_view_module_version": "1.5.0",
       "_view_name": "HBoxView",
       "box_style": "",
       "children": [
        "IPY_MODEL_41a809eb4e0b40629dfe08ff30dff6c7",
        "IPY_MODEL_3be5b61abb1d47fc97acaaaa513bdaac",
        "IPY_MODEL_3dae8a07c5254c909ac0e179e0ebac6c"
       ],
       "layout": "IPY_MODEL_28a2ca68a64d45cca5ca39a71d49acf6"
      }
     },
     "be37a739ca134964af045cfd7a860584": {
      "model_module": "@jupyter-widgets/base",
      "model_module_version": "1.2.0",
      "model_name": "LayoutModel",
      "state": {
       "_model_module": "@jupyter-widgets/base",
       "_model_module_version": "1.2.0",
       "_model_name": "LayoutModel",
       "_view_count": null,
       "_view_module": "@jupyter-widgets/base",
       "_view_module_version": "1.2.0",
       "_view_name": "LayoutView",
       "align_content": null,
       "align_items": null,
       "align_self": null,
       "border": null,
       "bottom": null,
       "display": null,
       "flex": null,
       "flex_flow": null,
       "grid_area": null,
       "grid_auto_columns": null,
       "grid_auto_flow": null,
       "grid_auto_rows": null,
       "grid_column": null,
       "grid_gap": null,
       "grid_row": null,
       "grid_template_areas": null,
       "grid_template_columns": null,
       "grid_template_rows": null,
       "height": null,
       "justify_content": null,
       "justify_items": null,
       "left": null,
       "margin": null,
       "max_height": null,
       "max_width": null,
       "min_height": null,
       "min_width": null,
       "object_fit": null,
       "object_position": null,
       "order": null,
       "overflow": null,
       "overflow_x": null,
       "overflow_y": null,
       "padding": null,
       "right": null,
       "top": null,
       "visibility": null,
       "width": null
      }
     },
     "becf1fea0df94e0ea67c2d93943f8446": {
      "model_module": "@jupyter-widgets/controls",
      "model_module_version": "1.5.0",
      "model_name": "HTMLModel",
      "state": {
       "_dom_classes": [],
       "_model_module": "@jupyter-widgets/controls",
       "_model_module_version": "1.5.0",
       "_model_name": "HTMLModel",
       "_view_count": null,
       "_view_module": "@jupyter-widgets/controls",
       "_view_module_version": "1.5.0",
       "_view_name": "HTMLView",
       "description": "",
       "description_tooltip": null,
       "layout": "IPY_MODEL_f06cee60c4dc452eb445722de656d3fe",
       "placeholder": "​",
       "style": "IPY_MODEL_cd999be8d28a47cca5ca97f4d97f3d85",
       "value": "Downloading: 100%"
      }
     },
     "c0552e74ea37402285c1de972dc40310": {
      "model_module": "@jupyter-widgets/controls",
      "model_module_version": "1.5.0",
      "model_name": "DescriptionStyleModel",
      "state": {
       "_model_module": "@jupyter-widgets/controls",
       "_model_module_version": "1.5.0",
       "_model_name": "DescriptionStyleModel",
       "_view_count": null,
       "_view_module": "@jupyter-widgets/base",
       "_view_module_version": "1.2.0",
       "_view_name": "StyleView",
       "description_width": ""
      }
     },
     "c20b7cc5035b4e18be2ae38c3d236dd2": {
      "model_module": "@jupyter-widgets/base",
      "model_module_version": "1.2.0",
      "model_name": "LayoutModel",
      "state": {
       "_model_module": "@jupyter-widgets/base",
       "_model_module_version": "1.2.0",
       "_model_name": "LayoutModel",
       "_view_count": null,
       "_view_module": "@jupyter-widgets/base",
       "_view_module_version": "1.2.0",
       "_view_name": "LayoutView",
       "align_content": null,
       "align_items": null,
       "align_self": null,
       "border": null,
       "bottom": null,
       "display": null,
       "flex": null,
       "flex_flow": null,
       "grid_area": null,
       "grid_auto_columns": null,
       "grid_auto_flow": null,
       "grid_auto_rows": null,
       "grid_column": null,
       "grid_gap": null,
       "grid_row": null,
       "grid_template_areas": null,
       "grid_template_columns": null,
       "grid_template_rows": null,
       "height": null,
       "justify_content": null,
       "justify_items": null,
       "left": null,
       "margin": null,
       "max_height": null,
       "max_width": null,
       "min_height": null,
       "min_width": null,
       "object_fit": null,
       "object_position": null,
       "order": null,
       "overflow": null,
       "overflow_x": null,
       "overflow_y": null,
       "padding": null,
       "right": null,
       "top": null,
       "visibility": null,
       "width": null
      }
     },
     "c26165ee1170452bb49b09f38ff4adf3": {
      "model_module": "@jupyter-widgets/controls",
      "model_module_version": "1.5.0",
      "model_name": "ProgressStyleModel",
      "state": {
       "_model_module": "@jupyter-widgets/controls",
       "_model_module_version": "1.5.0",
       "_model_name": "ProgressStyleModel",
       "_view_count": null,
       "_view_module": "@jupyter-widgets/base",
       "_view_module_version": "1.2.0",
       "_view_name": "StyleView",
       "bar_color": null,
       "description_width": ""
      }
     },
     "c2c968f6492c486d8825872defdb5c23": {
      "model_module": "@jupyter-widgets/base",
      "model_module_version": "1.2.0",
      "model_name": "LayoutModel",
      "state": {
       "_model_module": "@jupyter-widgets/base",
       "_model_module_version": "1.2.0",
       "_model_name": "LayoutModel",
       "_view_count": null,
       "_view_module": "@jupyter-widgets/base",
       "_view_module_version": "1.2.0",
       "_view_name": "LayoutView",
       "align_content": null,
       "align_items": null,
       "align_self": null,
       "border": null,
       "bottom": null,
       "display": null,
       "flex": null,
       "flex_flow": null,
       "grid_area": null,
       "grid_auto_columns": null,
       "grid_auto_flow": null,
       "grid_auto_rows": null,
       "grid_column": null,
       "grid_gap": null,
       "grid_row": null,
       "grid_template_areas": null,
       "grid_template_columns": null,
       "grid_template_rows": null,
       "height": null,
       "justify_content": null,
       "justify_items": null,
       "left": null,
       "margin": null,
       "max_height": null,
       "max_width": null,
       "min_height": null,
       "min_width": null,
       "object_fit": null,
       "object_position": null,
       "order": null,
       "overflow": null,
       "overflow_x": null,
       "overflow_y": null,
       "padding": null,
       "right": null,
       "top": null,
       "visibility": null,
       "width": null
      }
     },
     "c308c313dc4147f2b011f2a99d093387": {
      "model_module": "@jupyter-widgets/controls",
      "model_module_version": "1.5.0",
      "model_name": "HTMLModel",
      "state": {
       "_dom_classes": [],
       "_model_module": "@jupyter-widgets/controls",
       "_model_module_version": "1.5.0",
       "_model_name": "HTMLModel",
       "_view_count": null,
       "_view_module": "@jupyter-widgets/controls",
       "_view_module_version": "1.5.0",
       "_view_name": "HTMLView",
       "description": "",
       "description_tooltip": null,
       "layout": "IPY_MODEL_108632df92184ea4953ddd89197b8dc1",
       "placeholder": "​",
       "style": "IPY_MODEL_f6bf3e0117144959aa03fc505fd23f8c",
       "value": "Downloading: 100%"
      }
     },
     "c514372b2e0f47afb6a9497d79b06cae": {
      "model_module": "@jupyter-widgets/base",
      "model_module_version": "1.2.0",
      "model_name": "LayoutModel",
      "state": {
       "_model_module": "@jupyter-widgets/base",
       "_model_module_version": "1.2.0",
       "_model_name": "LayoutModel",
       "_view_count": null,
       "_view_module": "@jupyter-widgets/base",
       "_view_module_version": "1.2.0",
       "_view_name": "LayoutView",
       "align_content": null,
       "align_items": null,
       "align_self": null,
       "border": null,
       "bottom": null,
       "display": null,
       "flex": null,
       "flex_flow": null,
       "grid_area": null,
       "grid_auto_columns": null,
       "grid_auto_flow": null,
       "grid_auto_rows": null,
       "grid_column": null,
       "grid_gap": null,
       "grid_row": null,
       "grid_template_areas": null,
       "grid_template_columns": null,
       "grid_template_rows": null,
       "height": null,
       "justify_content": null,
       "justify_items": null,
       "left": null,
       "margin": null,
       "max_height": null,
       "max_width": null,
       "min_height": null,
       "min_width": null,
       "object_fit": null,
       "object_position": null,
       "order": null,
       "overflow": null,
       "overflow_x": null,
       "overflow_y": null,
       "padding": null,
       "right": null,
       "top": null,
       "visibility": null,
       "width": null
      }
     },
     "c62edded54a84eeda8be66891903f7cc": {
      "model_module": "@jupyter-widgets/controls",
      "model_module_version": "1.5.0",
      "model_name": "DescriptionStyleModel",
      "state": {
       "_model_module": "@jupyter-widgets/controls",
       "_model_module_version": "1.5.0",
       "_model_name": "DescriptionStyleModel",
       "_view_count": null,
       "_view_module": "@jupyter-widgets/base",
       "_view_module_version": "1.2.0",
       "_view_name": "StyleView",
       "description_width": ""
      }
     },
     "c65d4927f1b14db8b72b90e72a4a1921": {
      "model_module": "@jupyter-widgets/controls",
      "model_module_version": "1.5.0",
      "model_name": "DescriptionStyleModel",
      "state": {
       "_model_module": "@jupyter-widgets/controls",
       "_model_module_version": "1.5.0",
       "_model_name": "DescriptionStyleModel",
       "_view_count": null,
       "_view_module": "@jupyter-widgets/base",
       "_view_module_version": "1.2.0",
       "_view_name": "StyleView",
       "description_width": ""
      }
     },
     "c6b46fa7d7fa4ff08b815e9b4290fc77": {
      "model_module": "@jupyter-widgets/controls",
      "model_module_version": "1.5.0",
      "model_name": "DescriptionStyleModel",
      "state": {
       "_model_module": "@jupyter-widgets/controls",
       "_model_module_version": "1.5.0",
       "_model_name": "DescriptionStyleModel",
       "_view_count": null,
       "_view_module": "@jupyter-widgets/base",
       "_view_module_version": "1.2.0",
       "_view_name": "StyleView",
       "description_width": ""
      }
     },
     "ca512ada0761420dafa7e39cb6d49542": {
      "model_module": "@jupyter-widgets/controls",
      "model_module_version": "1.5.0",
      "model_name": "DescriptionStyleModel",
      "state": {
       "_model_module": "@jupyter-widgets/controls",
       "_model_module_version": "1.5.0",
       "_model_name": "DescriptionStyleModel",
       "_view_count": null,
       "_view_module": "@jupyter-widgets/base",
       "_view_module_version": "1.2.0",
       "_view_name": "StyleView",
       "description_width": ""
      }
     },
     "cb26079ac14c40748b50c479bd82c4c9": {
      "model_module": "@jupyter-widgets/controls",
      "model_module_version": "1.5.0",
      "model_name": "HBoxModel",
      "state": {
       "_dom_classes": [],
       "_model_module": "@jupyter-widgets/controls",
       "_model_module_version": "1.5.0",
       "_model_name": "HBoxModel",
       "_view_count": null,
       "_view_module": "@jupyter-widgets/controls",
       "_view_module_version": "1.5.0",
       "_view_name": "HBoxView",
       "box_style": "",
       "children": [
        "IPY_MODEL_d61ecc273dd9427b8b43424e51f88a04",
        "IPY_MODEL_8df680db77b44346b9048790d0cec9db",
        "IPY_MODEL_f440bd2d77b9477386ad5fe9e7516a1e"
       ],
       "layout": "IPY_MODEL_d523a8796c2e4405b3bc74967b08fc17"
      }
     },
     "cb574f96fe1b4404bf2929774a00b355": {
      "model_module": "@jupyter-widgets/controls",
      "model_module_version": "1.5.0",
      "model_name": "FloatProgressModel",
      "state": {
       "_dom_classes": [],
       "_model_module": "@jupyter-widgets/controls",
       "_model_module_version": "1.5.0",
       "_model_name": "FloatProgressModel",
       "_view_count": null,
       "_view_module": "@jupyter-widgets/controls",
       "_view_module_version": "1.5.0",
       "_view_name": "ProgressView",
       "bar_style": "success",
       "description": "",
       "description_tooltip": null,
       "layout": "IPY_MODEL_48e2e9878a7f4686bb7012478ef32605",
       "max": 1883785969,
       "min": 0,
       "orientation": "horizontal",
       "style": "IPY_MODEL_034e6ffc12254245bb2965e1dd45d046",
       "value": 1883785969
      }
     },
     "cd999be8d28a47cca5ca97f4d97f3d85": {
      "model_module": "@jupyter-widgets/controls",
      "model_module_version": "1.5.0",
      "model_name": "DescriptionStyleModel",
      "state": {
       "_model_module": "@jupyter-widgets/controls",
       "_model_module_version": "1.5.0",
       "_model_name": "DescriptionStyleModel",
       "_view_count": null,
       "_view_module": "@jupyter-widgets/base",
       "_view_module_version": "1.2.0",
       "_view_name": "StyleView",
       "description_width": ""
      }
     },
     "cecf2e02497b4a18af87b007da9361d2": {
      "model_module": "@jupyter-widgets/controls",
      "model_module_version": "1.5.0",
      "model_name": "DescriptionStyleModel",
      "state": {
       "_model_module": "@jupyter-widgets/controls",
       "_model_module_version": "1.5.0",
       "_model_name": "DescriptionStyleModel",
       "_view_count": null,
       "_view_module": "@jupyter-widgets/base",
       "_view_module_version": "1.2.0",
       "_view_name": "StyleView",
       "description_width": ""
      }
     },
     "cf24dccc482149bf852d6a83d51c8016": {
      "model_module": "@jupyter-widgets/controls",
      "model_module_version": "1.5.0",
      "model_name": "DescriptionStyleModel",
      "state": {
       "_model_module": "@jupyter-widgets/controls",
       "_model_module_version": "1.5.0",
       "_model_name": "DescriptionStyleModel",
       "_view_count": null,
       "_view_module": "@jupyter-widgets/base",
       "_view_module_version": "1.2.0",
       "_view_name": "StyleView",
       "description_width": ""
      }
     },
     "d42ac4cd918a49bab7805135017d081b": {
      "model_module": "@jupyter-widgets/controls",
      "model_module_version": "1.5.0",
      "model_name": "DescriptionStyleModel",
      "state": {
       "_model_module": "@jupyter-widgets/controls",
       "_model_module_version": "1.5.0",
       "_model_name": "DescriptionStyleModel",
       "_view_count": null,
       "_view_module": "@jupyter-widgets/base",
       "_view_module_version": "1.2.0",
       "_view_name": "StyleView",
       "description_width": ""
      }
     },
     "d484957b868d48d2aad4e688963c3ba4": {
      "model_module": "@jupyter-widgets/controls",
      "model_module_version": "1.5.0",
      "model_name": "DescriptionStyleModel",
      "state": {
       "_model_module": "@jupyter-widgets/controls",
       "_model_module_version": "1.5.0",
       "_model_name": "DescriptionStyleModel",
       "_view_count": null,
       "_view_module": "@jupyter-widgets/base",
       "_view_module_version": "1.2.0",
       "_view_name": "StyleView",
       "description_width": ""
      }
     },
     "d523a8796c2e4405b3bc74967b08fc17": {
      "model_module": "@jupyter-widgets/base",
      "model_module_version": "1.2.0",
      "model_name": "LayoutModel",
      "state": {
       "_model_module": "@jupyter-widgets/base",
       "_model_module_version": "1.2.0",
       "_model_name": "LayoutModel",
       "_view_count": null,
       "_view_module": "@jupyter-widgets/base",
       "_view_module_version": "1.2.0",
       "_view_name": "LayoutView",
       "align_content": null,
       "align_items": null,
       "align_self": null,
       "border": null,
       "bottom": null,
       "display": null,
       "flex": null,
       "flex_flow": null,
       "grid_area": null,
       "grid_auto_columns": null,
       "grid_auto_flow": null,
       "grid_auto_rows": null,
       "grid_column": null,
       "grid_gap": null,
       "grid_row": null,
       "grid_template_areas": null,
       "grid_template_columns": null,
       "grid_template_rows": null,
       "height": null,
       "justify_content": null,
       "justify_items": null,
       "left": null,
       "margin": null,
       "max_height": null,
       "max_width": null,
       "min_height": null,
       "min_width": null,
       "object_fit": null,
       "object_position": null,
       "order": null,
       "overflow": null,
       "overflow_x": null,
       "overflow_y": null,
       "padding": null,
       "right": null,
       "top": null,
       "visibility": null,
       "width": null
      }
     },
     "d5fc498bb5f94262a643ff32565dd830": {
      "model_module": "@jupyter-widgets/base",
      "model_module_version": "1.2.0",
      "model_name": "LayoutModel",
      "state": {
       "_model_module": "@jupyter-widgets/base",
       "_model_module_version": "1.2.0",
       "_model_name": "LayoutModel",
       "_view_count": null,
       "_view_module": "@jupyter-widgets/base",
       "_view_module_version": "1.2.0",
       "_view_name": "LayoutView",
       "align_content": null,
       "align_items": null,
       "align_self": null,
       "border": null,
       "bottom": null,
       "display": null,
       "flex": null,
       "flex_flow": null,
       "grid_area": null,
       "grid_auto_columns": null,
       "grid_auto_flow": null,
       "grid_auto_rows": null,
       "grid_column": null,
       "grid_gap": null,
       "grid_row": null,
       "grid_template_areas": null,
       "grid_template_columns": null,
       "grid_template_rows": null,
       "height": null,
       "justify_content": null,
       "justify_items": null,
       "left": null,
       "margin": null,
       "max_height": null,
       "max_width": null,
       "min_height": null,
       "min_width": null,
       "object_fit": null,
       "object_position": null,
       "order": null,
       "overflow": null,
       "overflow_x": null,
       "overflow_y": null,
       "padding": null,
       "right": null,
       "top": null,
       "visibility": null,
       "width": null
      }
     },
     "d61ecc273dd9427b8b43424e51f88a04": {
      "model_module": "@jupyter-widgets/controls",
      "model_module_version": "1.5.0",
      "model_name": "HTMLModel",
      "state": {
       "_dom_classes": [],
       "_model_module": "@jupyter-widgets/controls",
       "_model_module_version": "1.5.0",
       "_model_name": "HTMLModel",
       "_view_count": null,
       "_view_module": "@jupyter-widgets/controls",
       "_view_module_version": "1.5.0",
       "_view_name": "HTMLView",
       "description": "",
       "description_tooltip": null,
       "layout": "IPY_MODEL_eb8de9835c934144b657bef1bf8e78ee",
       "placeholder": "​",
       "style": "IPY_MODEL_c65d4927f1b14db8b72b90e72a4a1921",
       "value": "Downloading: 100%"
      }
     },
     "d8c1cbe53c3041eb838c241387549874": {
      "model_module": "@jupyter-widgets/controls",
      "model_module_version": "1.5.0",
      "model_name": "HTMLModel",
      "state": {
       "_dom_classes": [],
       "_model_module": "@jupyter-widgets/controls",
       "_model_module_version": "1.5.0",
       "_model_name": "HTMLModel",
       "_view_count": null,
       "_view_module": "@jupyter-widgets/controls",
       "_view_module_version": "1.5.0",
       "_view_name": "HTMLView",
       "description": "",
       "description_tooltip": null,
       "layout": "IPY_MODEL_54a34592d94a4fd9a809a049ef2a9c74",
       "placeholder": "​",
       "style": "IPY_MODEL_1c69be9686bb4b7697dd431ec5cd2033",
       "value": " 114/114 [00:00&lt;00:00, 3.83kB/s]"
      }
     },
     "dbc469e4da584cb58ee247cc6c6df5eb": {
      "model_module": "@jupyter-widgets/controls",
      "model_module_version": "1.5.0",
      "model_name": "ProgressStyleModel",
      "state": {
       "_model_module": "@jupyter-widgets/controls",
       "_model_module_version": "1.5.0",
       "_model_name": "ProgressStyleModel",
       "_view_count": null,
       "_view_module": "@jupyter-widgets/base",
       "_view_module_version": "1.2.0",
       "_view_name": "StyleView",
       "bar_color": null,
       "description_width": ""
      }
     },
     "dc27f66a535648098cb5e647745f3b8a": {
      "model_module": "@jupyter-widgets/controls",
      "model_module_version": "1.5.0",
      "model_name": "DescriptionStyleModel",
      "state": {
       "_model_module": "@jupyter-widgets/controls",
       "_model_module_version": "1.5.0",
       "_model_name": "DescriptionStyleModel",
       "_view_count": null,
       "_view_module": "@jupyter-widgets/base",
       "_view_module_version": "1.2.0",
       "_view_name": "StyleView",
       "description_width": ""
      }
     },
     "dc63149c962f4668a89f9f94d60763a1": {
      "model_module": "@jupyter-widgets/controls",
      "model_module_version": "1.5.0",
      "model_name": "DescriptionStyleModel",
      "state": {
       "_model_module": "@jupyter-widgets/controls",
       "_model_module_version": "1.5.0",
       "_model_name": "DescriptionStyleModel",
       "_view_count": null,
       "_view_module": "@jupyter-widgets/base",
       "_view_module_version": "1.2.0",
       "_view_name": "StyleView",
       "description_width": ""
      }
     },
     "e166be0357294c08816fb595f6919e21": {
      "model_module": "@jupyter-widgets/controls",
      "model_module_version": "1.5.0",
      "model_name": "ProgressStyleModel",
      "state": {
       "_model_module": "@jupyter-widgets/controls",
       "_model_module_version": "1.5.0",
       "_model_name": "ProgressStyleModel",
       "_view_count": null,
       "_view_module": "@jupyter-widgets/base",
       "_view_module_version": "1.2.0",
       "_view_name": "StyleView",
       "bar_color": null,
       "description_width": ""
      }
     },
     "e556a6c87b1f409595502a9c0b8bea69": {
      "model_module": "@jupyter-widgets/base",
      "model_module_version": "1.2.0",
      "model_name": "LayoutModel",
      "state": {
       "_model_module": "@jupyter-widgets/base",
       "_model_module_version": "1.2.0",
       "_model_name": "LayoutModel",
       "_view_count": null,
       "_view_module": "@jupyter-widgets/base",
       "_view_module_version": "1.2.0",
       "_view_name": "LayoutView",
       "align_content": null,
       "align_items": null,
       "align_self": null,
       "border": null,
       "bottom": null,
       "display": null,
       "flex": null,
       "flex_flow": null,
       "grid_area": null,
       "grid_auto_columns": null,
       "grid_auto_flow": null,
       "grid_auto_rows": null,
       "grid_column": null,
       "grid_gap": null,
       "grid_row": null,
       "grid_template_areas": null,
       "grid_template_columns": null,
       "grid_template_rows": null,
       "height": null,
       "justify_content": null,
       "justify_items": null,
       "left": null,
       "margin": null,
       "max_height": null,
       "max_width": null,
       "min_height": null,
       "min_width": null,
       "object_fit": null,
       "object_position": null,
       "order": null,
       "overflow": null,
       "overflow_x": null,
       "overflow_y": null,
       "padding": null,
       "right": null,
       "top": null,
       "visibility": null,
       "width": null
      }
     },
     "ea2b76ea0b79411ebd5913b39e805262": {
      "model_module": "@jupyter-widgets/base",
      "model_module_version": "1.2.0",
      "model_name": "LayoutModel",
      "state": {
       "_model_module": "@jupyter-widgets/base",
       "_model_module_version": "1.2.0",
       "_model_name": "LayoutModel",
       "_view_count": null,
       "_view_module": "@jupyter-widgets/base",
       "_view_module_version": "1.2.0",
       "_view_name": "LayoutView",
       "align_content": null,
       "align_items": null,
       "align_self": null,
       "border": null,
       "bottom": null,
       "display": null,
       "flex": null,
       "flex_flow": null,
       "grid_area": null,
       "grid_auto_columns": null,
       "grid_auto_flow": null,
       "grid_auto_rows": null,
       "grid_column": null,
       "grid_gap": null,
       "grid_row": null,
       "grid_template_areas": null,
       "grid_template_columns": null,
       "grid_template_rows": null,
       "height": null,
       "justify_content": null,
       "justify_items": null,
       "left": null,
       "margin": null,
       "max_height": null,
       "max_width": null,
       "min_height": null,
       "min_width": null,
       "object_fit": null,
       "object_position": null,
       "order": null,
       "overflow": null,
       "overflow_x": null,
       "overflow_y": null,
       "padding": null,
       "right": null,
       "top": null,
       "visibility": null,
       "width": null
      }
     },
     "eb8de9835c934144b657bef1bf8e78ee": {
      "model_module": "@jupyter-widgets/base",
      "model_module_version": "1.2.0",
      "model_name": "LayoutModel",
      "state": {
       "_model_module": "@jupyter-widgets/base",
       "_model_module_version": "1.2.0",
       "_model_name": "LayoutModel",
       "_view_count": null,
       "_view_module": "@jupyter-widgets/base",
       "_view_module_version": "1.2.0",
       "_view_name": "LayoutView",
       "align_content": null,
       "align_items": null,
       "align_self": null,
       "border": null,
       "bottom": null,
       "display": null,
       "flex": null,
       "flex_flow": null,
       "grid_area": null,
       "grid_auto_columns": null,
       "grid_auto_flow": null,
       "grid_auto_rows": null,
       "grid_column": null,
       "grid_gap": null,
       "grid_row": null,
       "grid_template_areas": null,
       "grid_template_columns": null,
       "grid_template_rows": null,
       "height": null,
       "justify_content": null,
       "justify_items": null,
       "left": null,
       "margin": null,
       "max_height": null,
       "max_width": null,
       "min_height": null,
       "min_width": null,
       "object_fit": null,
       "object_position": null,
       "order": null,
       "overflow": null,
       "overflow_x": null,
       "overflow_y": null,
       "padding": null,
       "right": null,
       "top": null,
       "visibility": null,
       "width": null
      }
     },
     "f06cee60c4dc452eb445722de656d3fe": {
      "model_module": "@jupyter-widgets/base",
      "model_module_version": "1.2.0",
      "model_name": "LayoutModel",
      "state": {
       "_model_module": "@jupyter-widgets/base",
       "_model_module_version": "1.2.0",
       "_model_name": "LayoutModel",
       "_view_count": null,
       "_view_module": "@jupyter-widgets/base",
       "_view_module_version": "1.2.0",
       "_view_name": "LayoutView",
       "align_content": null,
       "align_items": null,
       "align_self": null,
       "border": null,
       "bottom": null,
       "display": null,
       "flex": null,
       "flex_flow": null,
       "grid_area": null,
       "grid_auto_columns": null,
       "grid_auto_flow": null,
       "grid_auto_rows": null,
       "grid_column": null,
       "grid_gap": null,
       "grid_row": null,
       "grid_template_areas": null,
       "grid_template_columns": null,
       "grid_template_rows": null,
       "height": null,
       "justify_content": null,
       "justify_items": null,
       "left": null,
       "margin": null,
       "max_height": null,
       "max_width": null,
       "min_height": null,
       "min_width": null,
       "object_fit": null,
       "object_position": null,
       "order": null,
       "overflow": null,
       "overflow_x": null,
       "overflow_y": null,
       "padding": null,
       "right": null,
       "top": null,
       "visibility": null,
       "width": null
      }
     },
     "f14a2b960dfb41079197cfc5478a4f01": {
      "model_module": "@jupyter-widgets/base",
      "model_module_version": "1.2.0",
      "model_name": "LayoutModel",
      "state": {
       "_model_module": "@jupyter-widgets/base",
       "_model_module_version": "1.2.0",
       "_model_name": "LayoutModel",
       "_view_count": null,
       "_view_module": "@jupyter-widgets/base",
       "_view_module_version": "1.2.0",
       "_view_name": "LayoutView",
       "align_content": null,
       "align_items": null,
       "align_self": null,
       "border": null,
       "bottom": null,
       "display": null,
       "flex": null,
       "flex_flow": null,
       "grid_area": null,
       "grid_auto_columns": null,
       "grid_auto_flow": null,
       "grid_auto_rows": null,
       "grid_column": null,
       "grid_gap": null,
       "grid_row": null,
       "grid_template_areas": null,
       "grid_template_columns": null,
       "grid_template_rows": null,
       "height": null,
       "justify_content": null,
       "justify_items": null,
       "left": null,
       "margin": null,
       "max_height": null,
       "max_width": null,
       "min_height": null,
       "min_width": null,
       "object_fit": null,
       "object_position": null,
       "order": null,
       "overflow": null,
       "overflow_x": null,
       "overflow_y": null,
       "padding": null,
       "right": null,
       "top": null,
       "visibility": null,
       "width": null
      }
     },
     "f3595034737c49cd838438627fc7a2cd": {
      "model_module": "@jupyter-widgets/controls",
      "model_module_version": "1.5.0",
      "model_name": "ProgressStyleModel",
      "state": {
       "_model_module": "@jupyter-widgets/controls",
       "_model_module_version": "1.5.0",
       "_model_name": "ProgressStyleModel",
       "_view_count": null,
       "_view_module": "@jupyter-widgets/base",
       "_view_module_version": "1.2.0",
       "_view_name": "StyleView",
       "bar_color": null,
       "description_width": ""
      }
     },
     "f3a2551355274f248ae85fdba883b6b7": {
      "model_module": "@jupyter-widgets/controls",
      "model_module_version": "1.5.0",
      "model_name": "DescriptionStyleModel",
      "state": {
       "_model_module": "@jupyter-widgets/controls",
       "_model_module_version": "1.5.0",
       "_model_name": "DescriptionStyleModel",
       "_view_count": null,
       "_view_module": "@jupyter-widgets/base",
       "_view_module_version": "1.2.0",
       "_view_name": "StyleView",
       "description_width": ""
      }
     },
     "f440bd2d77b9477386ad5fe9e7516a1e": {
      "model_module": "@jupyter-widgets/controls",
      "model_module_version": "1.5.0",
      "model_name": "HTMLModel",
      "state": {
       "_dom_classes": [],
       "_model_module": "@jupyter-widgets/controls",
       "_model_module_version": "1.5.0",
       "_model_name": "HTMLModel",
       "_view_count": null,
       "_view_module": "@jupyter-widgets/controls",
       "_view_module_version": "1.5.0",
       "_view_name": "HTMLView",
       "description": "",
       "description_tooltip": null,
       "layout": "IPY_MODEL_828cadf188844424a3faeca6b5b5b5f8",
       "placeholder": "​",
       "style": "IPY_MODEL_d42ac4cd918a49bab7805135017d081b",
       "value": " 411/411 [00:00&lt;00:00, 9.10kB/s]"
      }
     },
     "f4a409a7e23346b098fa0659a3baf920": {
      "model_module": "@jupyter-widgets/base",
      "model_module_version": "1.2.0",
      "model_name": "LayoutModel",
      "state": {
       "_model_module": "@jupyter-widgets/base",
       "_model_module_version": "1.2.0",
       "_model_name": "LayoutModel",
       "_view_count": null,
       "_view_module": "@jupyter-widgets/base",
       "_view_module_version": "1.2.0",
       "_view_name": "LayoutView",
       "align_content": null,
       "align_items": null,
       "align_self": null,
       "border": null,
       "bottom": null,
       "display": null,
       "flex": null,
       "flex_flow": null,
       "grid_area": null,
       "grid_auto_columns": null,
       "grid_auto_flow": null,
       "grid_auto_rows": null,
       "grid_column": null,
       "grid_gap": null,
       "grid_row": null,
       "grid_template_areas": null,
       "grid_template_columns": null,
       "grid_template_rows": null,
       "height": null,
       "justify_content": null,
       "justify_items": null,
       "left": null,
       "margin": null,
       "max_height": null,
       "max_width": null,
       "min_height": null,
       "min_width": null,
       "object_fit": null,
       "object_position": null,
       "order": null,
       "overflow": null,
       "overflow_x": null,
       "overflow_y": null,
       "padding": null,
       "right": null,
       "top": null,
       "visibility": null,
       "width": null
      }
     },
     "f597a8b56b6d42e3ae48ed427fa35910": {
      "model_module": "@jupyter-widgets/base",
      "model_module_version": "1.2.0",
      "model_name": "LayoutModel",
      "state": {
       "_model_module": "@jupyter-widgets/base",
       "_model_module_version": "1.2.0",
       "_model_name": "LayoutModel",
       "_view_count": null,
       "_view_module": "@jupyter-widgets/base",
       "_view_module_version": "1.2.0",
       "_view_name": "LayoutView",
       "align_content": null,
       "align_items": null,
       "align_self": null,
       "border": null,
       "bottom": null,
       "display": null,
       "flex": null,
       "flex_flow": null,
       "grid_area": null,
       "grid_auto_columns": null,
       "grid_auto_flow": null,
       "grid_auto_rows": null,
       "grid_column": null,
       "grid_gap": null,
       "grid_row": null,
       "grid_template_areas": null,
       "grid_template_columns": null,
       "grid_template_rows": null,
       "height": null,
       "justify_content": null,
       "justify_items": null,
       "left": null,
       "margin": null,
       "max_height": null,
       "max_width": null,
       "min_height": null,
       "min_width": null,
       "object_fit": null,
       "object_position": null,
       "order": null,
       "overflow": null,
       "overflow_x": null,
       "overflow_y": null,
       "padding": null,
       "right": null,
       "top": null,
       "visibility": null,
       "width": null
      }
     },
     "f60b2aa1a95f4028abbccb90f1ce718a": {
      "model_module": "@jupyter-widgets/controls",
      "model_module_version": "1.5.0",
      "model_name": "HTMLModel",
      "state": {
       "_dom_classes": [],
       "_model_module": "@jupyter-widgets/controls",
       "_model_module_version": "1.5.0",
       "_model_name": "HTMLModel",
       "_view_count": null,
       "_view_module": "@jupyter-widgets/controls",
       "_view_module_version": "1.5.0",
       "_view_name": "HTMLView",
       "description": "",
       "description_tooltip": null,
       "layout": "IPY_MODEL_2c1293a386e6481c88995e75de1fb729",
       "placeholder": "​",
       "style": "IPY_MODEL_48a79c11e98246faa39352931e6d6a10",
       "value": " 804/804 [00:00&lt;00:00, 13.6kB/s]"
      }
     },
     "f6bf3e0117144959aa03fc505fd23f8c": {
      "model_module": "@jupyter-widgets/controls",
      "model_module_version": "1.5.0",
      "model_name": "DescriptionStyleModel",
      "state": {
       "_model_module": "@jupyter-widgets/controls",
       "_model_module_version": "1.5.0",
       "_model_name": "DescriptionStyleModel",
       "_view_count": null,
       "_view_module": "@jupyter-widgets/base",
       "_view_module_version": "1.2.0",
       "_view_name": "StyleView",
       "description_width": ""
      }
     },
     "f814ad37d7334cfdaa1a03afc766f4d3": {
      "model_module": "@jupyter-widgets/controls",
      "model_module_version": "1.5.0",
      "model_name": "ProgressStyleModel",
      "state": {
       "_model_module": "@jupyter-widgets/controls",
       "_model_module_version": "1.5.0",
       "_model_name": "ProgressStyleModel",
       "_view_count": null,
       "_view_module": "@jupyter-widgets/base",
       "_view_module_version": "1.2.0",
       "_view_name": "StyleView",
       "bar_color": null,
       "description_width": ""
      }
     },
     "fbbe997f32094dbe841daa1ca738d0a5": {
      "model_module": "@jupyter-widgets/controls",
      "model_module_version": "1.5.0",
      "model_name": "HTMLModel",
      "state": {
       "_dom_classes": [],
       "_model_module": "@jupyter-widgets/controls",
       "_model_module_version": "1.5.0",
       "_model_name": "HTMLModel",
       "_view_count": null,
       "_view_module": "@jupyter-widgets/controls",
       "_view_module_version": "1.5.0",
       "_view_name": "HTMLView",
       "description": "",
       "description_tooltip": null,
       "layout": "IPY_MODEL_68c475c7d45046b485005088b0beb999",
       "placeholder": "​",
       "style": "IPY_MODEL_882924f86b874259b9da0f76bd9f1e0d",
       "value": " 2.36M/2.36M [00:00&lt;00:00, 20.3MB/s]"
      }
     },
     "fc71ae794fdb46ec81f0724916079d5f": {
      "model_module": "@jupyter-widgets/base",
      "model_module_version": "1.2.0",
      "model_name": "LayoutModel",
      "state": {
       "_model_module": "@jupyter-widgets/base",
       "_model_module_version": "1.2.0",
       "_model_name": "LayoutModel",
       "_view_count": null,
       "_view_module": "@jupyter-widgets/base",
       "_view_module_version": "1.2.0",
       "_view_name": "LayoutView",
       "align_content": null,
       "align_items": null,
       "align_self": null,
       "border": null,
       "bottom": null,
       "display": null,
       "flex": null,
       "flex_flow": null,
       "grid_area": null,
       "grid_auto_columns": null,
       "grid_auto_flow": null,
       "grid_auto_rows": null,
       "grid_column": null,
       "grid_gap": null,
       "grid_row": null,
       "grid_template_areas": null,
       "grid_template_columns": null,
       "grid_template_rows": null,
       "height": null,
       "justify_content": null,
       "justify_items": null,
       "left": null,
       "margin": null,
       "max_height": null,
       "max_width": null,
       "min_height": null,
       "min_width": null,
       "object_fit": null,
       "object_position": null,
       "order": null,
       "overflow": null,
       "overflow_x": null,
       "overflow_y": null,
       "padding": null,
       "right": null,
       "top": null,
       "visibility": null,
       "width": null
      }
     },
     "fcbde8f11ec34db9a07013b40cf1a7f8": {
      "model_module": "@jupyter-widgets/controls",
      "model_module_version": "1.5.0",
      "model_name": "HTMLModel",
      "state": {
       "_dom_classes": [],
       "_model_module": "@jupyter-widgets/controls",
       "_model_module_version": "1.5.0",
       "_model_name": "HTMLModel",
       "_view_count": null,
       "_view_module": "@jupyter-widgets/controls",
       "_view_module_version": "1.5.0",
       "_view_name": "HTMLView",
       "description": "",
       "description_tooltip": null,
       "layout": "IPY_MODEL_4bf1141ed88a413989763de5f9516343",
       "placeholder": "​",
       "style": "IPY_MODEL_b4fd73ddc64041d4a2efc085574b6ee2",
       "value": "Downloading: 100%"
      }
     },
     "fd77d5a0dd91461482f523d16fc71864": {
      "model_module": "@jupyter-widgets/controls",
      "model_module_version": "1.5.0",
      "model_name": "ProgressStyleModel",
      "state": {
       "_model_module": "@jupyter-widgets/controls",
       "_model_module_version": "1.5.0",
       "_model_name": "ProgressStyleModel",
       "_view_count": null,
       "_view_module": "@jupyter-widgets/base",
       "_view_module_version": "1.2.0",
       "_view_name": "StyleView",
       "bar_color": null,
       "description_width": ""
      }
     },
     "fe3c55f372a2473ba1a5859aedfbd913": {
      "model_module": "@jupyter-widgets/controls",
      "model_module_version": "1.5.0",
      "model_name": "ProgressStyleModel",
      "state": {
       "_model_module": "@jupyter-widgets/controls",
       "_model_module_version": "1.5.0",
       "_model_name": "ProgressStyleModel",
       "_view_count": null,
       "_view_module": "@jupyter-widgets/base",
       "_view_module_version": "1.2.0",
       "_view_name": "StyleView",
       "bar_color": null,
       "description_width": ""
      }
     },
     "ff3e40addd6146e38116f98361a3d01d": {
      "model_module": "@jupyter-widgets/base",
      "model_module_version": "1.2.0",
      "model_name": "LayoutModel",
      "state": {
       "_model_module": "@jupyter-widgets/base",
       "_model_module_version": "1.2.0",
       "_model_name": "LayoutModel",
       "_view_count": null,
       "_view_module": "@jupyter-widgets/base",
       "_view_module_version": "1.2.0",
       "_view_name": "LayoutView",
       "align_content": null,
       "align_items": null,
       "align_self": null,
       "border": null,
       "bottom": null,
       "display": null,
       "flex": null,
       "flex_flow": null,
       "grid_area": null,
       "grid_auto_columns": null,
       "grid_auto_flow": null,
       "grid_auto_rows": null,
       "grid_column": null,
       "grid_gap": null,
       "grid_row": null,
       "grid_template_areas": null,
       "grid_template_columns": null,
       "grid_template_rows": null,
       "height": null,
       "justify_content": null,
       "justify_items": null,
       "left": null,
       "margin": null,
       "max_height": null,
       "max_width": null,
       "min_height": null,
       "min_width": null,
       "object_fit": null,
       "object_position": null,
       "order": null,
       "overflow": null,
       "overflow_x": null,
       "overflow_y": null,
       "padding": null,
       "right": null,
       "top": null,
       "visibility": null,
       "width": null
      }
     },
     "ff63f049d5ec442d9ff79b34a14f92a8": {
      "model_module": "@jupyter-widgets/base",
      "model_module_version": "1.2.0",
      "model_name": "LayoutModel",
      "state": {
       "_model_module": "@jupyter-widgets/base",
       "_model_module_version": "1.2.0",
       "_model_name": "LayoutModel",
       "_view_count": null,
       "_view_module": "@jupyter-widgets/base",
       "_view_module_version": "1.2.0",
       "_view_name": "LayoutView",
       "align_content": null,
       "align_items": null,
       "align_self": null,
       "border": null,
       "bottom": null,
       "display": null,
       "flex": null,
       "flex_flow": null,
       "grid_area": null,
       "grid_auto_columns": null,
       "grid_auto_flow": null,
       "grid_auto_rows": null,
       "grid_column": null,
       "grid_gap": null,
       "grid_row": null,
       "grid_template_areas": null,
       "grid_template_columns": null,
       "grid_template_rows": null,
       "height": null,
       "justify_content": null,
       "justify_items": null,
       "left": null,
       "margin": null,
       "max_height": null,
       "max_width": null,
       "min_height": null,
       "min_width": null,
       "object_fit": null,
       "object_position": null,
       "order": null,
       "overflow": null,
       "overflow_x": null,
       "overflow_y": null,
       "padding": null,
       "right": null,
       "top": null,
       "visibility": null,
       "width": null
      }
     }
    },
    "version_major": 2,
    "version_minor": 0
   }
  }
 },
 "nbformat": 4,
 "nbformat_minor": 5
}
